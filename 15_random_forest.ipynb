{
 "cells": [
  {
   "cell_type": "markdown",
   "id": "816bfbf3",
   "metadata": {},
   "source": [
    "#### **1. Importing Libraries**"
   ]
  },
  {
   "cell_type": "code",
   "execution_count": 1,
   "id": "97256b60",
   "metadata": {},
   "outputs": [],
   "source": [
    "import pandas as pd                                                 # Importing for panel data analysis\n",
    "#-------------------------------------------------------------------------------------------------------------------------------\n",
    "import numpy as np                                                  # Importing package numpys (For Numerical Python)\n",
    "#-------------------------------------------------------------------------------------------------------------------------------\n",
    "import matplotlib.pyplot as plt                                     # Importing pyplot interface of matplotlib\n",
    "import seaborn as sns                                               # Importing seaborn library for interactive visualization\n",
    "from sklearn.tree import DecisionTreeClassifier\n",
    "from sklearn.model_selection import StratifiedKFold\n",
    "from sklearn.metrics import classification_report, confusion_matrix\n",
    "from sklearn.preprocessing import LabelEncoder\n",
    "from sklearn.preprocessing import OneHotEncoder\n",
    "%matplotlib inline\n",
    "import random\n",
    "import math\n",
    "import time\n",
    "import os\n",
    "#--------------------~-----------------------------------------------------------------------------------------------------------\n",
    "from sklearn.model_selection import train_test_split\n",
    "#--------------------~-----------------------------------------------------------------------------------------------------------\n",
    "import warnings                                                     # Importing warning to disable runtime warnings\n",
    "warnings.filterwarnings(\"ignore\")                                   # Warnings will appear only once"
   ]
  },
  {
   "cell_type": "code",
   "execution_count": 2,
   "id": "9f7b95a3",
   "metadata": {},
   "outputs": [
    {
     "name": "stdout",
     "output_type": "stream",
     "text": [
      "Shape of the dataset: (274, 10)\n"
     ]
    },
    {
     "data": {
      "text/html": [
       "<div>\n",
       "<style scoped>\n",
       "    .dataframe tbody tr th:only-of-type {\n",
       "        vertical-align: middle;\n",
       "    }\n",
       "\n",
       "    .dataframe tbody tr th {\n",
       "        vertical-align: top;\n",
       "    }\n",
       "\n",
       "    .dataframe thead th {\n",
       "        text-align: right;\n",
       "    }\n",
       "</style>\n",
       "<table border=\"1\" class=\"dataframe\">\n",
       "  <thead>\n",
       "    <tr style=\"text-align: right;\">\n",
       "      <th></th>\n",
       "      <th>Island</th>\n",
       "      <th>Clutch Completion</th>\n",
       "      <th>Culmen Length (mm)</th>\n",
       "      <th>Culmen Depth (mm)</th>\n",
       "      <th>Flipper Length (mm)</th>\n",
       "      <th>Body Mass (g)</th>\n",
       "      <th>Sex</th>\n",
       "      <th>Delta 15 N (o/oo)</th>\n",
       "      <th>Delta 13 C (o/oo)</th>\n",
       "      <th>Species</th>\n",
       "    </tr>\n",
       "  </thead>\n",
       "  <tbody>\n",
       "    <tr>\n",
       "      <th>0</th>\n",
       "      <td>Biscoe</td>\n",
       "      <td>Yes</td>\n",
       "      <td>38.8</td>\n",
       "      <td>17.2</td>\n",
       "      <td>180.0</td>\n",
       "      <td>3800.0</td>\n",
       "      <td>MALE</td>\n",
       "      <td>9.63954</td>\n",
       "      <td>-25.29856</td>\n",
       "      <td>Adelie Penguin (Pygoscelis adeliae)</td>\n",
       "    </tr>\n",
       "    <tr>\n",
       "      <th>1</th>\n",
       "      <td>Torgersen</td>\n",
       "      <td>Yes</td>\n",
       "      <td>41.1</td>\n",
       "      <td>18.6</td>\n",
       "      <td>189.0</td>\n",
       "      <td>3325.0</td>\n",
       "      <td>MALE</td>\n",
       "      <td>9.32277</td>\n",
       "      <td>-26.09989</td>\n",
       "      <td>Adelie Penguin (Pygoscelis adeliae)</td>\n",
       "    </tr>\n",
       "    <tr>\n",
       "      <th>2</th>\n",
       "      <td>Biscoe</td>\n",
       "      <td>Yes</td>\n",
       "      <td>39.0</td>\n",
       "      <td>17.5</td>\n",
       "      <td>186.0</td>\n",
       "      <td>3550.0</td>\n",
       "      <td>FEMALE</td>\n",
       "      <td>8.57199</td>\n",
       "      <td>-26.07188</td>\n",
       "      <td>Adelie Penguin (Pygoscelis adeliae)</td>\n",
       "    </tr>\n",
       "  </tbody>\n",
       "</table>\n",
       "</div>"
      ],
      "text/plain": [
       "      Island Clutch Completion  Culmen Length (mm)  Culmen Depth (mm)  \\\n",
       "0     Biscoe               Yes                38.8               17.2   \n",
       "1  Torgersen               Yes                41.1               18.6   \n",
       "2     Biscoe               Yes                39.0               17.5   \n",
       "\n",
       "   Flipper Length (mm)  Body Mass (g)     Sex  Delta 15 N (o/oo)  \\\n",
       "0                180.0         3800.0    MALE            9.63954   \n",
       "1                189.0         3325.0    MALE            9.32277   \n",
       "2                186.0         3550.0  FEMALE            8.57199   \n",
       "\n",
       "   Delta 13 C (o/oo)                              Species  \n",
       "0          -25.29856  Adelie Penguin (Pygoscelis adeliae)  \n",
       "1          -26.09989  Adelie Penguin (Pygoscelis adeliae)  \n",
       "2          -26.07188  Adelie Penguin (Pygoscelis adeliae)  "
      ]
     },
     "execution_count": 2,
     "metadata": {},
     "output_type": "execute_result"
    }
   ],
   "source": [
    "# import training data into pandas dataframe\n",
    "train_csv = pd.read_csv('./data/penguins_train.csv')\n",
    "print('Shape of the dataset:', train_csv.shape)\n",
    "train_csv.head(3)"
   ]
  },
  {
   "cell_type": "markdown",
   "id": "31d212df",
   "metadata": {},
   "source": [
    "#### **2. Data Preprocessing**\n",
    "- Here we try to understand our data and preprocess it to the desirable format.\n",
    "- All the observations are written in bullet points in markdown."
   ]
  },
  {
   "cell_type": "code",
   "execution_count": 3,
   "id": "55e3084c",
   "metadata": {},
   "outputs": [
    {
     "name": "stdout",
     "output_type": "stream",
     "text": [
      "<class 'pandas.core.frame.DataFrame'>\n",
      "RangeIndex: 274 entries, 0 to 273\n",
      "Data columns (total 10 columns):\n",
      " #   Column               Non-Null Count  Dtype  \n",
      "---  ------               --------------  -----  \n",
      " 0   Island               274 non-null    object \n",
      " 1   Clutch Completion    274 non-null    object \n",
      " 2   Culmen Length (mm)   272 non-null    float64\n",
      " 3   Culmen Depth (mm)    272 non-null    float64\n",
      " 4   Flipper Length (mm)  272 non-null    float64\n",
      " 5   Body Mass (g)        272 non-null    float64\n",
      " 6   Sex                  267 non-null    object \n",
      " 7   Delta 15 N (o/oo)    262 non-null    float64\n",
      " 8   Delta 13 C (o/oo)    263 non-null    float64\n",
      " 9   Species              274 non-null    object \n",
      "dtypes: float64(6), object(4)\n",
      "memory usage: 21.5+ KB\n"
     ]
    }
   ],
   "source": [
    "train_csv.info()"
   ]
  },
  {
   "cell_type": "markdown",
   "id": "b0768076",
   "metadata": {},
   "source": [
    "- From above we can observe that there are missing values in the attributes: <br />\n",
    "    'Culmen Length (mm)', 'Culmen Depth (mm)', 'Flipper Length (mm)', 'Body Mass (g)', 'Sex', 'Delta 15 N (o/oo)', 'Delta 13 C (o/oo)'."
   ]
  },
  {
   "cell_type": "code",
   "execution_count": 4,
   "id": "f1417cfe",
   "metadata": {},
   "outputs": [
    {
     "data": {
      "text/html": [
       "<div>\n",
       "<style scoped>\n",
       "    .dataframe tbody tr th:only-of-type {\n",
       "        vertical-align: middle;\n",
       "    }\n",
       "\n",
       "    .dataframe tbody tr th {\n",
       "        vertical-align: top;\n",
       "    }\n",
       "\n",
       "    .dataframe thead th {\n",
       "        text-align: right;\n",
       "    }\n",
       "</style>\n",
       "<table border=\"1\" class=\"dataframe\">\n",
       "  <thead>\n",
       "    <tr style=\"text-align: right;\">\n",
       "      <th></th>\n",
       "      <th>Island</th>\n",
       "      <th>Clutch Completion</th>\n",
       "      <th>Culmen Length (mm)</th>\n",
       "      <th>Culmen Depth (mm)</th>\n",
       "      <th>Flipper Length (mm)</th>\n",
       "      <th>Body Mass (g)</th>\n",
       "      <th>Sex</th>\n",
       "      <th>Delta 15 N (o/oo)</th>\n",
       "      <th>Delta 13 C (o/oo)</th>\n",
       "      <th>Species</th>\n",
       "    </tr>\n",
       "  </thead>\n",
       "  <tbody>\n",
       "    <tr>\n",
       "      <th>7</th>\n",
       "      <td>Dream</td>\n",
       "      <td>Yes</td>\n",
       "      <td>40.8</td>\n",
       "      <td>18.4</td>\n",
       "      <td>195.0</td>\n",
       "      <td>3900.0</td>\n",
       "      <td>MALE</td>\n",
       "      <td>NaN</td>\n",
       "      <td>NaN</td>\n",
       "      <td>Adelie Penguin (Pygoscelis adeliae)</td>\n",
       "    </tr>\n",
       "    <tr>\n",
       "      <th>26</th>\n",
       "      <td>Torgersen</td>\n",
       "      <td>Yes</td>\n",
       "      <td>42.0</td>\n",
       "      <td>20.2</td>\n",
       "      <td>190.0</td>\n",
       "      <td>4250.0</td>\n",
       "      <td>NaN</td>\n",
       "      <td>9.13362</td>\n",
       "      <td>-25.09368</td>\n",
       "      <td>Adelie Penguin (Pygoscelis adeliae)</td>\n",
       "    </tr>\n",
       "    <tr>\n",
       "      <th>51</th>\n",
       "      <td>Dream</td>\n",
       "      <td>Yes</td>\n",
       "      <td>51.9</td>\n",
       "      <td>19.5</td>\n",
       "      <td>206.0</td>\n",
       "      <td>3950.0</td>\n",
       "      <td>MALE</td>\n",
       "      <td>NaN</td>\n",
       "      <td>-23.78767</td>\n",
       "      <td>Chinstrap penguin (Pygoscelis antarctica)</td>\n",
       "    </tr>\n",
       "    <tr>\n",
       "      <th>62</th>\n",
       "      <td>Torgersen</td>\n",
       "      <td>Yes</td>\n",
       "      <td>36.6</td>\n",
       "      <td>17.8</td>\n",
       "      <td>185.0</td>\n",
       "      <td>3700.0</td>\n",
       "      <td>FEMALE</td>\n",
       "      <td>NaN</td>\n",
       "      <td>NaN</td>\n",
       "      <td>Adelie Penguin (Pygoscelis adeliae)</td>\n",
       "    </tr>\n",
       "    <tr>\n",
       "      <th>82</th>\n",
       "      <td>Torgersen</td>\n",
       "      <td>Yes</td>\n",
       "      <td>37.8</td>\n",
       "      <td>17.3</td>\n",
       "      <td>180.0</td>\n",
       "      <td>3700.0</td>\n",
       "      <td>NaN</td>\n",
       "      <td>NaN</td>\n",
       "      <td>NaN</td>\n",
       "      <td>Adelie Penguin (Pygoscelis adeliae)</td>\n",
       "    </tr>\n",
       "    <tr>\n",
       "      <th>97</th>\n",
       "      <td>Biscoe</td>\n",
       "      <td>Yes</td>\n",
       "      <td>47.3</td>\n",
       "      <td>15.3</td>\n",
       "      <td>222.0</td>\n",
       "      <td>5250.0</td>\n",
       "      <td>MALE</td>\n",
       "      <td>NaN</td>\n",
       "      <td>NaN</td>\n",
       "      <td>Gentoo penguin (Pygoscelis papua)</td>\n",
       "    </tr>\n",
       "    <tr>\n",
       "      <th>169</th>\n",
       "      <td>Biscoe</td>\n",
       "      <td>No</td>\n",
       "      <td>NaN</td>\n",
       "      <td>NaN</td>\n",
       "      <td>NaN</td>\n",
       "      <td>NaN</td>\n",
       "      <td>NaN</td>\n",
       "      <td>NaN</td>\n",
       "      <td>NaN</td>\n",
       "      <td>Gentoo penguin (Pygoscelis papua)</td>\n",
       "    </tr>\n",
       "    <tr>\n",
       "      <th>170</th>\n",
       "      <td>Torgersen</td>\n",
       "      <td>Yes</td>\n",
       "      <td>38.6</td>\n",
       "      <td>21.2</td>\n",
       "      <td>191.0</td>\n",
       "      <td>3800.0</td>\n",
       "      <td>MALE</td>\n",
       "      <td>NaN</td>\n",
       "      <td>NaN</td>\n",
       "      <td>Adelie Penguin (Pygoscelis adeliae)</td>\n",
       "    </tr>\n",
       "    <tr>\n",
       "      <th>197</th>\n",
       "      <td>Torgersen</td>\n",
       "      <td>Yes</td>\n",
       "      <td>34.1</td>\n",
       "      <td>18.1</td>\n",
       "      <td>193.0</td>\n",
       "      <td>3475.0</td>\n",
       "      <td>NaN</td>\n",
       "      <td>NaN</td>\n",
       "      <td>NaN</td>\n",
       "      <td>Adelie Penguin (Pygoscelis adeliae)</td>\n",
       "    </tr>\n",
       "    <tr>\n",
       "      <th>206</th>\n",
       "      <td>Biscoe</td>\n",
       "      <td>Yes</td>\n",
       "      <td>46.2</td>\n",
       "      <td>14.4</td>\n",
       "      <td>214.0</td>\n",
       "      <td>4650.0</td>\n",
       "      <td>NaN</td>\n",
       "      <td>8.24253</td>\n",
       "      <td>-26.81540</td>\n",
       "      <td>Gentoo penguin (Pygoscelis papua)</td>\n",
       "    </tr>\n",
       "    <tr>\n",
       "      <th>207</th>\n",
       "      <td>Dream</td>\n",
       "      <td>No</td>\n",
       "      <td>39.8</td>\n",
       "      <td>19.1</td>\n",
       "      <td>184.0</td>\n",
       "      <td>4650.0</td>\n",
       "      <td>MALE</td>\n",
       "      <td>NaN</td>\n",
       "      <td>NaN</td>\n",
       "      <td>Adelie Penguin (Pygoscelis adeliae)</td>\n",
       "    </tr>\n",
       "    <tr>\n",
       "      <th>212</th>\n",
       "      <td>Torgersen</td>\n",
       "      <td>Yes</td>\n",
       "      <td>37.8</td>\n",
       "      <td>17.1</td>\n",
       "      <td>186.0</td>\n",
       "      <td>3300.0</td>\n",
       "      <td>NaN</td>\n",
       "      <td>8.63243</td>\n",
       "      <td>-25.21315</td>\n",
       "      <td>Adelie Penguin (Pygoscelis adeliae)</td>\n",
       "    </tr>\n",
       "    <tr>\n",
       "      <th>218</th>\n",
       "      <td>Torgersen</td>\n",
       "      <td>Yes</td>\n",
       "      <td>41.1</td>\n",
       "      <td>17.6</td>\n",
       "      <td>182.0</td>\n",
       "      <td>3200.0</td>\n",
       "      <td>FEMALE</td>\n",
       "      <td>NaN</td>\n",
       "      <td>NaN</td>\n",
       "      <td>Adelie Penguin (Pygoscelis adeliae)</td>\n",
       "    </tr>\n",
       "    <tr>\n",
       "      <th>229</th>\n",
       "      <td>Dream</td>\n",
       "      <td>Yes</td>\n",
       "      <td>41.1</td>\n",
       "      <td>19.0</td>\n",
       "      <td>182.0</td>\n",
       "      <td>3425.0</td>\n",
       "      <td>MALE</td>\n",
       "      <td>NaN</td>\n",
       "      <td>NaN</td>\n",
       "      <td>Adelie Penguin (Pygoscelis adeliae)</td>\n",
       "    </tr>\n",
       "    <tr>\n",
       "      <th>248</th>\n",
       "      <td>Torgersen</td>\n",
       "      <td>Yes</td>\n",
       "      <td>NaN</td>\n",
       "      <td>NaN</td>\n",
       "      <td>NaN</td>\n",
       "      <td>NaN</td>\n",
       "      <td>NaN</td>\n",
       "      <td>NaN</td>\n",
       "      <td>NaN</td>\n",
       "      <td>Adelie Penguin (Pygoscelis adeliae)</td>\n",
       "    </tr>\n",
       "  </tbody>\n",
       "</table>\n",
       "</div>"
      ],
      "text/plain": [
       "        Island Clutch Completion  Culmen Length (mm)  Culmen Depth (mm)  \\\n",
       "7        Dream               Yes                40.8               18.4   \n",
       "26   Torgersen               Yes                42.0               20.2   \n",
       "51       Dream               Yes                51.9               19.5   \n",
       "62   Torgersen               Yes                36.6               17.8   \n",
       "82   Torgersen               Yes                37.8               17.3   \n",
       "97      Biscoe               Yes                47.3               15.3   \n",
       "169     Biscoe                No                 NaN                NaN   \n",
       "170  Torgersen               Yes                38.6               21.2   \n",
       "197  Torgersen               Yes                34.1               18.1   \n",
       "206     Biscoe               Yes                46.2               14.4   \n",
       "207      Dream                No                39.8               19.1   \n",
       "212  Torgersen               Yes                37.8               17.1   \n",
       "218  Torgersen               Yes                41.1               17.6   \n",
       "229      Dream               Yes                41.1               19.0   \n",
       "248  Torgersen               Yes                 NaN                NaN   \n",
       "\n",
       "     Flipper Length (mm)  Body Mass (g)     Sex  Delta 15 N (o/oo)  \\\n",
       "7                  195.0         3900.0    MALE                NaN   \n",
       "26                 190.0         4250.0     NaN            9.13362   \n",
       "51                 206.0         3950.0    MALE                NaN   \n",
       "62                 185.0         3700.0  FEMALE                NaN   \n",
       "82                 180.0         3700.0     NaN                NaN   \n",
       "97                 222.0         5250.0    MALE                NaN   \n",
       "169                  NaN            NaN     NaN                NaN   \n",
       "170                191.0         3800.0    MALE                NaN   \n",
       "197                193.0         3475.0     NaN                NaN   \n",
       "206                214.0         4650.0     NaN            8.24253   \n",
       "207                184.0         4650.0    MALE                NaN   \n",
       "212                186.0         3300.0     NaN            8.63243   \n",
       "218                182.0         3200.0  FEMALE                NaN   \n",
       "229                182.0         3425.0    MALE                NaN   \n",
       "248                  NaN            NaN     NaN                NaN   \n",
       "\n",
       "     Delta 13 C (o/oo)                                    Species  \n",
       "7                  NaN        Adelie Penguin (Pygoscelis adeliae)  \n",
       "26           -25.09368        Adelie Penguin (Pygoscelis adeliae)  \n",
       "51           -23.78767  Chinstrap penguin (Pygoscelis antarctica)  \n",
       "62                 NaN        Adelie Penguin (Pygoscelis adeliae)  \n",
       "82                 NaN        Adelie Penguin (Pygoscelis adeliae)  \n",
       "97                 NaN          Gentoo penguin (Pygoscelis papua)  \n",
       "169                NaN          Gentoo penguin (Pygoscelis papua)  \n",
       "170                NaN        Adelie Penguin (Pygoscelis adeliae)  \n",
       "197                NaN        Adelie Penguin (Pygoscelis adeliae)  \n",
       "206          -26.81540          Gentoo penguin (Pygoscelis papua)  \n",
       "207                NaN        Adelie Penguin (Pygoscelis adeliae)  \n",
       "212          -25.21315        Adelie Penguin (Pygoscelis adeliae)  \n",
       "218                NaN        Adelie Penguin (Pygoscelis adeliae)  \n",
       "229                NaN        Adelie Penguin (Pygoscelis adeliae)  \n",
       "248                NaN        Adelie Penguin (Pygoscelis adeliae)  "
      ]
     },
     "execution_count": 4,
     "metadata": {},
     "output_type": "execute_result"
    }
   ],
   "source": [
    "# Visualize the rows that have missing values\n",
    "train_csv[train_csv.isnull().any(axis=1)]"
   ]
  },
  {
   "cell_type": "markdown",
   "id": "bf929749",
   "metadata": {},
   "source": [
    "- So, in total we have 15 rows out of 274 where missing data exists. This makes 5% of the entire data."
   ]
  },
  {
   "cell_type": "markdown",
   "id": "49e0f46a",
   "metadata": {},
   "source": [
    "----"
   ]
  },
  {
   "cell_type": "markdown",
   "id": "16ca4c0c",
   "metadata": {},
   "source": [
    "- Let's analyze number of unique values in each of the categorical columns"
   ]
  },
  {
   "cell_type": "code",
   "execution_count": 5,
   "id": "b8fc1e5b",
   "metadata": {},
   "outputs": [
    {
     "name": "stdout",
     "output_type": "stream",
     "text": [
      "Island\n",
      "Biscoe       132\n",
      "Dream        102\n",
      "Torgersen     40\n",
      "Name: count, dtype: int64\n",
      "----------------------------------\n",
      "Clutch Completion\n",
      "Yes    245\n",
      "No      29\n",
      "Name: count, dtype: int64\n",
      "----------------------------------\n",
      "Species\n",
      "Adelie Penguin (Pygoscelis adeliae)          121\n",
      "Gentoo penguin (Pygoscelis papua)             95\n",
      "Chinstrap penguin (Pygoscelis antarctica)     58\n",
      "Name: count, dtype: int64\n",
      "----------------------------------\n",
      "Sex\n",
      "MALE      135\n",
      "FEMALE    131\n",
      ".           1\n",
      "Name: count, dtype: int64\n",
      "----------------------------------\n"
     ]
    }
   ],
   "source": [
    "print(train_csv[\"Island\"].value_counts())\n",
    "print(\"----------------------------------\")\n",
    "print(train_csv[\"Clutch Completion\"].value_counts())\n",
    "print(\"----------------------------------\")\n",
    "print(train_csv[\"Species\"].value_counts())\n",
    "print(\"----------------------------------\")\n",
    "print(train_csv[\"Sex\"].value_counts())\n",
    "print(\"----------------------------------\")"
   ]
  },
  {
   "cell_type": "code",
   "execution_count": 6,
   "id": "716c6285",
   "metadata": {},
   "outputs": [
    {
     "data": {
      "text/html": [
       "<div>\n",
       "<style scoped>\n",
       "    .dataframe tbody tr th:only-of-type {\n",
       "        vertical-align: middle;\n",
       "    }\n",
       "\n",
       "    .dataframe tbody tr th {\n",
       "        vertical-align: top;\n",
       "    }\n",
       "\n",
       "    .dataframe thead th {\n",
       "        text-align: right;\n",
       "    }\n",
       "</style>\n",
       "<table border=\"1\" class=\"dataframe\">\n",
       "  <thead>\n",
       "    <tr style=\"text-align: right;\">\n",
       "      <th></th>\n",
       "      <th>Island</th>\n",
       "      <th>Clutch Completion</th>\n",
       "      <th>Culmen Length (mm)</th>\n",
       "      <th>Culmen Depth (mm)</th>\n",
       "      <th>Flipper Length (mm)</th>\n",
       "      <th>Body Mass (g)</th>\n",
       "      <th>Sex</th>\n",
       "      <th>Delta 15 N (o/oo)</th>\n",
       "      <th>Delta 13 C (o/oo)</th>\n",
       "      <th>Species</th>\n",
       "    </tr>\n",
       "  </thead>\n",
       "  <tbody>\n",
       "    <tr>\n",
       "      <th>219</th>\n",
       "      <td>Biscoe</td>\n",
       "      <td>Yes</td>\n",
       "      <td>44.5</td>\n",
       "      <td>15.7</td>\n",
       "      <td>217.0</td>\n",
       "      <td>4875.0</td>\n",
       "      <td>.</td>\n",
       "      <td>8.04111</td>\n",
       "      <td>-26.18444</td>\n",
       "      <td>Gentoo penguin (Pygoscelis papua)</td>\n",
       "    </tr>\n",
       "  </tbody>\n",
       "</table>\n",
       "</div>"
      ],
      "text/plain": [
       "     Island Clutch Completion  Culmen Length (mm)  Culmen Depth (mm)  \\\n",
       "219  Biscoe               Yes                44.5               15.7   \n",
       "\n",
       "     Flipper Length (mm)  Body Mass (g) Sex  Delta 15 N (o/oo)  \\\n",
       "219                217.0         4875.0   .            8.04111   \n",
       "\n",
       "     Delta 13 C (o/oo)                            Species  \n",
       "219          -26.18444  Gentoo penguin (Pygoscelis papua)  "
      ]
     },
     "execution_count": 6,
     "metadata": {},
     "output_type": "execute_result"
    }
   ],
   "source": [
    "# Display the row where there is an anomolous value `.` in 'Sex' column.\n",
    "results = train_csv.loc[train_csv[\"Sex\"] == '.']\n",
    "results"
   ]
  },
  {
   "cell_type": "code",
   "execution_count": 7,
   "id": "2485c4d6",
   "metadata": {},
   "outputs": [],
   "source": [
    "# Insert the Null (NaN) value in place of '.' value\n",
    "train_csv.at[219,'Sex']=np.nan"
   ]
  },
  {
   "cell_type": "code",
   "execution_count": 8,
   "id": "b6582500",
   "metadata": {},
   "outputs": [
    {
     "name": "stdout",
     "output_type": "stream",
     "text": [
      "<class 'pandas.core.frame.DataFrame'>\n",
      "RangeIndex: 274 entries, 0 to 273\n",
      "Data columns (total 10 columns):\n",
      " #   Column               Non-Null Count  Dtype  \n",
      "---  ------               --------------  -----  \n",
      " 0   Island               274 non-null    object \n",
      " 1   Clutch Completion    274 non-null    object \n",
      " 2   Culmen Length (mm)   272 non-null    float64\n",
      " 3   Culmen Depth (mm)    272 non-null    float64\n",
      " 4   Flipper Length (mm)  272 non-null    float64\n",
      " 5   Body Mass (g)        272 non-null    float64\n",
      " 6   Sex                  266 non-null    object \n",
      " 7   Delta 15 N (o/oo)    262 non-null    float64\n",
      " 8   Delta 13 C (o/oo)    263 non-null    float64\n",
      " 9   Species              274 non-null    object \n",
      "dtypes: float64(6), object(4)\n",
      "memory usage: 21.5+ KB\n"
     ]
    }
   ],
   "source": [
    "train_csv.info()"
   ]
  },
  {
   "cell_type": "markdown",
   "id": "d99278c1",
   "metadata": {},
   "source": [
    "----"
   ]
  },
  {
   "cell_type": "markdown",
   "id": "2782ed55",
   "metadata": {},
   "source": [
    "- To fill in the missing values, we may consider an imputation technique.\n",
    "- Let's normalize the data (continuous attributes) before considering any imputation techniques.\n",
    "- We are choosing z-score normalization to retain the outlier information."
   ]
  },
  {
   "cell_type": "code",
   "execution_count": 9,
   "id": "0ccc9f22",
   "metadata": {},
   "outputs": [],
   "source": [
    "train_csv[\"Culmen Length (mm)\"] = (train_csv[\"Culmen Length (mm)\"] - train_csv[\"Culmen Length (mm)\"].mean())/train_csv[\"Culmen Length (mm)\"].std()\n",
    "train_csv[\"Culmen Depth (mm)\"] = (train_csv[\"Culmen Depth (mm)\"] - train_csv[\"Culmen Depth (mm)\"].mean())/train_csv[\"Culmen Depth (mm)\"].std()\n",
    "train_csv[\"Flipper Length (mm)\"] = (train_csv[\"Flipper Length (mm)\"] - train_csv[\"Flipper Length (mm)\"].mean())/train_csv[\"Flipper Length (mm)\"].std()\n",
    "train_csv[\"Body Mass (g)\"] = (train_csv[\"Body Mass (g)\"] - train_csv[\"Body Mass (g)\"].mean())/train_csv[\"Body Mass (g)\"].std()\n",
    "train_csv[\"Delta 15 N (o/oo)\"] = (train_csv[\"Delta 15 N (o/oo)\"] - train_csv[\"Delta 15 N (o/oo)\"].mean())/train_csv[\"Delta 15 N (o/oo)\"].std()\n",
    "train_csv[\"Delta 13 C (o/oo)\"] = (train_csv[\"Delta 13 C (o/oo)\"] - train_csv[\"Delta 13 C (o/oo)\"].mean())/train_csv[\"Delta 13 C (o/oo)\"].std()"
   ]
  },
  {
   "cell_type": "code",
   "execution_count": 10,
   "id": "89cb1b35",
   "metadata": {},
   "outputs": [
    {
     "data": {
      "text/html": [
       "<div>\n",
       "<style scoped>\n",
       "    .dataframe tbody tr th:only-of-type {\n",
       "        vertical-align: middle;\n",
       "    }\n",
       "\n",
       "    .dataframe tbody tr th {\n",
       "        vertical-align: top;\n",
       "    }\n",
       "\n",
       "    .dataframe thead th {\n",
       "        text-align: right;\n",
       "    }\n",
       "</style>\n",
       "<table border=\"1\" class=\"dataframe\">\n",
       "  <thead>\n",
       "    <tr style=\"text-align: right;\">\n",
       "      <th></th>\n",
       "      <th>Island</th>\n",
       "      <th>Clutch Completion</th>\n",
       "      <th>Culmen Length (mm)</th>\n",
       "      <th>Culmen Depth (mm)</th>\n",
       "      <th>Flipper Length (mm)</th>\n",
       "      <th>Body Mass (g)</th>\n",
       "      <th>Sex</th>\n",
       "      <th>Delta 15 N (o/oo)</th>\n",
       "      <th>Delta 13 C (o/oo)</th>\n",
       "      <th>Species</th>\n",
       "    </tr>\n",
       "  </thead>\n",
       "  <tbody>\n",
       "    <tr>\n",
       "      <th>0</th>\n",
       "      <td>Biscoe</td>\n",
       "      <td>Yes</td>\n",
       "      <td>-0.939709</td>\n",
       "      <td>0.008650</td>\n",
       "      <td>-1.479594</td>\n",
       "      <td>-0.477481</td>\n",
       "      <td>MALE</td>\n",
       "      <td>1.581213</td>\n",
       "      <td>0.457687</td>\n",
       "      <td>Adelie Penguin (Pygoscelis adeliae)</td>\n",
       "    </tr>\n",
       "    <tr>\n",
       "      <th>1</th>\n",
       "      <td>Torgersen</td>\n",
       "      <td>Yes</td>\n",
       "      <td>-0.524978</td>\n",
       "      <td>0.724744</td>\n",
       "      <td>-0.837160</td>\n",
       "      <td>-1.069378</td>\n",
       "      <td>MALE</td>\n",
       "      <td>1.018050</td>\n",
       "      <td>-0.534716</td>\n",
       "      <td>Adelie Penguin (Pygoscelis adeliae)</td>\n",
       "    </tr>\n",
       "    <tr>\n",
       "      <th>2</th>\n",
       "      <td>Biscoe</td>\n",
       "      <td>Yes</td>\n",
       "      <td>-0.903646</td>\n",
       "      <td>0.162099</td>\n",
       "      <td>-1.051305</td>\n",
       "      <td>-0.789006</td>\n",
       "      <td>FEMALE</td>\n",
       "      <td>-0.316707</td>\n",
       "      <td>-0.500027</td>\n",
       "      <td>Adelie Penguin (Pygoscelis adeliae)</td>\n",
       "    </tr>\n",
       "  </tbody>\n",
       "</table>\n",
       "</div>"
      ],
      "text/plain": [
       "      Island Clutch Completion  Culmen Length (mm)  Culmen Depth (mm)  \\\n",
       "0     Biscoe               Yes           -0.939709           0.008650   \n",
       "1  Torgersen               Yes           -0.524978           0.724744   \n",
       "2     Biscoe               Yes           -0.903646           0.162099   \n",
       "\n",
       "   Flipper Length (mm)  Body Mass (g)     Sex  Delta 15 N (o/oo)  \\\n",
       "0            -1.479594      -0.477481    MALE           1.581213   \n",
       "1            -0.837160      -1.069378    MALE           1.018050   \n",
       "2            -1.051305      -0.789006  FEMALE          -0.316707   \n",
       "\n",
       "   Delta 13 C (o/oo)                              Species  \n",
       "0           0.457687  Adelie Penguin (Pygoscelis adeliae)  \n",
       "1          -0.534716  Adelie Penguin (Pygoscelis adeliae)  \n",
       "2          -0.500027  Adelie Penguin (Pygoscelis adeliae)  "
      ]
     },
     "execution_count": 10,
     "metadata": {},
     "output_type": "execute_result"
    }
   ],
   "source": [
    "train_csv.head(3)"
   ]
  },
  {
   "cell_type": "markdown",
   "id": "e68ea215",
   "metadata": {},
   "source": [
    "----"
   ]
  },
  {
   "cell_type": "markdown",
   "id": "d75c57f6",
   "metadata": {},
   "source": [
    "- Let's analyze the continuous valued attribute `Culmen Length (mm)`"
   ]
  },
  {
   "cell_type": "code",
   "execution_count": 11,
   "id": "c5b285f8",
   "metadata": {},
   "outputs": [
    {
     "data": {
      "text/html": [
       "<div>\n",
       "<style scoped>\n",
       "    .dataframe tbody tr th:only-of-type {\n",
       "        vertical-align: middle;\n",
       "    }\n",
       "\n",
       "    .dataframe tbody tr th {\n",
       "        vertical-align: top;\n",
       "    }\n",
       "\n",
       "    .dataframe thead th {\n",
       "        text-align: right;\n",
       "    }\n",
       "</style>\n",
       "<table border=\"1\" class=\"dataframe\">\n",
       "  <thead>\n",
       "    <tr style=\"text-align: right;\">\n",
       "      <th></th>\n",
       "      <th>Island</th>\n",
       "      <th>Clutch Completion</th>\n",
       "      <th>Culmen Length (mm)</th>\n",
       "      <th>Culmen Depth (mm)</th>\n",
       "      <th>Flipper Length (mm)</th>\n",
       "      <th>Body Mass (g)</th>\n",
       "      <th>Sex</th>\n",
       "      <th>Delta 15 N (o/oo)</th>\n",
       "      <th>Delta 13 C (o/oo)</th>\n",
       "      <th>Species</th>\n",
       "    </tr>\n",
       "  </thead>\n",
       "  <tbody>\n",
       "    <tr>\n",
       "      <th>169</th>\n",
       "      <td>Biscoe</td>\n",
       "      <td>No</td>\n",
       "      <td>NaN</td>\n",
       "      <td>NaN</td>\n",
       "      <td>NaN</td>\n",
       "      <td>NaN</td>\n",
       "      <td>NaN</td>\n",
       "      <td>NaN</td>\n",
       "      <td>NaN</td>\n",
       "      <td>Gentoo penguin (Pygoscelis papua)</td>\n",
       "    </tr>\n",
       "    <tr>\n",
       "      <th>248</th>\n",
       "      <td>Torgersen</td>\n",
       "      <td>Yes</td>\n",
       "      <td>NaN</td>\n",
       "      <td>NaN</td>\n",
       "      <td>NaN</td>\n",
       "      <td>NaN</td>\n",
       "      <td>NaN</td>\n",
       "      <td>NaN</td>\n",
       "      <td>NaN</td>\n",
       "      <td>Adelie Penguin (Pygoscelis adeliae)</td>\n",
       "    </tr>\n",
       "  </tbody>\n",
       "</table>\n",
       "</div>"
      ],
      "text/plain": [
       "        Island Clutch Completion  Culmen Length (mm)  Culmen Depth (mm)  \\\n",
       "169     Biscoe                No                 NaN                NaN   \n",
       "248  Torgersen               Yes                 NaN                NaN   \n",
       "\n",
       "     Flipper Length (mm)  Body Mass (g)  Sex  Delta 15 N (o/oo)  \\\n",
       "169                  NaN            NaN  NaN                NaN   \n",
       "248                  NaN            NaN  NaN                NaN   \n",
       "\n",
       "     Delta 13 C (o/oo)                              Species  \n",
       "169                NaN    Gentoo penguin (Pygoscelis papua)  \n",
       "248                NaN  Adelie Penguin (Pygoscelis adeliae)  "
      ]
     },
     "execution_count": 11,
     "metadata": {},
     "output_type": "execute_result"
    }
   ],
   "source": [
    "train_csv[train_csv['Culmen Length (mm)'].isnull()]"
   ]
  },
  {
   "cell_type": "code",
   "execution_count": 12,
   "id": "2c81221c",
   "metadata": {},
   "outputs": [
    {
     "data": {
      "text/plain": [
       "count    2.720000e+02\n",
       "mean    -6.791953e-16\n",
       "std      1.000000e+00\n",
       "min     -2.147840e+00\n",
       "25%     -8.134865e-01\n",
       "50%      7.908804e-02\n",
       "75%      8.499478e-01\n",
       "max      2.810907e+00\n",
       "Name: Culmen Length (mm), dtype: float64"
      ]
     },
     "execution_count": 12,
     "metadata": {},
     "output_type": "execute_result"
    }
   ],
   "source": [
    "train_csv[\"Culmen Length (mm)\"].describe()"
   ]
  },
  {
   "cell_type": "code",
   "execution_count": 13,
   "id": "9eefeca2",
   "metadata": {},
   "outputs": [
    {
     "data": {
      "image/png": "[encoded data removed]",
      "text/plain": [
       "<Figure size 640x480 with 1 Axes>"
      ]
     },
     "metadata": {},
     "output_type": "display_data"
    }
   ],
   "source": [
    "# Creating Box-plot to analyze data distribution\n",
    "figure = plt.figure()                                                                  # Creating a custom figure size\n",
    "sns.boxplot(x='Species', y='Culmen Length (mm)', palette='rainbow', data=train_csv)    # Using seaborn's boxplot() function\n",
    "plt.xlabel(xlabel='Species')                                                           # Labelling x-axis with a custom label\n",
    "plt.xticks(rotation=5)\n",
    "plt.ylabel(ylabel='Culmen Length (normalized)')                                                # Labelling y-axis with a custom label\n",
    "plt.title(label='Fig. 1\\n Culmen Length (normalized) Distribution for different species')      # Labelling title with a custom label\n",
    "plt.grid(visible=True)\n",
    "plt.show()"
   ]
  },
  {
   "cell_type": "markdown",
   "id": "b2bf924b",
   "metadata": {},
   "source": [
    "- From the box-plot, we oberve that, for the class `Adelie Penguine`, the `Culmen Length` data distribution is almost symmentric. Therefore, to fill the corresponding `NaN` value at index 248, we will use the mean of the values having the same class.\n",
    "- From the box-plot, we oberve that, for the class `Gentoo Penguine`, the `Culmen Length` data distribution is has got outliers. Therefore, to fill the corresponding `NaN` value at index 169, we will use the median of the values having the same class."
   ]
  },
  {
   "cell_type": "code",
   "execution_count": 14,
   "id": "c70ccf17",
   "metadata": {},
   "outputs": [],
   "source": [
    "df_species_adelie = train_csv.loc[train_csv[\"Species\"] == 'Adelie Penguin (Pygoscelis adeliae)']\n",
    "df_species_gentoo = train_csv.loc[train_csv[\"Species\"] == 'Gentoo penguin (Pygoscelis papua)']"
   ]
  },
  {
   "cell_type": "code",
   "execution_count": 15,
   "id": "fd247b3c",
   "metadata": {},
   "outputs": [],
   "source": [
    "train_csv.at[248,'Culmen Length (mm)'] = df_species_adelie[\"Culmen Length (mm)\"].mean()\n",
    "train_csv.at[169,'Culmen Length (mm)'] = df_species_gentoo[\"Culmen Length (mm)\"].median()"
   ]
  },
  {
   "cell_type": "code",
   "execution_count": 16,
   "metadata": {},
   "outputs": [
    {
     "data": {
      "text/html": [
       "<div>\n",
       "<style scoped>\n",
       "    .dataframe tbody tr th:only-of-type {\n",
       "        vertical-align: middle;\n",
       "    }\n",
       "\n",
       "    .dataframe tbody tr th {\n",
       "        vertical-align: top;\n",
       "    }\n",
       "\n",
       "    .dataframe thead th {\n",
       "        text-align: right;\n",
       "    }\n",
       "</style>\n",
       "<table border=\"1\" class=\"dataframe\">\n",
       "  <thead>\n",
       "    <tr style=\"text-align: right;\">\n",
       "      <th></th>\n",
       "      <th>Island</th>\n",
       "      <th>Clutch Completion</th>\n",
       "      <th>Culmen Length (mm)</th>\n",
       "      <th>Culmen Depth (mm)</th>\n",
       "      <th>Flipper Length (mm)</th>\n",
       "      <th>Body Mass (g)</th>\n",
       "      <th>Sex</th>\n",
       "      <th>Delta 15 N (o/oo)</th>\n",
       "      <th>Delta 13 C (o/oo)</th>\n",
       "      <th>Species</th>\n",
       "    </tr>\n",
       "  </thead>\n",
       "  <tbody>\n",
       "  </tbody>\n",
       "</table>\n",
       "</div>"
      ],
      "text/plain": [
       "Empty DataFrame\n",
       "Columns: [Island, Clutch Completion, Culmen Length (mm), Culmen Depth (mm), Flipper Length (mm), Body Mass (g), Sex, Delta 15 N (o/oo), Delta 13 C (o/oo), Species]\n",
       "Index: []"
      ]
     },
     "execution_count": 16,
     "metadata": {},
     "output_type": "execute_result"
    }
   ],
   "source": [
    "train_csv[train_csv['Culmen Length (mm)'].isnull()]"
   ]
  },
  {
   "cell_type": "markdown",
   "id": "55701bb8",
   "metadata": {},
   "source": [
    "- We have filled the missing values of `Culmen Length (mm)` attribute"
   ]
  },
  {
   "cell_type": "markdown",
   "id": "976971fd",
   "metadata": {},
   "source": [
    "----"
   ]
  },
  {
   "cell_type": "markdown",
   "id": "14729ac4",
   "metadata": {},
   "source": [
    "- Let's analyze the continuous valued attribute `Culmen Depth (mm)`"
   ]
  },
  {
   "cell_type": "code",
   "execution_count": 17,
   "id": "cec446cb",
   "metadata": {},
   "outputs": [
    {
     "data": {
      "text/html": [
       "<div>\n",
       "<style scoped>\n",
       "    .dataframe tbody tr th:only-of-type {\n",
       "        vertical-align: middle;\n",
       "    }\n",
       "\n",
       "    .dataframe tbody tr th {\n",
       "        vertical-align: top;\n",
       "    }\n",
       "\n",
       "    .dataframe thead th {\n",
       "        text-align: right;\n",
       "    }\n",
       "</style>\n",
       "<table border=\"1\" class=\"dataframe\">\n",
       "  <thead>\n",
       "    <tr style=\"text-align: right;\">\n",
       "      <th></th>\n",
       "      <th>Island</th>\n",
       "      <th>Clutch Completion</th>\n",
       "      <th>Culmen Length (mm)</th>\n",
       "      <th>Culmen Depth (mm)</th>\n",
       "      <th>Flipper Length (mm)</th>\n",
       "      <th>Body Mass (g)</th>\n",
       "      <th>Sex</th>\n",
       "      <th>Delta 15 N (o/oo)</th>\n",
       "      <th>Delta 13 C (o/oo)</th>\n",
       "      <th>Species</th>\n",
       "    </tr>\n",
       "  </thead>\n",
       "  <tbody>\n",
       "    <tr>\n",
       "      <th>169</th>\n",
       "      <td>Biscoe</td>\n",
       "      <td>No</td>\n",
       "      <td>0.620042</td>\n",
       "      <td>NaN</td>\n",
       "      <td>NaN</td>\n",
       "      <td>NaN</td>\n",
       "      <td>NaN</td>\n",
       "      <td>NaN</td>\n",
       "      <td>NaN</td>\n",
       "      <td>Gentoo penguin (Pygoscelis papua)</td>\n",
       "    </tr>\n",
       "    <tr>\n",
       "      <th>248</th>\n",
       "      <td>Torgersen</td>\n",
       "      <td>Yes</td>\n",
       "      <td>-0.942564</td>\n",
       "      <td>NaN</td>\n",
       "      <td>NaN</td>\n",
       "      <td>NaN</td>\n",
       "      <td>NaN</td>\n",
       "      <td>NaN</td>\n",
       "      <td>NaN</td>\n",
       "      <td>Adelie Penguin (Pygoscelis adeliae)</td>\n",
       "    </tr>\n",
       "  </tbody>\n",
       "</table>\n",
       "</div>"
      ],
      "text/plain": [
       "        Island Clutch Completion  Culmen Length (mm)  Culmen Depth (mm)  \\\n",
       "169     Biscoe                No            0.620042                NaN   \n",
       "248  Torgersen               Yes           -0.942564                NaN   \n",
       "\n",
       "     Flipper Length (mm)  Body Mass (g)  Sex  Delta 15 N (o/oo)  \\\n",
       "169                  NaN            NaN  NaN                NaN   \n",
       "248                  NaN            NaN  NaN                NaN   \n",
       "\n",
       "     Delta 13 C (o/oo)                              Species  \n",
       "169                NaN    Gentoo penguin (Pygoscelis papua)  \n",
       "248                NaN  Adelie Penguin (Pygoscelis adeliae)  "
      ]
     },
     "execution_count": 17,
     "metadata": {},
     "output_type": "execute_result"
    }
   ],
   "source": [
    "train_csv[train_csv['Culmen Depth (mm)'].isnull()]"
   ]
  },
  {
   "cell_type": "code",
   "execution_count": 18,
   "metadata": {},
   "outputs": [
    {
     "data": {
      "image/png": "[encoded data removed]",
      "text/plain": [
       "<Figure size 640x480 with 1 Axes>"
      ]
     },
     "metadata": {},
     "output_type": "display_data"
    }
   ],
   "source": [
    "# Creating Box-plot to analyze data distribution\n",
    "figure = plt.figure()                                                                  # Creating a custom figure size\n",
    "sns.boxplot(x='Species', y='Culmen Depth (mm)', palette='rainbow', data=train_csv)    # Using seaborn's boxplot() function\n",
    "plt.xlabel(xlabel='Species')                                                           # Labelling x-axis with a custom label\n",
    "plt.xticks(rotation=5)\n",
    "plt.ylabel(ylabel='Culmen Depth (normalized)')                                                # Labelling y-axis with a custom label\n",
    "plt.title(label='Fig. 2\\n Culmen Depth (normalized) Distribution for different species')      # Labelling title with a custom label\n",
    "plt.grid(visible=True)\n",
    "plt.show()"
   ]
  },
  {
   "cell_type": "markdown",
   "id": "e67d75bb",
   "metadata": {},
   "source": [
    "- From the box-plot, we oberve that, for the class `Adelie Penguine`, the `Culmen Length` data distribution is **slightly skewed**. Therefore, to fill the corresponding `NaN` value at index 248, we will use the **median** of the values having the same class.  \n",
    "- Also, for the class `Gentoo penguin`, the `Culmen Length` data distribution is almost symmentric. Therefore, to fill the corresponding `NaN` value at index 169, we will use the **mean** of the values having the same class.  "
   ]
  },
  {
   "cell_type": "code",
   "execution_count": 19,
   "id": "bd01c401",
   "metadata": {},
   "outputs": [],
   "source": [
    "train_csv.at[248,'Culmen Depth (mm)'] = df_species_adelie[\"Culmen Depth (mm)\"].median()\n",
    "train_csv.at[169,'Culmen Depth (mm)'] = df_species_gentoo[\"Culmen Depth (mm)\"].mean()\n"
   ]
  },
  {
   "cell_type": "code",
   "execution_count": 20,
   "id": "01a6a2a4",
   "metadata": {},
   "outputs": [
    {
     "data": {
      "text/html": [
       "<div>\n",
       "<style scoped>\n",
       "    .dataframe tbody tr th:only-of-type {\n",
       "        vertical-align: middle;\n",
       "    }\n",
       "\n",
       "    .dataframe tbody tr th {\n",
       "        vertical-align: top;\n",
       "    }\n",
       "\n",
       "    .dataframe thead th {\n",
       "        text-align: right;\n",
       "    }\n",
       "</style>\n",
       "<table border=\"1\" class=\"dataframe\">\n",
       "  <thead>\n",
       "    <tr style=\"text-align: right;\">\n",
       "      <th></th>\n",
       "      <th>Island</th>\n",
       "      <th>Clutch Completion</th>\n",
       "      <th>Culmen Length (mm)</th>\n",
       "      <th>Culmen Depth (mm)</th>\n",
       "      <th>Flipper Length (mm)</th>\n",
       "      <th>Body Mass (g)</th>\n",
       "      <th>Sex</th>\n",
       "      <th>Delta 15 N (o/oo)</th>\n",
       "      <th>Delta 13 C (o/oo)</th>\n",
       "      <th>Species</th>\n",
       "    </tr>\n",
       "  </thead>\n",
       "  <tbody>\n",
       "  </tbody>\n",
       "</table>\n",
       "</div>"
      ],
      "text/plain": [
       "Empty DataFrame\n",
       "Columns: [Island, Clutch Completion, Culmen Length (mm), Culmen Depth (mm), Flipper Length (mm), Body Mass (g), Sex, Delta 15 N (o/oo), Delta 13 C (o/oo), Species]\n",
       "Index: []"
      ]
     },
     "execution_count": 20,
     "metadata": {},
     "output_type": "execute_result"
    }
   ],
   "source": [
    "train_csv[train_csv['Culmen Depth (mm)'].isnull()]"
   ]
  },
  {
   "cell_type": "markdown",
   "id": "e9af9d9c",
   "metadata": {},
   "source": [
    "- We have successfully filled the missing values of `Culmen Depth (mm)` attribute"
   ]
  },
  {
   "cell_type": "markdown",
   "id": "b44afe38",
   "metadata": {},
   "source": [
    "----"
   ]
  },
  {
   "cell_type": "markdown",
   "id": "bd33141f",
   "metadata": {},
   "source": [
    "- Let's analyze the continuous valued attribute `Flipper Length (mm)`"
   ]
  },
  {
   "cell_type": "code",
   "execution_count": 21,
   "id": "f3ece6bc",
   "metadata": {},
   "outputs": [
    {
     "data": {
      "text/html": [
       "<div>\n",
       "<style scoped>\n",
       "    .dataframe tbody tr th:only-of-type {\n",
       "        vertical-align: middle;\n",
       "    }\n",
       "\n",
       "    .dataframe tbody tr th {\n",
       "        vertical-align: top;\n",
       "    }\n",
       "\n",
       "    .dataframe thead th {\n",
       "        text-align: right;\n",
       "    }\n",
       "</style>\n",
       "<table border=\"1\" class=\"dataframe\">\n",
       "  <thead>\n",
       "    <tr style=\"text-align: right;\">\n",
       "      <th></th>\n",
       "      <th>Island</th>\n",
       "      <th>Clutch Completion</th>\n",
       "      <th>Culmen Length (mm)</th>\n",
       "      <th>Culmen Depth (mm)</th>\n",
       "      <th>Flipper Length (mm)</th>\n",
       "      <th>Body Mass (g)</th>\n",
       "      <th>Sex</th>\n",
       "      <th>Delta 15 N (o/oo)</th>\n",
       "      <th>Delta 13 C (o/oo)</th>\n",
       "      <th>Species</th>\n",
       "    </tr>\n",
       "  </thead>\n",
       "  <tbody>\n",
       "    <tr>\n",
       "      <th>169</th>\n",
       "      <td>Biscoe</td>\n",
       "      <td>No</td>\n",
       "      <td>0.620042</td>\n",
       "      <td>-1.121538</td>\n",
       "      <td>NaN</td>\n",
       "      <td>NaN</td>\n",
       "      <td>NaN</td>\n",
       "      <td>NaN</td>\n",
       "      <td>NaN</td>\n",
       "      <td>Gentoo penguin (Pygoscelis papua)</td>\n",
       "    </tr>\n",
       "    <tr>\n",
       "      <th>248</th>\n",
       "      <td>Torgersen</td>\n",
       "      <td>Yes</td>\n",
       "      <td>-0.942564</td>\n",
       "      <td>0.622445</td>\n",
       "      <td>NaN</td>\n",
       "      <td>NaN</td>\n",
       "      <td>NaN</td>\n",
       "      <td>NaN</td>\n",
       "      <td>NaN</td>\n",
       "      <td>Adelie Penguin (Pygoscelis adeliae)</td>\n",
       "    </tr>\n",
       "  </tbody>\n",
       "</table>\n",
       "</div>"
      ],
      "text/plain": [
       "        Island Clutch Completion  Culmen Length (mm)  Culmen Depth (mm)  \\\n",
       "169     Biscoe                No            0.620042          -1.121538   \n",
       "248  Torgersen               Yes           -0.942564           0.622445   \n",
       "\n",
       "     Flipper Length (mm)  Body Mass (g)  Sex  Delta 15 N (o/oo)  \\\n",
       "169                  NaN            NaN  NaN                NaN   \n",
       "248                  NaN            NaN  NaN                NaN   \n",
       "\n",
       "     Delta 13 C (o/oo)                              Species  \n",
       "169                NaN    Gentoo penguin (Pygoscelis papua)  \n",
       "248                NaN  Adelie Penguin (Pygoscelis adeliae)  "
      ]
     },
     "execution_count": 21,
     "metadata": {},
     "output_type": "execute_result"
    }
   ],
   "source": [
    "train_csv[train_csv['Flipper Length (mm)'].isnull()]"
   ]
  },
  {
   "cell_type": "code",
   "execution_count": 22,
   "id": "730cfb26",
   "metadata": {},
   "outputs": [
    {
     "data": {
      "image/png": "[encoded data removed]",
      "text/plain": [
       "<Figure size 640x480 with 1 Axes>"
      ]
     },
     "metadata": {},
     "output_type": "display_data"
    }
   ],
   "source": [
    "# Creating Box-plot to analyze data distribution\n",
    "figure = plt.figure()                                                                  # Creating a custom figure size\n",
    "sns.boxplot(x='Species', y='Flipper Length (mm)', palette='rainbow', data=train_csv)   # Using seaborn's boxplot() function\n",
    "plt.xlabel(xlabel='Species')                                                           # Labelling x-axis with a custom label\n",
    "plt.xticks(rotation=5)\n",
    "plt.ylabel(ylabel='Flipper Length (normalized)')                                                # Labelling y-axis with a custom label\n",
    "plt.title(label='Fig. 3\\n Flipper Length (normalized) Distribution for different species')      # Labelling title with a custom label\n",
    "plt.grid(visible=True)\n",
    "plt.show()"
   ]
  },
  {
   "cell_type": "markdown",
   "id": "3bf9d287",
   "metadata": {},
   "source": [
    "- From the box-plot, we oberve a striking difference in the distribution of 'Flipper Length' for the classes 'Adelie Penguine' and 'Gentoo penguin'.\n",
    "- For the class `Adelie Penguine`, the `Flipper Length` data distribution is almost symmetric even with outliers. Therefore, to fill the corresponding `NaN` value at index 248, we will use the **mean** of the values having the same class.  \n",
    "- Also, for the class `Gentoo penguin`, the `Flipper Length` data distribution is almost symmentric. Therefore, to fill the corresponding `NaN` value at index 169, we will use the **mean** of the values having the same class.  "
   ]
  },
  {
   "cell_type": "code",
   "execution_count": 23,
   "id": "8883e4a2",
   "metadata": {},
   "outputs": [],
   "source": [
    "train_csv.at[248,'Flipper Length (mm)'] = df_species_adelie[\"Flipper Length (mm)\"].mean()\n",
    "train_csv.at[169,'Flipper Length (mm)'] = df_species_gentoo[\"Flipper Length (mm)\"].mean()"
   ]
  },
  {
   "cell_type": "code",
   "execution_count": 24,
   "id": "c524cb19",
   "metadata": {},
   "outputs": [
    {
     "data": {
      "text/html": [
       "<div>\n",
       "<style scoped>\n",
       "    .dataframe tbody tr th:only-of-type {\n",
       "        vertical-align: middle;\n",
       "    }\n",
       "\n",
       "    .dataframe tbody tr th {\n",
       "        vertical-align: top;\n",
       "    }\n",
       "\n",
       "    .dataframe thead th {\n",
       "        text-align: right;\n",
       "    }\n",
       "</style>\n",
       "<table border=\"1\" class=\"dataframe\">\n",
       "  <thead>\n",
       "    <tr style=\"text-align: right;\">\n",
       "      <th></th>\n",
       "      <th>Island</th>\n",
       "      <th>Clutch Completion</th>\n",
       "      <th>Culmen Length (mm)</th>\n",
       "      <th>Culmen Depth (mm)</th>\n",
       "      <th>Flipper Length (mm)</th>\n",
       "      <th>Body Mass (g)</th>\n",
       "      <th>Sex</th>\n",
       "      <th>Delta 15 N (o/oo)</th>\n",
       "      <th>Delta 13 C (o/oo)</th>\n",
       "      <th>Species</th>\n",
       "    </tr>\n",
       "  </thead>\n",
       "  <tbody>\n",
       "  </tbody>\n",
       "</table>\n",
       "</div>"
      ],
      "text/plain": [
       "Empty DataFrame\n",
       "Columns: [Island, Clutch Completion, Culmen Length (mm), Culmen Depth (mm), Flipper Length (mm), Body Mass (g), Sex, Delta 15 N (o/oo), Delta 13 C (o/oo), Species]\n",
       "Index: []"
      ]
     },
     "execution_count": 24,
     "metadata": {},
     "output_type": "execute_result"
    }
   ],
   "source": [
    "train_csv[train_csv['Flipper Length (mm)'].isnull()]"
   ]
  },
  {
   "cell_type": "markdown",
   "id": "7ec9921b",
   "metadata": {},
   "source": [
    "- We have filled the missing values of `Flipper Length (mm)` attribute"
   ]
  },
  {
   "cell_type": "markdown",
   "id": "c915cc6a",
   "metadata": {},
   "source": [
    "----"
   ]
  },
  {
   "cell_type": "markdown",
   "id": "4429adfb",
   "metadata": {},
   "source": [
    "- Let's analyze the continuous valued attribute `Body Mass (g)`"
   ]
  },
  {
   "cell_type": "code",
   "execution_count": 25,
   "id": "8b5d47a0",
   "metadata": {},
   "outputs": [
    {
     "data": {
      "text/html": [
       "<div>\n",
       "<style scoped>\n",
       "    .dataframe tbody tr th:only-of-type {\n",
       "        vertical-align: middle;\n",
       "    }\n",
       "\n",
       "    .dataframe tbody tr th {\n",
       "        vertical-align: top;\n",
       "    }\n",
       "\n",
       "    .dataframe thead th {\n",
       "        text-align: right;\n",
       "    }\n",
       "</style>\n",
       "<table border=\"1\" class=\"dataframe\">\n",
       "  <thead>\n",
       "    <tr style=\"text-align: right;\">\n",
       "      <th></th>\n",
       "      <th>Island</th>\n",
       "      <th>Clutch Completion</th>\n",
       "      <th>Culmen Length (mm)</th>\n",
       "      <th>Culmen Depth (mm)</th>\n",
       "      <th>Flipper Length (mm)</th>\n",
       "      <th>Body Mass (g)</th>\n",
       "      <th>Sex</th>\n",
       "      <th>Delta 15 N (o/oo)</th>\n",
       "      <th>Delta 13 C (o/oo)</th>\n",
       "      <th>Species</th>\n",
       "    </tr>\n",
       "  </thead>\n",
       "  <tbody>\n",
       "    <tr>\n",
       "      <th>169</th>\n",
       "      <td>Biscoe</td>\n",
       "      <td>No</td>\n",
       "      <td>0.620042</td>\n",
       "      <td>-1.121538</td>\n",
       "      <td>1.185826</td>\n",
       "      <td>NaN</td>\n",
       "      <td>NaN</td>\n",
       "      <td>NaN</td>\n",
       "      <td>NaN</td>\n",
       "      <td>Gentoo penguin (Pygoscelis papua)</td>\n",
       "    </tr>\n",
       "    <tr>\n",
       "      <th>248</th>\n",
       "      <td>Torgersen</td>\n",
       "      <td>Yes</td>\n",
       "      <td>-0.942564</td>\n",
       "      <td>0.622445</td>\n",
       "      <td>-0.774701</td>\n",
       "      <td>NaN</td>\n",
       "      <td>NaN</td>\n",
       "      <td>NaN</td>\n",
       "      <td>NaN</td>\n",
       "      <td>Adelie Penguin (Pygoscelis adeliae)</td>\n",
       "    </tr>\n",
       "  </tbody>\n",
       "</table>\n",
       "</div>"
      ],
      "text/plain": [
       "        Island Clutch Completion  Culmen Length (mm)  Culmen Depth (mm)  \\\n",
       "169     Biscoe                No            0.620042          -1.121538   \n",
       "248  Torgersen               Yes           -0.942564           0.622445   \n",
       "\n",
       "     Flipper Length (mm)  Body Mass (g)  Sex  Delta 15 N (o/oo)  \\\n",
       "169             1.185826            NaN  NaN                NaN   \n",
       "248            -0.774701            NaN  NaN                NaN   \n",
       "\n",
       "     Delta 13 C (o/oo)                              Species  \n",
       "169                NaN    Gentoo penguin (Pygoscelis papua)  \n",
       "248                NaN  Adelie Penguin (Pygoscelis adeliae)  "
      ]
     },
     "execution_count": 25,
     "metadata": {},
     "output_type": "execute_result"
    }
   ],
   "source": [
    "train_csv[train_csv['Body Mass (g)'].isnull()]"
   ]
  },
  {
   "cell_type": "code",
   "execution_count": 26,
   "id": "f78020f7",
   "metadata": {},
   "outputs": [
    {
     "data": {
      "image/png": "[encoded data removed]",
      "text/plain": [
       "<Figure size 640x480 with 1 Axes>"
      ]
     },
     "metadata": {},
     "output_type": "display_data"
    }
   ],
   "source": [
    "# Creating Box-plot to analyze data distribution\n",
    "figure = plt.figure()                                                                 # Creating a custom figure size\n",
    "sns.boxplot(x='Species', y='Body Mass (g)', palette='rainbow', data=train_csv)        # Using seaborn's boxplot() function\n",
    "plt.xlabel(xlabel='Species')                                                          # Labelling x-axis with a custom label\n",
    "plt.xticks(rotation=5)\n",
    "plt.ylabel(ylabel='Body Mass (normalized)')                                           # Labelling y-axis with a custom label\n",
    "plt.title(label='Fig. 4\\n Body Mass (normalized) Distribution for different species') # Labelling title with a custom label\n",
    "plt.grid(visible=True)\n",
    "plt.show()"
   ]
  },
  {
   "cell_type": "markdown",
   "id": "27634795",
   "metadata": {},
   "source": [
    "- From the box-plot, we oberve a striking difference in the distribution of 'Body Mass' for the classes 'Adelie Penguine' and 'Gentoo penguin'.\n",
    "- For the class `Adelie Penguine`, the `Body Mass` data distribution is slightly skewed. Therefore, to fill the corresponding `NaN` value at index 248, we will use the **median** of the values having the same class.  \n",
    "- Also, for the class `Gentoo penguin`, the `Body Mass` data distribution is slightly skewed. Therefore, to fill the corresponding `NaN` value at index 169, we will use the **median** of the values having the same class.  "
   ]
  },
  {
   "cell_type": "code",
   "execution_count": 27,
   "id": "0d4a698c",
   "metadata": {},
   "outputs": [],
   "source": [
    "train_csv.at[248,'Body Mass (g)'] = df_species_adelie[\"Body Mass (g)\"].median()\n",
    "train_csv.at[169,'Body Mass (g)'] = df_species_gentoo[\"Body Mass (g)\"].median()"
   ]
  },
  {
   "cell_type": "code",
   "execution_count": 28,
   "id": "94e9447f",
   "metadata": {},
   "outputs": [
    {
     "data": {
      "text/html": [
       "<div>\n",
       "<style scoped>\n",
       "    .dataframe tbody tr th:only-of-type {\n",
       "        vertical-align: middle;\n",
       "    }\n",
       "\n",
       "    .dataframe tbody tr th {\n",
       "        vertical-align: top;\n",
       "    }\n",
       "\n",
       "    .dataframe thead th {\n",
       "        text-align: right;\n",
       "    }\n",
       "</style>\n",
       "<table border=\"1\" class=\"dataframe\">\n",
       "  <thead>\n",
       "    <tr style=\"text-align: right;\">\n",
       "      <th></th>\n",
       "      <th>Island</th>\n",
       "      <th>Clutch Completion</th>\n",
       "      <th>Culmen Length (mm)</th>\n",
       "      <th>Culmen Depth (mm)</th>\n",
       "      <th>Flipper Length (mm)</th>\n",
       "      <th>Body Mass (g)</th>\n",
       "      <th>Sex</th>\n",
       "      <th>Delta 15 N (o/oo)</th>\n",
       "      <th>Delta 13 C (o/oo)</th>\n",
       "      <th>Species</th>\n",
       "    </tr>\n",
       "  </thead>\n",
       "  <tbody>\n",
       "  </tbody>\n",
       "</table>\n",
       "</div>"
      ],
      "text/plain": [
       "Empty DataFrame\n",
       "Columns: [Island, Clutch Completion, Culmen Length (mm), Culmen Depth (mm), Flipper Length (mm), Body Mass (g), Sex, Delta 15 N (o/oo), Delta 13 C (o/oo), Species]\n",
       "Index: []"
      ]
     },
     "execution_count": 28,
     "metadata": {},
     "output_type": "execute_result"
    }
   ],
   "source": [
    "train_csv[train_csv['Body Mass (g)'].isnull()]"
   ]
  },
  {
   "cell_type": "markdown",
   "id": "9fbf3c95",
   "metadata": {},
   "source": [
    "- We have successfully filled the missing values of `Body Mass (g)` attribute"
   ]
  },
  {
   "cell_type": "code",
   "execution_count": 29,
   "id": "0cfbf938",
   "metadata": {},
   "outputs": [
    {
     "data": {
      "image/png": "[encoded data removed]",
      "text/plain": [
       "<Figure size 1500x700 with 1 Axes>"
      ]
     },
     "metadata": {},
     "output_type": "display_data"
    }
   ],
   "source": [
    "figure = plt.figure(figsize=[15, 7])\n",
    "sns.scatterplot(x='Body Mass (g)', y='Flipper Length (mm)', hue='Species', data=train_csv)\n",
    "\n",
    "# plt.xticks(ticks=np.arange(0, 81, 5), size=12)\n",
    "# plt.xticks(np.arange(0, 90000, 1000), rotation=90)\n",
    "# Changing y-ticks ranging from 0 to 801 with step size of 50 and label size of 12\n",
    "# plt.yticks(ticks=np.arange(0, 16, 1))\n",
    "plt.xlabel(xlabel='Flipper Length (mm)')\n",
    "plt.ylabel(ylabel='Body mass (g)')\n",
    "plt.title(label='Fig. 5\\nFlipper Length vs Body Mass')\n",
    "plt.legend(fontsize=12)\n",
    "plt.show()"
   ]
  },
  {
   "cell_type": "code",
   "execution_count": 30,
   "id": "112f8e97",
   "metadata": {},
   "outputs": [
    {
     "data": {
      "image/png": "[encoded data removed]",
      "text/plain": [
       "<Figure size 1500x700 with 1 Axes>"
      ]
     },
     "metadata": {},
     "output_type": "display_data"
    }
   ],
   "source": [
    "figure = plt.figure(figsize=[15, 7])\n",
    "sns.scatterplot(x='Body Mass (g)', y='Culmen Length (mm)', hue='Species', data=train_csv)\n",
    "\n",
    "# plt.xticks(ticks=np.arange(0, 81, 5), size=12)\n",
    "# plt.xticks(np.arange(0, 90000, 1000), rotation=90)\n",
    "# Changing y-ticks ranging from 0 to 801 with step size of 50 and label size of 12\n",
    "# plt.yticks(ticks=np.arange(0, 16, 1))\n",
    "plt.xlabel(xlabel='Culmen Length (mm)')\n",
    "plt.ylabel(ylabel='Body mass (g)')\n",
    "plt.title(label='Fig. 6\\nCulmen Length vs Body Mass')\n",
    "plt.legend(fontsize=12)\n",
    "plt.show()"
   ]
  },
  {
   "cell_type": "markdown",
   "id": "4158cb89",
   "metadata": {},
   "source": [
    "----"
   ]
  },
  {
   "cell_type": "markdown",
   "id": "243c8a82",
   "metadata": {},
   "source": [
    "- Let's analyze the continuous valued attribute `Delta 15 N (o/oo)`"
   ]
  },
  {
   "cell_type": "code",
   "execution_count": 31,
   "id": "035bc899",
   "metadata": {},
   "outputs": [
    {
     "data": {
      "text/html": [
       "<div>\n",
       "<style scoped>\n",
       "    .dataframe tbody tr th:only-of-type {\n",
       "        vertical-align: middle;\n",
       "    }\n",
       "\n",
       "    .dataframe tbody tr th {\n",
       "        vertical-align: top;\n",
       "    }\n",
       "\n",
       "    .dataframe thead th {\n",
       "        text-align: right;\n",
       "    }\n",
       "</style>\n",
       "<table border=\"1\" class=\"dataframe\">\n",
       "  <thead>\n",
       "    <tr style=\"text-align: right;\">\n",
       "      <th></th>\n",
       "      <th>Island</th>\n",
       "      <th>Clutch Completion</th>\n",
       "      <th>Culmen Length (mm)</th>\n",
       "      <th>Culmen Depth (mm)</th>\n",
       "      <th>Flipper Length (mm)</th>\n",
       "      <th>Body Mass (g)</th>\n",
       "      <th>Sex</th>\n",
       "      <th>Delta 15 N (o/oo)</th>\n",
       "      <th>Delta 13 C (o/oo)</th>\n",
       "      <th>Species</th>\n",
       "    </tr>\n",
       "  </thead>\n",
       "  <tbody>\n",
       "    <tr>\n",
       "      <th>7</th>\n",
       "      <td>Dream</td>\n",
       "      <td>Yes</td>\n",
       "      <td>-0.579073</td>\n",
       "      <td>0.622445</td>\n",
       "      <td>-0.408870</td>\n",
       "      <td>-0.352871</td>\n",
       "      <td>MALE</td>\n",
       "      <td>NaN</td>\n",
       "      <td>NaN</td>\n",
       "      <td>Adelie Penguin (Pygoscelis adeliae)</td>\n",
       "    </tr>\n",
       "    <tr>\n",
       "      <th>51</th>\n",
       "      <td>Dream</td>\n",
       "      <td>Yes</td>\n",
       "      <td>1.422458</td>\n",
       "      <td>1.185091</td>\n",
       "      <td>0.376328</td>\n",
       "      <td>-0.290566</td>\n",
       "      <td>MALE</td>\n",
       "      <td>NaN</td>\n",
       "      <td>2.32884</td>\n",
       "      <td>Chinstrap penguin (Pygoscelis antarctica)</td>\n",
       "    </tr>\n",
       "    <tr>\n",
       "      <th>62</th>\n",
       "      <td>Torgersen</td>\n",
       "      <td>Yes</td>\n",
       "      <td>-1.336409</td>\n",
       "      <td>0.315548</td>\n",
       "      <td>-1.122686</td>\n",
       "      <td>-0.602091</td>\n",
       "      <td>FEMALE</td>\n",
       "      <td>NaN</td>\n",
       "      <td>NaN</td>\n",
       "      <td>Adelie Penguin (Pygoscelis adeliae)</td>\n",
       "    </tr>\n",
       "    <tr>\n",
       "      <th>82</th>\n",
       "      <td>Torgersen</td>\n",
       "      <td>Yes</td>\n",
       "      <td>-1.120027</td>\n",
       "      <td>0.059800</td>\n",
       "      <td>-1.479594</td>\n",
       "      <td>-0.602091</td>\n",
       "      <td>NaN</td>\n",
       "      <td>NaN</td>\n",
       "      <td>NaN</td>\n",
       "      <td>Adelie Penguin (Pygoscelis adeliae)</td>\n",
       "    </tr>\n",
       "    <tr>\n",
       "      <th>97</th>\n",
       "      <td>Biscoe</td>\n",
       "      <td>Yes</td>\n",
       "      <td>0.592995</td>\n",
       "      <td>-0.963192</td>\n",
       "      <td>1.518434</td>\n",
       "      <td>1.329364</td>\n",
       "      <td>MALE</td>\n",
       "      <td>NaN</td>\n",
       "      <td>NaN</td>\n",
       "      <td>Gentoo penguin (Pygoscelis papua)</td>\n",
       "    </tr>\n",
       "    <tr>\n",
       "      <th>169</th>\n",
       "      <td>Biscoe</td>\n",
       "      <td>No</td>\n",
       "      <td>0.620042</td>\n",
       "      <td>-1.121538</td>\n",
       "      <td>1.185826</td>\n",
       "      <td>1.080144</td>\n",
       "      <td>NaN</td>\n",
       "      <td>NaN</td>\n",
       "      <td>NaN</td>\n",
       "      <td>Gentoo penguin (Pygoscelis papua)</td>\n",
       "    </tr>\n",
       "    <tr>\n",
       "      <th>170</th>\n",
       "      <td>Torgersen</td>\n",
       "      <td>Yes</td>\n",
       "      <td>-0.975773</td>\n",
       "      <td>2.054633</td>\n",
       "      <td>-0.694396</td>\n",
       "      <td>-0.477481</td>\n",
       "      <td>MALE</td>\n",
       "      <td>NaN</td>\n",
       "      <td>NaN</td>\n",
       "      <td>Adelie Penguin (Pygoscelis adeliae)</td>\n",
       "    </tr>\n",
       "    <tr>\n",
       "      <th>197</th>\n",
       "      <td>Torgersen</td>\n",
       "      <td>Yes</td>\n",
       "      <td>-1.787204</td>\n",
       "      <td>0.468996</td>\n",
       "      <td>-0.551633</td>\n",
       "      <td>-0.882463</td>\n",
       "      <td>NaN</td>\n",
       "      <td>NaN</td>\n",
       "      <td>NaN</td>\n",
       "      <td>Adelie Penguin (Pygoscelis adeliae)</td>\n",
       "    </tr>\n",
       "    <tr>\n",
       "      <th>207</th>\n",
       "      <td>Dream</td>\n",
       "      <td>No</td>\n",
       "      <td>-0.759391</td>\n",
       "      <td>0.980492</td>\n",
       "      <td>-1.194068</td>\n",
       "      <td>0.581704</td>\n",
       "      <td>MALE</td>\n",
       "      <td>NaN</td>\n",
       "      <td>NaN</td>\n",
       "      <td>Adelie Penguin (Pygoscelis adeliae)</td>\n",
       "    </tr>\n",
       "    <tr>\n",
       "      <th>218</th>\n",
       "      <td>Torgersen</td>\n",
       "      <td>Yes</td>\n",
       "      <td>-0.524978</td>\n",
       "      <td>0.213249</td>\n",
       "      <td>-1.336831</td>\n",
       "      <td>-1.225141</td>\n",
       "      <td>FEMALE</td>\n",
       "      <td>NaN</td>\n",
       "      <td>NaN</td>\n",
       "      <td>Adelie Penguin (Pygoscelis adeliae)</td>\n",
       "    </tr>\n",
       "    <tr>\n",
       "      <th>229</th>\n",
       "      <td>Dream</td>\n",
       "      <td>Yes</td>\n",
       "      <td>-0.524978</td>\n",
       "      <td>0.929343</td>\n",
       "      <td>-1.336831</td>\n",
       "      <td>-0.944768</td>\n",
       "      <td>MALE</td>\n",
       "      <td>NaN</td>\n",
       "      <td>NaN</td>\n",
       "      <td>Adelie Penguin (Pygoscelis adeliae)</td>\n",
       "    </tr>\n",
       "    <tr>\n",
       "      <th>248</th>\n",
       "      <td>Torgersen</td>\n",
       "      <td>Yes</td>\n",
       "      <td>-0.942564</td>\n",
       "      <td>0.622445</td>\n",
       "      <td>-0.774701</td>\n",
       "      <td>-0.711124</td>\n",
       "      <td>NaN</td>\n",
       "      <td>NaN</td>\n",
       "      <td>NaN</td>\n",
       "      <td>Adelie Penguin (Pygoscelis adeliae)</td>\n",
       "    </tr>\n",
       "  </tbody>\n",
       "</table>\n",
       "</div>"
      ],
      "text/plain": [
       "        Island Clutch Completion  Culmen Length (mm)  Culmen Depth (mm)  \\\n",
       "7        Dream               Yes           -0.579073           0.622445   \n",
       "51       Dream               Yes            1.422458           1.185091   \n",
       "62   Torgersen               Yes           -1.336409           0.315548   \n",
       "82   Torgersen               Yes           -1.120027           0.059800   \n",
       "97      Biscoe               Yes            0.592995          -0.963192   \n",
       "169     Biscoe                No            0.620042          -1.121538   \n",
       "170  Torgersen               Yes           -0.975773           2.054633   \n",
       "197  Torgersen               Yes           -1.787204           0.468996   \n",
       "207      Dream                No           -0.759391           0.980492   \n",
       "218  Torgersen               Yes           -0.524978           0.213249   \n",
       "229      Dream               Yes           -0.524978           0.929343   \n",
       "248  Torgersen               Yes           -0.942564           0.622445   \n",
       "\n",
       "     Flipper Length (mm)  Body Mass (g)     Sex  Delta 15 N (o/oo)  \\\n",
       "7              -0.408870      -0.352871    MALE                NaN   \n",
       "51              0.376328      -0.290566    MALE                NaN   \n",
       "62             -1.122686      -0.602091  FEMALE                NaN   \n",
       "82             -1.479594      -0.602091     NaN                NaN   \n",
       "97              1.518434       1.329364    MALE                NaN   \n",
       "169             1.185826       1.080144     NaN                NaN   \n",
       "170            -0.694396      -0.477481    MALE                NaN   \n",
       "197            -0.551633      -0.882463     NaN                NaN   \n",
       "207            -1.194068       0.581704    MALE                NaN   \n",
       "218            -1.336831      -1.225141  FEMALE                NaN   \n",
       "229            -1.336831      -0.944768    MALE                NaN   \n",
       "248            -0.774701      -0.711124     NaN                NaN   \n",
       "\n",
       "     Delta 13 C (o/oo)                                    Species  \n",
       "7                  NaN        Adelie Penguin (Pygoscelis adeliae)  \n",
       "51             2.32884  Chinstrap penguin (Pygoscelis antarctica)  \n",
       "62                 NaN        Adelie Penguin (Pygoscelis adeliae)  \n",
       "82                 NaN        Adelie Penguin (Pygoscelis adeliae)  \n",
       "97                 NaN          Gentoo penguin (Pygoscelis papua)  \n",
       "169                NaN          Gentoo penguin (Pygoscelis papua)  \n",
       "170                NaN        Adelie Penguin (Pygoscelis adeliae)  \n",
       "197                NaN        Adelie Penguin (Pygoscelis adeliae)  \n",
       "207                NaN        Adelie Penguin (Pygoscelis adeliae)  \n",
       "218                NaN        Adelie Penguin (Pygoscelis adeliae)  \n",
       "229                NaN        Adelie Penguin (Pygoscelis adeliae)  \n",
       "248                NaN        Adelie Penguin (Pygoscelis adeliae)  "
      ]
     },
     "execution_count": 31,
     "metadata": {},
     "output_type": "execute_result"
    }
   ],
   "source": [
    "train_csv[train_csv['Delta 15 N (o/oo)'].isnull()]"
   ]
  },
  {
   "cell_type": "code",
   "execution_count": 32,
   "id": "74a3eb1f",
   "metadata": {},
   "outputs": [
    {
     "data": {
      "image/png": "[encoded data removed]",
      "text/plain": [
       "<Figure size 640x480 with 1 Axes>"
      ]
     },
     "metadata": {},
     "output_type": "display_data"
    }
   ],
   "source": [
    "# Creating Box-plot to analyze data distribution\n",
    "figure = plt.figure()                                                                 # Creating a custom figure size\n",
    "sns.boxplot(x='Species', y='Delta 15 N (o/oo)', palette='rainbow', data=train_csv)        # Using seaborn's boxplot() function\n",
    "plt.xlabel(xlabel='Species')                                                          # Labelling x-axis with a custom label\n",
    "plt.xticks(rotation=5)\n",
    "plt.ylabel(ylabel='Delta 15 N (normalized)')                                           # Labelling y-axis with a custom label\n",
    "plt.title(label='Fig. 4\\n Delta 15 N (normalized) Distribution for different species') # Labelling title with a custom label\n",
    "plt.grid(visible=True)\n",
    "plt.show()"
   ]
  },
  {
   "cell_type": "markdown",
   "id": "86f55ade",
   "metadata": {},
   "source": [
    "- For the class `Adelie Penguine`, the `Delta 15 N (o/oo)` data distribution is slightly skewed. Therefore, to fill the corresponding `NaN`, we will use the **median** of the values having the same class.  \n",
    "- Also, for the class `Gentoo penguin`, the `Delta 15 N (o/oo)` data distribution is almost symmentrical. Therefore, to fill the corresponding `NaN`, we will use the **mean** of the values having the same class.  \n",
    "- And, for the class `Chinstrap penguin`, the `Delta 15 N (o/oo)` data distribution is almost symmentrical. Therefore, to fill the corresponding `NaN` value, we will use the **mean** of the values having the same class.  "
   ]
  },
  {
   "cell_type": "code",
   "execution_count": 33,
   "metadata": {},
   "outputs": [],
   "source": [
    "df_species_chinstrap = train_csv.loc[train_csv[\"Species\"] == 'Chinstrap penguin (Pygoscelis antarctica)']\n",
    "\n",
    "value_adelie = df_species_adelie[\"Delta 15 N (o/oo)\"].median()\n",
    "value_gentoo = df_species_gentoo[\"Delta 15 N (o/oo)\"].mean()\n",
    "value_chinstrap = df_species_chinstrap[\"Delta 15 N (o/oo)\"].mean()"
   ]
  },
  {
   "cell_type": "code",
   "execution_count": 34,
   "id": "2a814734",
   "metadata": {},
   "outputs": [],
   "source": [
    "# results = train_csv.loc[(train_csv[\"Delta 15 N (o/oo)\"].isnull()) & (train_csv[\"Species\"] == 'Gentoo penguin (Pygoscelis papua)')]\n",
    "# results"
   ]
  },
  {
   "cell_type": "code",
   "execution_count": 35,
   "id": "a78a0ee4",
   "metadata": {},
   "outputs": [],
   "source": [
    "train_csv.loc[(train_csv[\"Delta 15 N (o/oo)\"].isnull()) & (train_csv[\"Species\"] == 'Adelie Penguin (Pygoscelis adeliae)'), ['Delta 15 N (o/oo)']] = value_adelie\n",
    "train_csv.loc[(train_csv[\"Delta 15 N (o/oo)\"].isnull()) & (train_csv[\"Species\"] == 'Gentoo penguin (Pygoscelis papua)'), ['Delta 15 N (o/oo)']] = value_gentoo\n",
    "train_csv.loc[(train_csv[\"Delta 15 N (o/oo)\"].isnull()) & (train_csv[\"Species\"] == 'Chinstrap penguin (Pygoscelis antarctica)'), ['Delta 15 N (o/oo)']] = value_chinstrap"
   ]
  },
  {
   "cell_type": "code",
   "execution_count": 36,
   "id": "6941aeba",
   "metadata": {},
   "outputs": [
    {
     "data": {
      "text/html": [
       "<div>\n",
       "<style scoped>\n",
       "    .dataframe tbody tr th:only-of-type {\n",
       "        vertical-align: middle;\n",
       "    }\n",
       "\n",
       "    .dataframe tbody tr th {\n",
       "        vertical-align: top;\n",
       "    }\n",
       "\n",
       "    .dataframe thead th {\n",
       "        text-align: right;\n",
       "    }\n",
       "</style>\n",
       "<table border=\"1\" class=\"dataframe\">\n",
       "  <thead>\n",
       "    <tr style=\"text-align: right;\">\n",
       "      <th></th>\n",
       "      <th>Island</th>\n",
       "      <th>Clutch Completion</th>\n",
       "      <th>Culmen Length (mm)</th>\n",
       "      <th>Culmen Depth (mm)</th>\n",
       "      <th>Flipper Length (mm)</th>\n",
       "      <th>Body Mass (g)</th>\n",
       "      <th>Sex</th>\n",
       "      <th>Delta 15 N (o/oo)</th>\n",
       "      <th>Delta 13 C (o/oo)</th>\n",
       "      <th>Species</th>\n",
       "    </tr>\n",
       "  </thead>\n",
       "  <tbody>\n",
       "  </tbody>\n",
       "</table>\n",
       "</div>"
      ],
      "text/plain": [
       "Empty DataFrame\n",
       "Columns: [Island, Clutch Completion, Culmen Length (mm), Culmen Depth (mm), Flipper Length (mm), Body Mass (g), Sex, Delta 15 N (o/oo), Delta 13 C (o/oo), Species]\n",
       "Index: []"
      ]
     },
     "execution_count": 36,
     "metadata": {},
     "output_type": "execute_result"
    }
   ],
   "source": [
    "train_csv[train_csv['Delta 15 N (o/oo)'].isnull()]"
   ]
  },
  {
   "cell_type": "markdown",
   "id": "cb116976",
   "metadata": {},
   "source": [
    "- We have successfully filled the missing values of `Delta 15 N (o/oo)` attribute"
   ]
  },
  {
   "cell_type": "markdown",
   "id": "e6103d74",
   "metadata": {},
   "source": [
    "----"
   ]
  },
  {
   "cell_type": "markdown",
   "id": "b0de53c9",
   "metadata": {},
   "source": [
    "- Let's analyze the continuous valued attribute `Delta 13 C (o/oo)`"
   ]
  },
  {
   "cell_type": "code",
   "execution_count": 37,
   "id": "4107d86e",
   "metadata": {},
   "outputs": [
    {
     "data": {
      "text/html": [
       "<div>\n",
       "<style scoped>\n",
       "    .dataframe tbody tr th:only-of-type {\n",
       "        vertical-align: middle;\n",
       "    }\n",
       "\n",
       "    .dataframe tbody tr th {\n",
       "        vertical-align: top;\n",
       "    }\n",
       "\n",
       "    .dataframe thead th {\n",
       "        text-align: right;\n",
       "    }\n",
       "</style>\n",
       "<table border=\"1\" class=\"dataframe\">\n",
       "  <thead>\n",
       "    <tr style=\"text-align: right;\">\n",
       "      <th></th>\n",
       "      <th>Island</th>\n",
       "      <th>Clutch Completion</th>\n",
       "      <th>Culmen Length (mm)</th>\n",
       "      <th>Culmen Depth (mm)</th>\n",
       "      <th>Flipper Length (mm)</th>\n",
       "      <th>Body Mass (g)</th>\n",
       "      <th>Sex</th>\n",
       "      <th>Delta 15 N (o/oo)</th>\n",
       "      <th>Delta 13 C (o/oo)</th>\n",
       "      <th>Species</th>\n",
       "    </tr>\n",
       "  </thead>\n",
       "  <tbody>\n",
       "    <tr>\n",
       "      <th>7</th>\n",
       "      <td>Dream</td>\n",
       "      <td>Yes</td>\n",
       "      <td>-0.579073</td>\n",
       "      <td>0.622445</td>\n",
       "      <td>-0.408870</td>\n",
       "      <td>-0.352871</td>\n",
       "      <td>MALE</td>\n",
       "      <td>0.207308</td>\n",
       "      <td>NaN</td>\n",
       "      <td>Adelie Penguin (Pygoscelis adeliae)</td>\n",
       "    </tr>\n",
       "    <tr>\n",
       "      <th>62</th>\n",
       "      <td>Torgersen</td>\n",
       "      <td>Yes</td>\n",
       "      <td>-1.336409</td>\n",
       "      <td>0.315548</td>\n",
       "      <td>-1.122686</td>\n",
       "      <td>-0.602091</td>\n",
       "      <td>FEMALE</td>\n",
       "      <td>0.207308</td>\n",
       "      <td>NaN</td>\n",
       "      <td>Adelie Penguin (Pygoscelis adeliae)</td>\n",
       "    </tr>\n",
       "    <tr>\n",
       "      <th>82</th>\n",
       "      <td>Torgersen</td>\n",
       "      <td>Yes</td>\n",
       "      <td>-1.120027</td>\n",
       "      <td>0.059800</td>\n",
       "      <td>-1.479594</td>\n",
       "      <td>-0.602091</td>\n",
       "      <td>NaN</td>\n",
       "      <td>0.207308</td>\n",
       "      <td>NaN</td>\n",
       "      <td>Adelie Penguin (Pygoscelis adeliae)</td>\n",
       "    </tr>\n",
       "    <tr>\n",
       "      <th>97</th>\n",
       "      <td>Biscoe</td>\n",
       "      <td>Yes</td>\n",
       "      <td>0.592995</td>\n",
       "      <td>-0.963192</td>\n",
       "      <td>1.518434</td>\n",
       "      <td>1.329364</td>\n",
       "      <td>MALE</td>\n",
       "      <td>-0.882649</td>\n",
       "      <td>NaN</td>\n",
       "      <td>Gentoo penguin (Pygoscelis papua)</td>\n",
       "    </tr>\n",
       "    <tr>\n",
       "      <th>169</th>\n",
       "      <td>Biscoe</td>\n",
       "      <td>No</td>\n",
       "      <td>0.620042</td>\n",
       "      <td>-1.121538</td>\n",
       "      <td>1.185826</td>\n",
       "      <td>1.080144</td>\n",
       "      <td>NaN</td>\n",
       "      <td>-0.882649</td>\n",
       "      <td>NaN</td>\n",
       "      <td>Gentoo penguin (Pygoscelis papua)</td>\n",
       "    </tr>\n",
       "    <tr>\n",
       "      <th>170</th>\n",
       "      <td>Torgersen</td>\n",
       "      <td>Yes</td>\n",
       "      <td>-0.975773</td>\n",
       "      <td>2.054633</td>\n",
       "      <td>-0.694396</td>\n",
       "      <td>-0.477481</td>\n",
       "      <td>MALE</td>\n",
       "      <td>0.207308</td>\n",
       "      <td>NaN</td>\n",
       "      <td>Adelie Penguin (Pygoscelis adeliae)</td>\n",
       "    </tr>\n",
       "    <tr>\n",
       "      <th>197</th>\n",
       "      <td>Torgersen</td>\n",
       "      <td>Yes</td>\n",
       "      <td>-1.787204</td>\n",
       "      <td>0.468996</td>\n",
       "      <td>-0.551633</td>\n",
       "      <td>-0.882463</td>\n",
       "      <td>NaN</td>\n",
       "      <td>0.207308</td>\n",
       "      <td>NaN</td>\n",
       "      <td>Adelie Penguin (Pygoscelis adeliae)</td>\n",
       "    </tr>\n",
       "    <tr>\n",
       "      <th>207</th>\n",
       "      <td>Dream</td>\n",
       "      <td>No</td>\n",
       "      <td>-0.759391</td>\n",
       "      <td>0.980492</td>\n",
       "      <td>-1.194068</td>\n",
       "      <td>0.581704</td>\n",
       "      <td>MALE</td>\n",
       "      <td>0.207308</td>\n",
       "      <td>NaN</td>\n",
       "      <td>Adelie Penguin (Pygoscelis adeliae)</td>\n",
       "    </tr>\n",
       "    <tr>\n",
       "      <th>218</th>\n",
       "      <td>Torgersen</td>\n",
       "      <td>Yes</td>\n",
       "      <td>-0.524978</td>\n",
       "      <td>0.213249</td>\n",
       "      <td>-1.336831</td>\n",
       "      <td>-1.225141</td>\n",
       "      <td>FEMALE</td>\n",
       "      <td>0.207308</td>\n",
       "      <td>NaN</td>\n",
       "      <td>Adelie Penguin (Pygoscelis adeliae)</td>\n",
       "    </tr>\n",
       "    <tr>\n",
       "      <th>229</th>\n",
       "      <td>Dream</td>\n",
       "      <td>Yes</td>\n",
       "      <td>-0.524978</td>\n",
       "      <td>0.929343</td>\n",
       "      <td>-1.336831</td>\n",
       "      <td>-0.944768</td>\n",
       "      <td>MALE</td>\n",
       "      <td>0.207308</td>\n",
       "      <td>NaN</td>\n",
       "      <td>Adelie Penguin (Pygoscelis adeliae)</td>\n",
       "    </tr>\n",
       "    <tr>\n",
       "      <th>248</th>\n",
       "      <td>Torgersen</td>\n",
       "      <td>Yes</td>\n",
       "      <td>-0.942564</td>\n",
       "      <td>0.622445</td>\n",
       "      <td>-0.774701</td>\n",
       "      <td>-0.711124</td>\n",
       "      <td>NaN</td>\n",
       "      <td>0.207308</td>\n",
       "      <td>NaN</td>\n",
       "      <td>Adelie Penguin (Pygoscelis adeliae)</td>\n",
       "    </tr>\n",
       "  </tbody>\n",
       "</table>\n",
       "</div>"
      ],
      "text/plain": [
       "        Island Clutch Completion  Culmen Length (mm)  Culmen Depth (mm)  \\\n",
       "7        Dream               Yes           -0.579073           0.622445   \n",
       "62   Torgersen               Yes           -1.336409           0.315548   \n",
       "82   Torgersen               Yes           -1.120027           0.059800   \n",
       "97      Biscoe               Yes            0.592995          -0.963192   \n",
       "169     Biscoe                No            0.620042          -1.121538   \n",
       "170  Torgersen               Yes           -0.975773           2.054633   \n",
       "197  Torgersen               Yes           -1.787204           0.468996   \n",
       "207      Dream                No           -0.759391           0.980492   \n",
       "218  Torgersen               Yes           -0.524978           0.213249   \n",
       "229      Dream               Yes           -0.524978           0.929343   \n",
       "248  Torgersen               Yes           -0.942564           0.622445   \n",
       "\n",
       "     Flipper Length (mm)  Body Mass (g)     Sex  Delta 15 N (o/oo)  \\\n",
       "7              -0.408870      -0.352871    MALE           0.207308   \n",
       "62             -1.122686      -0.602091  FEMALE           0.207308   \n",
       "82             -1.479594      -0.602091     NaN           0.207308   \n",
       "97              1.518434       1.329364    MALE          -0.882649   \n",
       "169             1.185826       1.080144     NaN          -0.882649   \n",
       "170            -0.694396      -0.477481    MALE           0.207308   \n",
       "197            -0.551633      -0.882463     NaN           0.207308   \n",
       "207            -1.194068       0.581704    MALE           0.207308   \n",
       "218            -1.336831      -1.225141  FEMALE           0.207308   \n",
       "229            -1.336831      -0.944768    MALE           0.207308   \n",
       "248            -0.774701      -0.711124     NaN           0.207308   \n",
       "\n",
       "     Delta 13 C (o/oo)                              Species  \n",
       "7                  NaN  Adelie Penguin (Pygoscelis adeliae)  \n",
       "62                 NaN  Adelie Penguin (Pygoscelis adeliae)  \n",
       "82                 NaN  Adelie Penguin (Pygoscelis adeliae)  \n",
       "97                 NaN    Gentoo penguin (Pygoscelis papua)  \n",
       "169                NaN    Gentoo penguin (Pygoscelis papua)  \n",
       "170                NaN  Adelie Penguin (Pygoscelis adeliae)  \n",
       "197                NaN  Adelie Penguin (Pygoscelis adeliae)  \n",
       "207                NaN  Adelie Penguin (Pygoscelis adeliae)  \n",
       "218                NaN  Adelie Penguin (Pygoscelis adeliae)  \n",
       "229                NaN  Adelie Penguin (Pygoscelis adeliae)  \n",
       "248                NaN  Adelie Penguin (Pygoscelis adeliae)  "
      ]
     },
     "execution_count": 37,
     "metadata": {},
     "output_type": "execute_result"
    }
   ],
   "source": [
    "train_csv[train_csv['Delta 13 C (o/oo)'].isnull()]"
   ]
  },
  {
   "cell_type": "code",
   "execution_count": 38,
   "id": "86addf4a",
   "metadata": {},
   "outputs": [
    {
     "data": {
      "image/png": "[encoded data removed]",
      "text/plain": [
       "<Figure size 640x480 with 1 Axes>"
      ]
     },
     "metadata": {},
     "output_type": "display_data"
    }
   ],
   "source": [
    "# Creating Box-plot to analyze data distribution\n",
    "figure = plt.figure()                                                                 # Creating a custom figure size\n",
    "sns.boxplot(x='Species', y='Delta 13 C (o/oo)', palette='rainbow', data=train_csv)        # Using seaborn's boxplot() function\n",
    "plt.xlabel(xlabel='Species')                                                          # Labelling x-axis with a custom label\n",
    "plt.xticks(rotation=5)\n",
    "plt.ylabel(ylabel='Delta 13 C (normalized)')                                           # Labelling y-axis with a custom label\n",
    "plt.title(label='Fig. 4\\n Delta 13 C (normalized) Distribution for different species') # Labelling title with a custom label\n",
    "plt.grid(visible=True)\n",
    "plt.show()"
   ]
  },
  {
   "cell_type": "markdown",
   "id": "2c6486be",
   "metadata": {},
   "source": [
    "- For the class `Adelie Penguine`, the `Delta 13 C (o/oo)` data distribution is skewed. Therefore, to fill the corresponding `NaN`, we will use the **median** of the values having the same class.  \n",
    "- Also, for the class `Gentoo penguin`, the `Delta 13 C (o/oo)` data distribution is almost symmentrical. Therefore, to fill the corresponding `NaN`, we will use the **mean** of the values having the same class."
   ]
  },
  {
   "cell_type": "code",
   "execution_count": 39,
   "id": "59a0c65e",
   "metadata": {},
   "outputs": [],
   "source": [
    "value_adelie = df_species_adelie[\"Delta 13 C (o/oo)\"].median()\n",
    "value_gentoo = df_species_gentoo[\"Delta 13 C (o/oo)\"].mean()"
   ]
  },
  {
   "cell_type": "code",
   "execution_count": 40,
   "id": "b1a7192d",
   "metadata": {},
   "outputs": [],
   "source": [
    "train_csv.loc[(train_csv[\"Delta 13 C (o/oo)\"].isnull()) & (train_csv[\"Species\"] == 'Adelie Penguin (Pygoscelis adeliae)'), ['Delta 13 C (o/oo)']] = value_adelie\n",
    "train_csv.loc[(train_csv[\"Delta 13 C (o/oo)\"].isnull()) & (train_csv[\"Species\"] == 'Gentoo penguin (Pygoscelis papua)'), ['Delta 13 C (o/oo)']] = value_gentoo"
   ]
  },
  {
   "cell_type": "code",
   "execution_count": 41,
   "id": "adae1f6e",
   "metadata": {},
   "outputs": [
    {
     "data": {
      "text/html": [
       "<div>\n",
       "<style scoped>\n",
       "    .dataframe tbody tr th:only-of-type {\n",
       "        vertical-align: middle;\n",
       "    }\n",
       "\n",
       "    .dataframe tbody tr th {\n",
       "        vertical-align: top;\n",
       "    }\n",
       "\n",
       "    .dataframe thead th {\n",
       "        text-align: right;\n",
       "    }\n",
       "</style>\n",
       "<table border=\"1\" class=\"dataframe\">\n",
       "  <thead>\n",
       "    <tr style=\"text-align: right;\">\n",
       "      <th></th>\n",
       "      <th>Island</th>\n",
       "      <th>Clutch Completion</th>\n",
       "      <th>Culmen Length (mm)</th>\n",
       "      <th>Culmen Depth (mm)</th>\n",
       "      <th>Flipper Length (mm)</th>\n",
       "      <th>Body Mass (g)</th>\n",
       "      <th>Sex</th>\n",
       "      <th>Delta 15 N (o/oo)</th>\n",
       "      <th>Delta 13 C (o/oo)</th>\n",
       "      <th>Species</th>\n",
       "    </tr>\n",
       "  </thead>\n",
       "  <tbody>\n",
       "  </tbody>\n",
       "</table>\n",
       "</div>"
      ],
      "text/plain": [
       "Empty DataFrame\n",
       "Columns: [Island, Clutch Completion, Culmen Length (mm), Culmen Depth (mm), Flipper Length (mm), Body Mass (g), Sex, Delta 15 N (o/oo), Delta 13 C (o/oo), Species]\n",
       "Index: []"
      ]
     },
     "execution_count": 41,
     "metadata": {},
     "output_type": "execute_result"
    }
   ],
   "source": [
    "train_csv[train_csv['Delta 13 C (o/oo)'].isnull()]"
   ]
  },
  {
   "cell_type": "markdown",
   "id": "4d6db970",
   "metadata": {},
   "source": [
    "- We have filled the missing values of `Delta 13 C (o/oo)` attribute"
   ]
  },
  {
   "cell_type": "markdown",
   "id": "5c46dce6",
   "metadata": {},
   "source": [
    "----"
   ]
  },
  {
   "cell_type": "code",
   "execution_count": 42,
   "id": "b9e27445",
   "metadata": {},
   "outputs": [
    {
     "data": {
      "text/html": [
       "<div>\n",
       "<style scoped>\n",
       "    .dataframe tbody tr th:only-of-type {\n",
       "        vertical-align: middle;\n",
       "    }\n",
       "\n",
       "    .dataframe tbody tr th {\n",
       "        vertical-align: top;\n",
       "    }\n",
       "\n",
       "    .dataframe thead th {\n",
       "        text-align: right;\n",
       "    }\n",
       "</style>\n",
       "<table border=\"1\" class=\"dataframe\">\n",
       "  <thead>\n",
       "    <tr style=\"text-align: right;\">\n",
       "      <th></th>\n",
       "      <th>Island</th>\n",
       "      <th>Clutch Completion</th>\n",
       "      <th>Culmen Length (mm)</th>\n",
       "      <th>Culmen Depth (mm)</th>\n",
       "      <th>Flipper Length (mm)</th>\n",
       "      <th>Body Mass (g)</th>\n",
       "      <th>Sex</th>\n",
       "      <th>Delta 15 N (o/oo)</th>\n",
       "      <th>Delta 13 C (o/oo)</th>\n",
       "      <th>Species</th>\n",
       "    </tr>\n",
       "  </thead>\n",
       "  <tbody>\n",
       "    <tr>\n",
       "      <th>26</th>\n",
       "      <td>Torgersen</td>\n",
       "      <td>Yes</td>\n",
       "      <td>-0.362691</td>\n",
       "      <td>1.543138</td>\n",
       "      <td>-0.765778</td>\n",
       "      <td>0.083264</td>\n",
       "      <td>NaN</td>\n",
       "      <td>0.681774</td>\n",
       "      <td>0.711419</td>\n",
       "      <td>Adelie Penguin (Pygoscelis adeliae)</td>\n",
       "    </tr>\n",
       "    <tr>\n",
       "      <th>82</th>\n",
       "      <td>Torgersen</td>\n",
       "      <td>Yes</td>\n",
       "      <td>-1.120027</td>\n",
       "      <td>0.059800</td>\n",
       "      <td>-1.479594</td>\n",
       "      <td>-0.602091</td>\n",
       "      <td>NaN</td>\n",
       "      <td>0.207308</td>\n",
       "      <td>-0.389576</td>\n",
       "      <td>Adelie Penguin (Pygoscelis adeliae)</td>\n",
       "    </tr>\n",
       "    <tr>\n",
       "      <th>169</th>\n",
       "      <td>Biscoe</td>\n",
       "      <td>No</td>\n",
       "      <td>0.620042</td>\n",
       "      <td>-1.121538</td>\n",
       "      <td>1.185826</td>\n",
       "      <td>1.080144</td>\n",
       "      <td>NaN</td>\n",
       "      <td>-0.882649</td>\n",
       "      <td>-0.648235</td>\n",
       "      <td>Gentoo penguin (Pygoscelis papua)</td>\n",
       "    </tr>\n",
       "    <tr>\n",
       "      <th>197</th>\n",
       "      <td>Torgersen</td>\n",
       "      <td>Yes</td>\n",
       "      <td>-1.787204</td>\n",
       "      <td>0.468996</td>\n",
       "      <td>-0.551633</td>\n",
       "      <td>-0.882463</td>\n",
       "      <td>NaN</td>\n",
       "      <td>0.207308</td>\n",
       "      <td>-0.389576</td>\n",
       "      <td>Adelie Penguin (Pygoscelis adeliae)</td>\n",
       "    </tr>\n",
       "    <tr>\n",
       "      <th>206</th>\n",
       "      <td>Biscoe</td>\n",
       "      <td>Yes</td>\n",
       "      <td>0.394645</td>\n",
       "      <td>-1.423538</td>\n",
       "      <td>0.947381</td>\n",
       "      <td>0.581704</td>\n",
       "      <td>NaN</td>\n",
       "      <td>-0.902430</td>\n",
       "      <td>-1.420835</td>\n",
       "      <td>Gentoo penguin (Pygoscelis papua)</td>\n",
       "    </tr>\n",
       "    <tr>\n",
       "      <th>212</th>\n",
       "      <td>Torgersen</td>\n",
       "      <td>Yes</td>\n",
       "      <td>-1.120027</td>\n",
       "      <td>-0.042499</td>\n",
       "      <td>-1.051305</td>\n",
       "      <td>-1.100531</td>\n",
       "      <td>NaN</td>\n",
       "      <td>-0.209255</td>\n",
       "      <td>0.563462</td>\n",
       "      <td>Adelie Penguin (Pygoscelis adeliae)</td>\n",
       "    </tr>\n",
       "    <tr>\n",
       "      <th>219</th>\n",
       "      <td>Biscoe</td>\n",
       "      <td>Yes</td>\n",
       "      <td>0.088104</td>\n",
       "      <td>-0.758593</td>\n",
       "      <td>1.161526</td>\n",
       "      <td>0.862077</td>\n",
       "      <td>NaN</td>\n",
       "      <td>-1.260520</td>\n",
       "      <td>-0.639426</td>\n",
       "      <td>Gentoo penguin (Pygoscelis papua)</td>\n",
       "    </tr>\n",
       "    <tr>\n",
       "      <th>248</th>\n",
       "      <td>Torgersen</td>\n",
       "      <td>Yes</td>\n",
       "      <td>-0.942564</td>\n",
       "      <td>0.622445</td>\n",
       "      <td>-0.774701</td>\n",
       "      <td>-0.711124</td>\n",
       "      <td>NaN</td>\n",
       "      <td>0.207308</td>\n",
       "      <td>-0.389576</td>\n",
       "      <td>Adelie Penguin (Pygoscelis adeliae)</td>\n",
       "    </tr>\n",
       "  </tbody>\n",
       "</table>\n",
       "</div>"
      ],
      "text/plain": [
       "        Island Clutch Completion  Culmen Length (mm)  Culmen Depth (mm)  \\\n",
       "26   Torgersen               Yes           -0.362691           1.543138   \n",
       "82   Torgersen               Yes           -1.120027           0.059800   \n",
       "169     Biscoe                No            0.620042          -1.121538   \n",
       "197  Torgersen               Yes           -1.787204           0.468996   \n",
       "206     Biscoe               Yes            0.394645          -1.423538   \n",
       "212  Torgersen               Yes           -1.120027          -0.042499   \n",
       "219     Biscoe               Yes            0.088104          -0.758593   \n",
       "248  Torgersen               Yes           -0.942564           0.622445   \n",
       "\n",
       "     Flipper Length (mm)  Body Mass (g)  Sex  Delta 15 N (o/oo)  \\\n",
       "26             -0.765778       0.083264  NaN           0.681774   \n",
       "82             -1.479594      -0.602091  NaN           0.207308   \n",
       "169             1.185826       1.080144  NaN          -0.882649   \n",
       "197            -0.551633      -0.882463  NaN           0.207308   \n",
       "206             0.947381       0.581704  NaN          -0.902430   \n",
       "212            -1.051305      -1.100531  NaN          -0.209255   \n",
       "219             1.161526       0.862077  NaN          -1.260520   \n",
       "248            -0.774701      -0.711124  NaN           0.207308   \n",
       "\n",
       "     Delta 13 C (o/oo)                              Species  \n",
       "26            0.711419  Adelie Penguin (Pygoscelis adeliae)  \n",
       "82           -0.389576  Adelie Penguin (Pygoscelis adeliae)  \n",
       "169          -0.648235    Gentoo penguin (Pygoscelis papua)  \n",
       "197          -0.389576  Adelie Penguin (Pygoscelis adeliae)  \n",
       "206          -1.420835    Gentoo penguin (Pygoscelis papua)  \n",
       "212           0.563462  Adelie Penguin (Pygoscelis adeliae)  \n",
       "219          -0.639426    Gentoo penguin (Pygoscelis papua)  \n",
       "248          -0.389576  Adelie Penguin (Pygoscelis adeliae)  "
      ]
     },
     "execution_count": 42,
     "metadata": {},
     "output_type": "execute_result"
    }
   ],
   "source": [
    "# Visualize the rows that have missing values\n",
    "train_csv[train_csv.isnull().any(axis=1)]"
   ]
  },
  {
   "cell_type": "markdown",
   "id": "ed82b12d",
   "metadata": {},
   "source": [
    "- As we can observe, only `Sex` attribute has NaN values. Let's train a Decision trees classifier to classify the Sex, given other attributes.\n",
    "- Let's prepare the data first.\n",
    "    - Get the data where 'Sex' != 'Nan', and encode all the categorical values (`DT_data`).\n",
    "    - Encode the data into train and test set (88%->train - 12%->test).\n",
    "    - Train a DT classifier using Scikit-Learn library.\n",
    "    - Once the accuracy on the validation set is desirable, use the trained decision-tree classifier to predict the value of NaN values of Sex attribute.\n",
    "    - update the trained model output back to `train_csv` dataframe"
   ]
  },
  {
   "cell_type": "code",
   "execution_count": 43,
   "id": "92655b4d",
   "metadata": {},
   "outputs": [
    {
     "data": {
      "text/html": [
       "<div>\n",
       "<style scoped>\n",
       "    .dataframe tbody tr th:only-of-type {\n",
       "        vertical-align: middle;\n",
       "    }\n",
       "\n",
       "    .dataframe tbody tr th {\n",
       "        vertical-align: top;\n",
       "    }\n",
       "\n",
       "    .dataframe thead th {\n",
       "        text-align: right;\n",
       "    }\n",
       "</style>\n",
       "<table border=\"1\" class=\"dataframe\">\n",
       "  <thead>\n",
       "    <tr style=\"text-align: right;\">\n",
       "      <th></th>\n",
       "      <th>Island</th>\n",
       "      <th>Clutch Completion</th>\n",
       "      <th>Culmen Length (mm)</th>\n",
       "      <th>Culmen Depth (mm)</th>\n",
       "      <th>Flipper Length (mm)</th>\n",
       "      <th>Body Mass (g)</th>\n",
       "      <th>Sex</th>\n",
       "      <th>Delta 15 N (o/oo)</th>\n",
       "      <th>Delta 13 C (o/oo)</th>\n",
       "      <th>Species</th>\n",
       "    </tr>\n",
       "  </thead>\n",
       "  <tbody>\n",
       "    <tr>\n",
       "      <th>0</th>\n",
       "      <td>Biscoe</td>\n",
       "      <td>Yes</td>\n",
       "      <td>-0.939709</td>\n",
       "      <td>0.00865</td>\n",
       "      <td>-1.479594</td>\n",
       "      <td>-0.477481</td>\n",
       "      <td>MALE</td>\n",
       "      <td>1.581213</td>\n",
       "      <td>0.457687</td>\n",
       "      <td>Adelie Penguin (Pygoscelis adeliae)</td>\n",
       "    </tr>\n",
       "  </tbody>\n",
       "</table>\n",
       "</div>"
      ],
      "text/plain": [
       "   Island Clutch Completion  Culmen Length (mm)  Culmen Depth (mm)  \\\n",
       "0  Biscoe               Yes           -0.939709            0.00865   \n",
       "\n",
       "   Flipper Length (mm)  Body Mass (g)   Sex  Delta 15 N (o/oo)  \\\n",
       "0            -1.479594      -0.477481  MALE           1.581213   \n",
       "\n",
       "   Delta 13 C (o/oo)                              Species  \n",
       "0           0.457687  Adelie Penguin (Pygoscelis adeliae)  "
      ]
     },
     "execution_count": 43,
     "metadata": {},
     "output_type": "execute_result"
    }
   ],
   "source": [
    "train_csv.head(1)"
   ]
  },
  {
   "cell_type": "code",
   "execution_count": 44,
   "id": "637ca697",
   "metadata": {},
   "outputs": [],
   "source": [
    "DT_data = train_csv.copy()\n",
    "DT_data = DT_data.dropna() # dropping the rows having NaN values\n",
    "DT_X = DT_data[['Island', 'Clutch Completion', 'Culmen Length (mm)', 'Culmen Depth (mm)', 'Flipper Length (mm)', 'Body Mass (g)', 'Delta 15 N (o/oo)', 'Delta 13 C (o/oo)', 'Species']] # separate features and target variable\n",
    "DT_y = DT_data['Sex']\n",
    "DT_X_encoded = pd.get_dummies(DT_X, columns=['Island', 'Species'])\n",
    "DT_X_encoded.replace({'Yes': 1, 'No': 0}, inplace=True) # for encoding 'Clutch Completion'\n",
    "DT_X_encoded.replace({True: 1, False: 0}, inplace=True)\n",
    "DT_y_encoded = DT_y\n",
    "DT_y_encoded.replace({'MALE': 0, 'FEMALE': 1}, inplace=True)"
   ]
  },
  {
   "cell_type": "code",
   "execution_count": 45,
   "id": "dc18f7cd",
   "metadata": {},
   "outputs": [
    {
     "data": {
      "text/html": [
       "<div>\n",
       "<style scoped>\n",
       "    .dataframe tbody tr th:only-of-type {\n",
       "        vertical-align: middle;\n",
       "    }\n",
       "\n",
       "    .dataframe tbody tr th {\n",
       "        vertical-align: top;\n",
       "    }\n",
       "\n",
       "    .dataframe thead th {\n",
       "        text-align: right;\n",
       "    }\n",
       "</style>\n",
       "<table border=\"1\" class=\"dataframe\">\n",
       "  <thead>\n",
       "    <tr style=\"text-align: right;\">\n",
       "      <th></th>\n",
       "      <th>Clutch Completion</th>\n",
       "      <th>Culmen Length (mm)</th>\n",
       "      <th>Culmen Depth (mm)</th>\n",
       "      <th>Flipper Length (mm)</th>\n",
       "      <th>Body Mass (g)</th>\n",
       "      <th>Delta 15 N (o/oo)</th>\n",
       "      <th>Delta 13 C (o/oo)</th>\n",
       "      <th>Island_Biscoe</th>\n",
       "      <th>Island_Dream</th>\n",
       "      <th>Island_Torgersen</th>\n",
       "      <th>Species_Adelie Penguin (Pygoscelis adeliae)</th>\n",
       "      <th>Species_Chinstrap penguin (Pygoscelis antarctica)</th>\n",
       "      <th>Species_Gentoo penguin (Pygoscelis papua)</th>\n",
       "    </tr>\n",
       "  </thead>\n",
       "  <tbody>\n",
       "    <tr>\n",
       "      <th>0</th>\n",
       "      <td>1</td>\n",
       "      <td>-0.939709</td>\n",
       "      <td>0.00865</td>\n",
       "      <td>-1.479594</td>\n",
       "      <td>-0.477481</td>\n",
       "      <td>1.581213</td>\n",
       "      <td>0.457687</td>\n",
       "      <td>1</td>\n",
       "      <td>0</td>\n",
       "      <td>0</td>\n",
       "      <td>1</td>\n",
       "      <td>0</td>\n",
       "      <td>0</td>\n",
       "    </tr>\n",
       "  </tbody>\n",
       "</table>\n",
       "</div>"
      ],
      "text/plain": [
       "   Clutch Completion  Culmen Length (mm)  Culmen Depth (mm)  \\\n",
       "0                  1           -0.939709            0.00865   \n",
       "\n",
       "   Flipper Length (mm)  Body Mass (g)  Delta 15 N (o/oo)  Delta 13 C (o/oo)  \\\n",
       "0            -1.479594      -0.477481           1.581213           0.457687   \n",
       "\n",
       "   Island_Biscoe  Island_Dream  Island_Torgersen  \\\n",
       "0              1             0                 0   \n",
       "\n",
       "   Species_Adelie Penguin (Pygoscelis adeliae)  \\\n",
       "0                                            1   \n",
       "\n",
       "   Species_Chinstrap penguin (Pygoscelis antarctica)  \\\n",
       "0                                                  0   \n",
       "\n",
       "   Species_Gentoo penguin (Pygoscelis papua)  \n",
       "0                                          0  "
      ]
     },
     "execution_count": 45,
     "metadata": {},
     "output_type": "execute_result"
    }
   ],
   "source": [
    "DT_X_encoded.head(1)"
   ]
  },
  {
   "cell_type": "code",
   "execution_count": 46,
   "id": "0bbc2986",
   "metadata": {},
   "outputs": [
    {
     "data": {
      "text/plain": [
       "0    0\n",
       "Name: Sex, dtype: int64"
      ]
     },
     "execution_count": 46,
     "metadata": {},
     "output_type": "execute_result"
    }
   ],
   "source": [
    "DT_y_encoded.head(1)"
   ]
  },
  {
   "cell_type": "code",
   "execution_count": 47,
   "id": "8291f08c",
   "metadata": {},
   "outputs": [
    {
     "name": "stdout",
     "output_type": "stream",
     "text": [
      "cv_scores: [0.8571428571428571, 0.9285714285714286, 0.8571428571428571, 1.0, 0.9285714285714286, 0.9285714285714286, 0.8461538461538461, 0.8461538461538461, 0.9230769230769231, 0.8461538461538461, 0.9230769230769231, 0.9230769230769231, 0.7692307692307693, 0.8461538461538461, 0.9230769230769231, 0.7692307692307693, 0.7692307692307693, 0.6923076923076923, 0.7692307692307693, 0.9230769230769231]\n",
      "List of possible accuracy: [0.8571428571428571, 0.9285714285714286, 0.8571428571428571, 1.0, 0.9285714285714286, 0.9285714285714286, 0.8461538461538461, 0.8461538461538461, 0.9230769230769231, 0.8461538461538461, 0.9230769230769231, 0.9230769230769231, 0.7692307692307693, 0.8461538461538461, 0.9230769230769231, 0.7692307692307693, 0.7692307692307693, 0.6923076923076923, 0.7692307692307693, 0.9230769230769231]\n",
      "\n",
      "Maximum Accuracy That can be obtained from this model is: 100.0 %\n",
      "\n",
      "Minimum Accuracy: 69.23076923076923 %\n",
      "\n",
      "Overall Accuracy: 86.34615384615385 %\n",
      "\n",
      "Standard Deviation is: 0.07787306882481278\n"
     ]
    }
   ],
   "source": [
    "\n",
    "\n",
    "# Initialize the Decision Tree Classifier\n",
    "model = DecisionTreeClassifier(random_state=42)\n",
    "\n",
    "# Initialize StratifiedKFold\n",
    "stratkf = StratifiedKFold(n_splits=20, random_state=42, shuffle=True)\n",
    "\n",
    "# Initialize a list to store the cross-validation scores\n",
    "cv_scores = []\n",
    "\n",
    "# Perform stratified K-fold cross-validation\n",
    "for train_idx, val_idx in stratkf.split(DT_X_encoded, DT_y_encoded):\n",
    "    # print(\"train_idx\", train_idx)\n",
    "    # print(\"val_idx\", val_idx)\n",
    "    X_train, X_val = DT_X_encoded.iloc[train_idx], DT_X_encoded.iloc[val_idx]\n",
    "    y_train, y_val = DT_y_encoded.iloc[train_idx], DT_y_encoded.iloc[val_idx]\n",
    "    # print(f\"X_train: {X_train}\")\n",
    "    # print(f\"y_train: {y_train}\\ny_val: {y_val}\")\n",
    "    # print(f\"X_val: {X_val}\")\n",
    "#     print(\"-----------\")\n",
    "\n",
    "    # Train the model\n",
    "    model.fit(X_train, y_train)\n",
    "    \n",
    "    # Evaluate on validation set\n",
    "    score = model.score(X_val, y_val)\n",
    "    cv_scores.append(score)\n",
    "\n",
    "from statistics import mean, stdev\n",
    "\n",
    "print(\"cv_scores:\", cv_scores)\n",
    "# Step 3: Evaluate accuracy of the trained model\n",
    "\n",
    "print('List of possible accuracy:', cv_scores)\n",
    "print('\\nMaximum Accuracy That can be obtained from this model is:',\n",
    "      max(cv_scores)*100, '%')\n",
    "print('\\nMinimum Accuracy:',\n",
    "      min(cv_scores)*100, '%')\n",
    "print('\\nOverall Accuracy:',\n",
    "      mean(cv_scores)*100, '%')\n",
    "print('\\nStandard Deviation is:', stdev(cv_scores))"
   ]
  },
  {
   "cell_type": "code",
   "execution_count": 48,
   "id": "d784df14",
   "metadata": {},
   "outputs": [
    {
     "name": "stdout",
     "output_type": "stream",
     "text": [
      "[[23  4]\n",
      " [ 7 20]]\n",
      "              precision    recall  f1-score   support\n",
      "\n",
      "           0       0.77      0.85      0.81        27\n",
      "           1       0.83      0.74      0.78        27\n",
      "\n",
      "    accuracy                           0.80        54\n",
      "   macro avg       0.80      0.80      0.80        54\n",
      "weighted avg       0.80      0.80      0.80        54\n",
      "\n"
     ]
    }
   ],
   "source": [
    "X_train, X_test, y_train, y_test = train_test_split(DT_X_encoded, DT_y_encoded, stratify=DT_y_encoded, test_size=0.2, random_state=42)\n",
    "# Create Decision Tree classifer object\n",
    "# clf = DecisionTreeClassifier(random_state=42)\n",
    "\n",
    "# Train Decision Tree Classifer\n",
    "# clf = clf.fit(X_train,y_train)\n",
    "model.fit(X_train,y_train)\n",
    "\n",
    "# Predict the response for test dataset\n",
    "# y_pred = clf.predict(X_test)\n",
    "y_pred = model.predict(X_test)\n",
    "\n",
    "from sklearn.metrics import classification_report, confusion_matrix\n",
    "print(confusion_matrix(y_test, y_pred))\n",
    "print(classification_report(y_test, y_pred))"
   ]
  },
  {
   "cell_type": "code",
   "execution_count": 49,
   "id": "31abcebe",
   "metadata": {},
   "outputs": [
    {
     "data": {
      "text/html": [
       "<style>#sk-container-id-1 {color: black;}#sk-container-id-1 pre{padding: 0;}#sk-container-id-1 div.sk-toggleable {background-color: white;}#sk-container-id-1 label.sk-toggleable__label {cursor: pointer;display: block;width: 100%;margin-bottom: 0;padding: 0.3em;box-sizing: border-box;text-align: center;}#sk-container-id-1 label.sk-toggleable__label-arrow:before {content: \"▸\";float: left;margin-right: 0.25em;color: #696969;}#sk-container-id-1 label.sk-toggleable__label-arrow:hover:before {color: black;}#sk-container-id-1 div.sk-estimator:hover label.sk-toggleable__label-arrow:before {color: black;}#sk-container-id-1 div.sk-toggleable__content {max-height: 0;max-width: 0;overflow: hidden;text-align: left;background-color: #f0f8ff;}#sk-container-id-1 div.sk-toggleable__content pre {margin: 0.2em;color: black;border-radius: 0.25em;background-color: #f0f8ff;}#sk-container-id-1 input.sk-toggleable__control:checked~div.sk-toggleable__content {max-height: 200px;max-width: 100%;overflow: auto;}#sk-container-id-1 input.sk-toggleable__control:checked~label.sk-toggleable__label-arrow:before {content: \"▾\";}#sk-container-id-1 div.sk-estimator input.sk-toggleable__control:checked~label.sk-toggleable__label {background-color: #d4ebff;}#sk-container-id-1 div.sk-label input.sk-toggleable__control:checked~label.sk-toggleable__label {background-color: #d4ebff;}#sk-container-id-1 input.sk-hidden--visually {border: 0;clip: rect(1px 1px 1px 1px);clip: rect(1px, 1px, 1px, 1px);height: 1px;margin: -1px;overflow: hidden;padding: 0;position: absolute;width: 1px;}#sk-container-id-1 div.sk-estimator {font-family: monospace;background-color: #f0f8ff;border: 1px dotted black;border-radius: 0.25em;box-sizing: border-box;margin-bottom: 0.5em;}#sk-container-id-1 div.sk-estimator:hover {background-color: #d4ebff;}#sk-container-id-1 div.sk-parallel-item::after {content: \"\";width: 100%;border-bottom: 1px solid gray;flex-grow: 1;}#sk-container-id-1 div.sk-label:hover label.sk-toggleable__label {background-color: #d4ebff;}#sk-container-id-1 div.sk-serial::before {content: \"\";position: absolute;border-left: 1px solid gray;box-sizing: border-box;top: 0;bottom: 0;left: 50%;z-index: 0;}#sk-container-id-1 div.sk-serial {display: flex;flex-direction: column;align-items: center;background-color: white;padding-right: 0.2em;padding-left: 0.2em;position: relative;}#sk-container-id-1 div.sk-item {position: relative;z-index: 1;}#sk-container-id-1 div.sk-parallel {display: flex;align-items: stretch;justify-content: center;background-color: white;position: relative;}#sk-container-id-1 div.sk-item::before, #sk-container-id-1 div.sk-parallel-item::before {content: \"\";position: absolute;border-left: 1px solid gray;box-sizing: border-box;top: 0;bottom: 0;left: 50%;z-index: -1;}#sk-container-id-1 div.sk-parallel-item {display: flex;flex-direction: column;z-index: 1;position: relative;background-color: white;}#sk-container-id-1 div.sk-parallel-item:first-child::after {align-self: flex-end;width: 50%;}#sk-container-id-1 div.sk-parallel-item:last-child::after {align-self: flex-start;width: 50%;}#sk-container-id-1 div.sk-parallel-item:only-child::after {width: 0;}#sk-container-id-1 div.sk-dashed-wrapped {border: 1px dashed gray;margin: 0 0.4em 0.5em 0.4em;box-sizing: border-box;padding-bottom: 0.4em;background-color: white;}#sk-container-id-1 div.sk-label label {font-family: monospace;font-weight: bold;display: inline-block;line-height: 1.2em;}#sk-container-id-1 div.sk-label-container {text-align: center;}#sk-container-id-1 div.sk-container {/* jupyter's `normalize.less` sets `[hidden] { display: none; }` but bootstrap.min.css set `[hidden] { display: none !important; }` so we also need the `!important` here to be able to override the default hidden behavior on the sphinx rendered scikit-learn.org. See: https://github.com/scikit-learn/scikit-learn/issues/21755 */display: inline-block !important;position: relative;}#sk-container-id-1 div.sk-text-repr-fallback {display: none;}</style><div id=\"sk-container-id-1\" class=\"sk-top-container\"><div class=\"sk-text-repr-fallback\"><pre>DecisionTreeClassifier(random_state=42)</pre><b>In a Jupyter environment, please rerun this cell to show the HTML representation or trust the notebook. <br />On GitHub, the HTML representation is unable to render, please try loading this page with nbviewer.org.</b></div><div class=\"sk-container\" hidden><div class=\"sk-item\"><div class=\"sk-estimator sk-toggleable\"><input class=\"sk-toggleable__control sk-hidden--visually\" id=\"sk-estimator-id-1\" type=\"checkbox\" checked><label for=\"sk-estimator-id-1\" class=\"sk-toggleable__label sk-toggleable__label-arrow\">DecisionTreeClassifier</label><div class=\"sk-toggleable__content\"><pre>DecisionTreeClassifier(random_state=42)</pre></div></div></div></div></div>"
      ],
      "text/plain": [
       "DecisionTreeClassifier(random_state=42)"
      ]
     },
     "execution_count": 49,
     "metadata": {},
     "output_type": "execute_result"
    }
   ],
   "source": [
    "# training without splitting data\n",
    "model.fit(DT_X_encoded,DT_y_encoded)"
   ]
  },
  {
   "cell_type": "markdown",
   "id": "02ad685f",
   "metadata": {},
   "source": [
    "- With the help of trained model, now let's fill in missing values of 'Sex' attribute."
   ]
  },
  {
   "cell_type": "code",
   "execution_count": 50,
   "id": "304d8149",
   "metadata": {},
   "outputs": [
    {
     "data": {
      "text/html": [
       "<div>\n",
       "<style scoped>\n",
       "    .dataframe tbody tr th:only-of-type {\n",
       "        vertical-align: middle;\n",
       "    }\n",
       "\n",
       "    .dataframe tbody tr th {\n",
       "        vertical-align: top;\n",
       "    }\n",
       "\n",
       "    .dataframe thead th {\n",
       "        text-align: right;\n",
       "    }\n",
       "</style>\n",
       "<table border=\"1\" class=\"dataframe\">\n",
       "  <thead>\n",
       "    <tr style=\"text-align: right;\">\n",
       "      <th></th>\n",
       "      <th>Island</th>\n",
       "      <th>Clutch Completion</th>\n",
       "      <th>Culmen Length (mm)</th>\n",
       "      <th>Culmen Depth (mm)</th>\n",
       "      <th>Flipper Length (mm)</th>\n",
       "      <th>Body Mass (g)</th>\n",
       "      <th>Sex</th>\n",
       "      <th>Delta 15 N (o/oo)</th>\n",
       "      <th>Delta 13 C (o/oo)</th>\n",
       "      <th>Species</th>\n",
       "    </tr>\n",
       "  </thead>\n",
       "  <tbody>\n",
       "    <tr>\n",
       "      <th>26</th>\n",
       "      <td>Torgersen</td>\n",
       "      <td>Yes</td>\n",
       "      <td>-0.362691</td>\n",
       "      <td>1.543138</td>\n",
       "      <td>-0.765778</td>\n",
       "      <td>0.083264</td>\n",
       "      <td>NaN</td>\n",
       "      <td>0.681774</td>\n",
       "      <td>0.711419</td>\n",
       "      <td>Adelie Penguin (Pygoscelis adeliae)</td>\n",
       "    </tr>\n",
       "  </tbody>\n",
       "</table>\n",
       "</div>"
      ],
      "text/plain": [
       "       Island Clutch Completion  Culmen Length (mm)  Culmen Depth (mm)  \\\n",
       "26  Torgersen               Yes           -0.362691           1.543138   \n",
       "\n",
       "    Flipper Length (mm)  Body Mass (g)  Sex  Delta 15 N (o/oo)  \\\n",
       "26            -0.765778       0.083264  NaN           0.681774   \n",
       "\n",
       "    Delta 13 C (o/oo)                              Species  \n",
       "26           0.711419  Adelie Penguin (Pygoscelis adeliae)  "
      ]
     },
     "execution_count": 50,
     "metadata": {},
     "output_type": "execute_result"
    }
   ],
   "source": [
    "train_csv[train_csv.isnull().any(axis=1)].head(1)"
   ]
  },
  {
   "cell_type": "code",
   "execution_count": 51,
   "id": "94bdbbcc",
   "metadata": {},
   "outputs": [],
   "source": [
    "X_null = train_csv[train_csv.isnull().any(axis=1)]\n",
    "# Data Preprocessing to make the data of the same format that we used to tran DT i.e., `DT_X_encoded` and `DT_y_encoded`\n",
    "{'Island_Dream':[0,0,0,0,0,0,0,0]}\n",
    "{'Species_Chinstrap penguin (Pygoscelis antarctica)': [0,0,0,0,0,0,0,0]}\n",
    "X_null = X_null[['Island', 'Clutch Completion', 'Culmen Length (mm)', 'Culmen Depth (mm)', 'Flipper Length (mm)', 'Body Mass (g)', 'Delta 15 N (o/oo)', 'Delta 13 C (o/oo)', 'Species']] # separate features and target variable\n",
    "X_encoded_null = pd.get_dummies(X_null, columns=['Island', 'Species'])\n",
    "X_encoded_null.replace({'Yes': 1, 'No': 0}, inplace=True) # for encoding 'Clutch Completion'\n",
    "X_encoded_null.replace({False: 0, True: 1}, inplace=True)\n",
    "X_encoded_null.insert(8, \"Island_Dream\", [0,0,0,0,0,0,0,0], True)\n",
    "X_encoded_null.insert(11, \"Species_Chinstrap penguin (Pygoscelis antarctica)\", [0,0,0,0,0,0,0,0], True)"
   ]
  },
  {
   "cell_type": "code",
   "execution_count": 52,
   "id": "662ec2db",
   "metadata": {},
   "outputs": [
    {
     "data": {
      "text/html": [
       "<div>\n",
       "<style scoped>\n",
       "    .dataframe tbody tr th:only-of-type {\n",
       "        vertical-align: middle;\n",
       "    }\n",
       "\n",
       "    .dataframe tbody tr th {\n",
       "        vertical-align: top;\n",
       "    }\n",
       "\n",
       "    .dataframe thead th {\n",
       "        text-align: right;\n",
       "    }\n",
       "</style>\n",
       "<table border=\"1\" class=\"dataframe\">\n",
       "  <thead>\n",
       "    <tr style=\"text-align: right;\">\n",
       "      <th></th>\n",
       "      <th>Clutch Completion</th>\n",
       "      <th>Culmen Length (mm)</th>\n",
       "      <th>Culmen Depth (mm)</th>\n",
       "      <th>Flipper Length (mm)</th>\n",
       "      <th>Body Mass (g)</th>\n",
       "      <th>Delta 15 N (o/oo)</th>\n",
       "      <th>Delta 13 C (o/oo)</th>\n",
       "      <th>Island_Biscoe</th>\n",
       "      <th>Island_Dream</th>\n",
       "      <th>Island_Torgersen</th>\n",
       "      <th>Species_Adelie Penguin (Pygoscelis adeliae)</th>\n",
       "      <th>Species_Chinstrap penguin (Pygoscelis antarctica)</th>\n",
       "      <th>Species_Gentoo penguin (Pygoscelis papua)</th>\n",
       "    </tr>\n",
       "  </thead>\n",
       "  <tbody>\n",
       "    <tr>\n",
       "      <th>26</th>\n",
       "      <td>1</td>\n",
       "      <td>-0.362691</td>\n",
       "      <td>1.543138</td>\n",
       "      <td>-0.765778</td>\n",
       "      <td>0.083264</td>\n",
       "      <td>0.681774</td>\n",
       "      <td>0.711419</td>\n",
       "      <td>0</td>\n",
       "      <td>0</td>\n",
       "      <td>1</td>\n",
       "      <td>1</td>\n",
       "      <td>0</td>\n",
       "      <td>0</td>\n",
       "    </tr>\n",
       "  </tbody>\n",
       "</table>\n",
       "</div>"
      ],
      "text/plain": [
       "    Clutch Completion  Culmen Length (mm)  Culmen Depth (mm)  \\\n",
       "26                  1           -0.362691           1.543138   \n",
       "\n",
       "    Flipper Length (mm)  Body Mass (g)  Delta 15 N (o/oo)  Delta 13 C (o/oo)  \\\n",
       "26            -0.765778       0.083264           0.681774           0.711419   \n",
       "\n",
       "    Island_Biscoe  Island_Dream  Island_Torgersen  \\\n",
       "26              0             0                 1   \n",
       "\n",
       "    Species_Adelie Penguin (Pygoscelis adeliae)  \\\n",
       "26                                            1   \n",
       "\n",
       "    Species_Chinstrap penguin (Pygoscelis antarctica)  \\\n",
       "26                                                  0   \n",
       "\n",
       "    Species_Gentoo penguin (Pygoscelis papua)  \n",
       "26                                          0  "
      ]
     },
     "execution_count": 52,
     "metadata": {},
     "output_type": "execute_result"
    }
   ],
   "source": [
    "X_encoded_null.head(1) # match if this format matches `DT_X_encoded`"
   ]
  },
  {
   "cell_type": "code",
   "execution_count": 53,
   "id": "384e752e",
   "metadata": {},
   "outputs": [],
   "source": [
    "# predict\n",
    "y_pred = model.predict(X_encoded_null)"
   ]
  },
  {
   "cell_type": "code",
   "execution_count": 54,
   "id": "306f7c68",
   "metadata": {},
   "outputs": [
    {
     "data": {
      "text/plain": [
       "array([0, 1, 1, 1, 1, 1, 0, 1])"
      ]
     },
     "execution_count": 54,
     "metadata": {},
     "output_type": "execute_result"
    }
   ],
   "source": [
    "y_pred"
   ]
  },
  {
   "cell_type": "code",
   "execution_count": 55,
   "id": "d2cd2910",
   "metadata": {},
   "outputs": [],
   "source": [
    "# Let's fill the missing values with the predicted values\n",
    "for pred_idx, ind in enumerate(train_csv[train_csv.isnull().any(axis=1)].index):\n",
    "    if y_pred[pred_idx] == 0:\n",
    "        train_csv.at[ind,'Sex']='MALE'\n",
    "    if y_pred[pred_idx] == 1:\n",
    "        train_csv.at[ind,'Sex']='FEMALE'\n",
    "# train_csv.at[82,'Sex']"
   ]
  },
  {
   "cell_type": "code",
   "execution_count": 56,
   "id": "801130c1",
   "metadata": {},
   "outputs": [
    {
     "data": {
      "text/plain": [
       "Island                                           Torgersen\n",
       "Clutch Completion                                      Yes\n",
       "Culmen Length (mm)                               -1.120027\n",
       "Culmen Depth (mm)                                   0.0598\n",
       "Flipper Length (mm)                              -1.479594\n",
       "Body Mass (g)                                    -0.602091\n",
       "Sex                                                 FEMALE\n",
       "Delta 15 N (o/oo)                                 0.207308\n",
       "Delta 13 C (o/oo)                                -0.389576\n",
       "Species                Adelie Penguin (Pygoscelis adeliae)\n",
       "Name: 82, dtype: object"
      ]
     },
     "execution_count": 56,
     "metadata": {},
     "output_type": "execute_result"
    }
   ],
   "source": [
    "train_csv.iloc[82]"
   ]
  },
  {
   "cell_type": "code",
   "execution_count": 57,
   "id": "e4af9ce7",
   "metadata": {},
   "outputs": [
    {
     "data": {
      "text/html": [
       "<div>\n",
       "<style scoped>\n",
       "    .dataframe tbody tr th:only-of-type {\n",
       "        vertical-align: middle;\n",
       "    }\n",
       "\n",
       "    .dataframe tbody tr th {\n",
       "        vertical-align: top;\n",
       "    }\n",
       "\n",
       "    .dataframe thead th {\n",
       "        text-align: right;\n",
       "    }\n",
       "</style>\n",
       "<table border=\"1\" class=\"dataframe\">\n",
       "  <thead>\n",
       "    <tr style=\"text-align: right;\">\n",
       "      <th></th>\n",
       "      <th>Island</th>\n",
       "      <th>Clutch Completion</th>\n",
       "      <th>Culmen Length (mm)</th>\n",
       "      <th>Culmen Depth (mm)</th>\n",
       "      <th>Flipper Length (mm)</th>\n",
       "      <th>Body Mass (g)</th>\n",
       "      <th>Sex</th>\n",
       "      <th>Delta 15 N (o/oo)</th>\n",
       "      <th>Delta 13 C (o/oo)</th>\n",
       "      <th>Species</th>\n",
       "    </tr>\n",
       "  </thead>\n",
       "  <tbody>\n",
       "    <tr>\n",
       "      <th>0</th>\n",
       "      <td>Biscoe</td>\n",
       "      <td>Yes</td>\n",
       "      <td>-0.939709</td>\n",
       "      <td>0.00865</td>\n",
       "      <td>-1.479594</td>\n",
       "      <td>-0.477481</td>\n",
       "      <td>MALE</td>\n",
       "      <td>1.581213</td>\n",
       "      <td>0.457687</td>\n",
       "      <td>Adelie Penguin (Pygoscelis adeliae)</td>\n",
       "    </tr>\n",
       "  </tbody>\n",
       "</table>\n",
       "</div>"
      ],
      "text/plain": [
       "   Island Clutch Completion  Culmen Length (mm)  Culmen Depth (mm)  \\\n",
       "0  Biscoe               Yes           -0.939709            0.00865   \n",
       "\n",
       "   Flipper Length (mm)  Body Mass (g)   Sex  Delta 15 N (o/oo)  \\\n",
       "0            -1.479594      -0.477481  MALE           1.581213   \n",
       "\n",
       "   Delta 13 C (o/oo)                              Species  \n",
       "0           0.457687  Adelie Penguin (Pygoscelis adeliae)  "
      ]
     },
     "execution_count": 57,
     "metadata": {},
     "output_type": "execute_result"
    }
   ],
   "source": [
    "train_csv.head(1)"
   ]
  },
  {
   "cell_type": "code",
   "execution_count": 58,
   "id": "be4eceab",
   "metadata": {},
   "outputs": [
    {
     "data": {
      "text/html": [
       "<div>\n",
       "<style scoped>\n",
       "    .dataframe tbody tr th:only-of-type {\n",
       "        vertical-align: middle;\n",
       "    }\n",
       "\n",
       "    .dataframe tbody tr th {\n",
       "        vertical-align: top;\n",
       "    }\n",
       "\n",
       "    .dataframe thead th {\n",
       "        text-align: right;\n",
       "    }\n",
       "</style>\n",
       "<table border=\"1\" class=\"dataframe\">\n",
       "  <thead>\n",
       "    <tr style=\"text-align: right;\">\n",
       "      <th></th>\n",
       "      <th>Island</th>\n",
       "      <th>Clutch Completion</th>\n",
       "      <th>Culmen Length (mm)</th>\n",
       "      <th>Culmen Depth (mm)</th>\n",
       "      <th>Flipper Length (mm)</th>\n",
       "      <th>Body Mass (g)</th>\n",
       "      <th>Sex</th>\n",
       "      <th>Delta 15 N (o/oo)</th>\n",
       "      <th>Delta 13 C (o/oo)</th>\n",
       "      <th>Species</th>\n",
       "    </tr>\n",
       "  </thead>\n",
       "  <tbody>\n",
       "  </tbody>\n",
       "</table>\n",
       "</div>"
      ],
      "text/plain": [
       "Empty DataFrame\n",
       "Columns: [Island, Clutch Completion, Culmen Length (mm), Culmen Depth (mm), Flipper Length (mm), Body Mass (g), Sex, Delta 15 N (o/oo), Delta 13 C (o/oo), Species]\n",
       "Index: []"
      ]
     },
     "execution_count": 58,
     "metadata": {},
     "output_type": "execute_result"
    }
   ],
   "source": [
    "train_csv[train_csv.isnull().any(axis=1)]"
   ]
  },
  {
   "cell_type": "markdown",
   "id": "85e9e356",
   "metadata": {},
   "source": [
    "- All the NaN values have been imputed successfully."
   ]
  },
  {
   "cell_type": "code",
   "execution_count": 59,
   "id": "9df2bcfa",
   "metadata": {},
   "outputs": [],
   "source": [
    "del DT_X_encoded, DT_data, DT_y, DT_y_encoded, X_encoded_null, X_null, X_test, X_train, X_val, cv_scores, df_species_adelie\n",
    "del df_species_chinstrap, df_species_gentoo, ind, pred_idx, results, score, train_idx, val_idx, value_adelie, value_chinstrap, value_gentoo\n",
    "del y_pred, y_test, y_train, y_val "
   ]
  },
  {
   "cell_type": "markdown",
   "id": "3c52f9f0",
   "metadata": {},
   "source": [
    "----"
   ]
  },
  {
   "cell_type": "markdown",
   "id": "9cd25805",
   "metadata": {},
   "source": [
    "## Random Forests \n",
    "The cells below show the implementation of the random forests algorithm.\n",
    "It is implemented in the following manner:\n",
    "- K Bootstrap training sets are created.\n",
    "- A total of K classifiers are trained on the bootstrap training sets.\n",
    "- Majority voting is implemented to obtain the final prediction.\n"
   ]
  },
  {
   "cell_type": "code",
   "execution_count": 60,
   "id": "73fe2fd2",
   "metadata": {},
   "outputs": [],
   "source": [
    "def train_test_split(df, train_frac):\n",
    "    #Shuffle the dataframe\n",
    "    df = df.sample(frac=1)\n",
    "    df.index = range(0, df.shape[0])\n",
    "    train_df = df.loc[0:int(train_frac * len(df)) - 1,:]\n",
    "    test_df = df.loc[int(train_frac * len(df)):, :]\n",
    "    return train_df, test_df \n",
    "\n",
    "def encode_features(df, features):\n",
    "    label_encoder = LabelEncoder()\n",
    "    ohe = OneHotEncoder(sparse=True)\n",
    "    #Label Encoder followed by One Hot Encoding\n",
    "    for feature in features:\n",
    "        integer_encoded = label_encoder.fit_transform(df[feature]).reshape(-1,1)\n",
    "        # print(label_encoder.classes_)\n",
    "        array_hot_encoded = ohe.fit_transform(integer_encoded).toarray()\n",
    "        # print(ohe.categories_)\n",
    "        for i_iter, categories in enumerate(label_encoder.classes_):\n",
    "            df[f\"ohe_\" + feature + \"_\" + categories] = array_hot_encoded[:, i_iter]\n",
    "    # df_check = df.loc[:, ['Island', 'ohe_Island_Biscoe', 'ohe_Island_Dream', 'ohe_Island_Torgersen']]\n",
    "    # print(df_check)\n",
    "    # df_check_1 = df.loc[:, ['Sex', 'ohe_Sex_MALE', 'ohe_Sex_FEMALE']]\n",
    "    # print(df_check_1)\n",
    "    # print(f\"Waiting for input...\")\n",
    "    return df \n",
    "\n",
    "def encode_label(df, labelname):\n",
    "    label_encoder = LabelEncoder()\n",
    "    integer_encoded = label_encoder.fit_transform(df[labelname]).reshape(-1,1)\n",
    "    df['encoded_' + labelname] = integer_encoded\n",
    "    return df \n",
    "\n",
    "\n",
    "\n",
    "train_frac = 0.7\n",
    "df_subset = train_csv.loc[:,:]\n",
    "#Renaming for easier use \n",
    "df_subset = df_subset.rename(columns={\"Clutch Completion\": \"Clutch_Completion\"})\n",
    "df_subset = encode_features(df_subset, [\"Island\", \"Sex\", \"Clutch_Completion\"])\n",
    "df_subset = encode_label(df_subset, \"Species\")\n",
    "#Train Test Split\n",
    "df_train, df_test = train_test_split(df_subset, train_frac)"
   ]
  },
  {
   "cell_type": "code",
   "execution_count": 61,
   "id": "9fef17ae",
   "metadata": {},
   "outputs": [
    {
     "name": "stdout",
     "output_type": "stream",
     "text": [
      "Classification Report:\n",
      "                   precision    recall  f1-score   support\n",
      "\n",
      "   Adelie Penguin       1.00      0.94      0.97        35\n",
      "Chinstrap penguin       0.89      1.00      0.94        16\n",
      "   Gentoo penguin       1.00      1.00      1.00        32\n",
      "\n",
      "         accuracy                           0.98        83\n",
      "        macro avg       0.96      0.98      0.97        83\n",
      "     weighted avg       0.98      0.98      0.98        83\n",
      "\n",
      "Confusion_matrix\n",
      "[[33  2  0]\n",
      " [ 0 16  0]\n",
      " [ 0  0 32]]\n"
     ]
    }
   ],
   "source": [
    "def create_bootstrap_train(df):\n",
    "    t_k = df.sample(n = df.shape[0], replace=True)\n",
    "    return t_k\n",
    "\n",
    "def create_dt(X_train, Y_train):\n",
    "    clf = DecisionTreeClassifier(criterion=\"gini\", max_features=\"log2\")\n",
    "    clf.fit(X_train, Y_train)\n",
    "    return clf \n",
    "\n",
    "#Creating the decision tree\n",
    "n = 5\n",
    "feature_ls = ['ohe_Island_Biscoe', 'ohe_Island_Dream', 'ohe_Island_Torgersen', 'ohe_Sex_FEMALE', 'ohe_Sex_MALE',\\\n",
    "               'ohe_Clutch_Completion_No', 'ohe_Clutch_Completion_Yes', 'Culmen Length (mm)', 'Culmen Depth (mm)',\\\n",
    "                'Flipper Length (mm)', 'Body Mass (g)', 'Delta 15 N (o/oo)', 'Delta 13 C (o/oo)']\n",
    "label_ls = ['encoded_Species']\n",
    "clf_ls = []\n",
    "for i_iter in range(0, n):\n",
    "    df_bootstrap_train = create_bootstrap_train(df_train)\n",
    "    X_train, Y_train = df_bootstrap_train.loc[:, feature_ls].to_numpy(), df_bootstrap_train.loc[:, label_ls].to_numpy()\n",
    "    clf = create_dt(X_train, Y_train)\n",
    "    clf_ls.append(clf)\n",
    "\n",
    "\n",
    "#Prediction\n",
    "X_test, Y_test = df_test.loc[:, feature_ls].to_numpy(), df_test.loc[:, label_ls].to_numpy()\n",
    "for i_iter, classifier in enumerate(clf_ls):\n",
    "    Y_pred = classifier.predict(X_test).reshape(1,-1)\n",
    "    if i_iter == 0:\n",
    "        Y_pred_arr = Y_pred\n",
    "    else:\n",
    "        Y_pred_arr = np.concatenate((Y_pred_arr, Y_pred), axis=0)\n",
    "\n",
    "Y_pred_best_ls = []\n",
    "for j_iter in range(0, Y_pred_arr.shape[1]):\n",
    "    counts = np.bincount(Y_pred_arr[:,j_iter]) #count the number of elements of each value\n",
    "    Y_pred_best_ls.append(np.argwhere(counts == np.max(counts))[-1][0])\n",
    "\n",
    "target_names = ['Adelie Penguin', 'Chinstrap penguin', 'Gentoo penguin']\n",
    "print(f\"Classification Report:\")\n",
    "print(classification_report(Y_test, Y_pred_best_ls, target_names=target_names))\n",
    "print(f\"Confusion_matrix\")\n",
    "print(confusion_matrix(Y_test, Y_pred_best_ls))\n"
   ]
  }
 ],
 "metadata": {
  "kernelspec": {
   "display_name": "Python 3 (ipykernel)",
   "language": "python",
   "name": "python3"
  },
  "language_info": {
   "codemirror_mode": {
    "name": "ipython",
    "version": 3
   },
   "file_extension": ".py",
   "mimetype": "text/x-python",
   "name": "python",
   "nbconvert_exporter": "python",
   "pygments_lexer": "ipython3",
   "version": "3.11.4"
  }
 },
 "nbformat": 4,
 "nbformat_minor": 5
}
