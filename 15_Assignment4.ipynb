{
 "cells": [
  {
   "cell_type": "markdown",
   "id": "0705ff6a",
   "metadata": {},
   "source": [
    "This file contains:\n",
    "- Initial pre-processing of the **penguins_train.csv** data taking into consideration the data cleaning (imputation), data skew handling (mean or median for data imputation), handling categorical values and continuous values (by encoding and normalization). <br />\n",
    "<br />\n",
    "- Evaluating the OvO and OvA SVM model on Test Set (splitting **penguins_train.csv** to train and test) to come up with best parameters that will later be used for making predictions on **penguins_test.csv** (another file).<br />\n",
    "<br />\n",
    "- Initial pre-processing of the **penguins_test.csv**. We employ the same procedure as described for the *penguins_train.csv* above.<br />\n"
   ]
  },
  {
   "cell_type": "markdown",
   "id": "816bfbf3",
   "metadata": {},
   "source": [
    "### **1. Importing Libraries**"
   ]
  },
  {
   "cell_type": "code",
   "execution_count": 1,
   "id": "97256b60",
   "metadata": {},
   "outputs": [],
   "source": [
    "import pandas as pd                                                 # Importing for panel data analysis\n",
    "#-------------------------------------------------------------------------------------------------------------------------------\n",
    "import numpy as np                                                  # Importing package numpys (For Numerical Python)\n",
    "#-------------------------------------------------------------------------------------------------------------------------------\n",
    "import matplotlib.pyplot as plt                                     # Importing pyplot interface of matplotlib\n",
    "import seaborn as sns                                               # Importing seaborn library for interactive visualization\n",
    "%matplotlib inline\n",
    "#--------------------~-----------------------------------------------------------------------------------------------------------\n",
    "from sklearn.metrics import classification_report, confusion_matrix\n",
    "from sklearn.metrics import accuracy_score\n",
    "#--------------------~-----------------------------------------------------------------------------------------------------------\n",
    "from sklearn.model_selection import train_test_split\n",
    "from sklearn.model_selection import StratifiedKFold\n",
    "from sklearn.tree import DecisionTreeClassifier\n",
    "from statistics import mean, stdev\n",
    "from itertools import combinations\n",
    "from sklearn.svm import SVC\n",
    "import pickle\n",
    "#--------------------~-----------------------------------------------------------------------------------------------------------\n",
    "import warnings                                                     # Importing warning to disable runtime warnings\n",
    "warnings.filterwarnings(\"ignore\")                                   # Warnings will appear only once"
   ]
  },
  {
   "cell_type": "code",
   "execution_count": 2,
   "id": "9f7b95a3",
   "metadata": {},
   "outputs": [
    {
     "name": "stdout",
     "output_type": "stream",
     "text": [
      "Shape of the dataset: (274, 10)\n"
     ]
    },
    {
     "data": {
      "text/html": [
       "<div>\n",
       "<style scoped>\n",
       "    .dataframe tbody tr th:only-of-type {\n",
       "        vertical-align: middle;\n",
       "    }\n",
       "\n",
       "    .dataframe tbody tr th {\n",
       "        vertical-align: top;\n",
       "    }\n",
       "\n",
       "    .dataframe thead th {\n",
       "        text-align: right;\n",
       "    }\n",
       "</style>\n",
       "<table border=\"1\" class=\"dataframe\">\n",
       "  <thead>\n",
       "    <tr style=\"text-align: right;\">\n",
       "      <th></th>\n",
       "      <th>Island</th>\n",
       "      <th>Clutch Completion</th>\n",
       "      <th>Culmen Length (mm)</th>\n",
       "      <th>Culmen Depth (mm)</th>\n",
       "      <th>Flipper Length (mm)</th>\n",
       "      <th>Body Mass (g)</th>\n",
       "      <th>Sex</th>\n",
       "      <th>Delta 15 N (o/oo)</th>\n",
       "      <th>Delta 13 C (o/oo)</th>\n",
       "      <th>Species</th>\n",
       "    </tr>\n",
       "  </thead>\n",
       "  <tbody>\n",
       "    <tr>\n",
       "      <th>0</th>\n",
       "      <td>Biscoe</td>\n",
       "      <td>Yes</td>\n",
       "      <td>38.8</td>\n",
       "      <td>17.2</td>\n",
       "      <td>180.0</td>\n",
       "      <td>3800.0</td>\n",
       "      <td>MALE</td>\n",
       "      <td>9.63954</td>\n",
       "      <td>-25.29856</td>\n",
       "      <td>Adelie Penguin (Pygoscelis adeliae)</td>\n",
       "    </tr>\n",
       "    <tr>\n",
       "      <th>1</th>\n",
       "      <td>Torgersen</td>\n",
       "      <td>Yes</td>\n",
       "      <td>41.1</td>\n",
       "      <td>18.6</td>\n",
       "      <td>189.0</td>\n",
       "      <td>3325.0</td>\n",
       "      <td>MALE</td>\n",
       "      <td>9.32277</td>\n",
       "      <td>-26.09989</td>\n",
       "      <td>Adelie Penguin (Pygoscelis adeliae)</td>\n",
       "    </tr>\n",
       "    <tr>\n",
       "      <th>2</th>\n",
       "      <td>Biscoe</td>\n",
       "      <td>Yes</td>\n",
       "      <td>39.0</td>\n",
       "      <td>17.5</td>\n",
       "      <td>186.0</td>\n",
       "      <td>3550.0</td>\n",
       "      <td>FEMALE</td>\n",
       "      <td>8.57199</td>\n",
       "      <td>-26.07188</td>\n",
       "      <td>Adelie Penguin (Pygoscelis adeliae)</td>\n",
       "    </tr>\n",
       "  </tbody>\n",
       "</table>\n",
       "</div>"
      ],
      "text/plain": [
       "      Island Clutch Completion  Culmen Length (mm)  Culmen Depth (mm)  \\\n",
       "0     Biscoe               Yes                38.8               17.2   \n",
       "1  Torgersen               Yes                41.1               18.6   \n",
       "2     Biscoe               Yes                39.0               17.5   \n",
       "\n",
       "   Flipper Length (mm)  Body Mass (g)     Sex  Delta 15 N (o/oo)  \\\n",
       "0                180.0         3800.0    MALE            9.63954   \n",
       "1                189.0         3325.0    MALE            9.32277   \n",
       "2                186.0         3550.0  FEMALE            8.57199   \n",
       "\n",
       "   Delta 13 C (o/oo)                              Species  \n",
       "0          -25.29856  Adelie Penguin (Pygoscelis adeliae)  \n",
       "1          -26.09989  Adelie Penguin (Pygoscelis adeliae)  \n",
       "2          -26.07188  Adelie Penguin (Pygoscelis adeliae)  "
      ]
     },
     "execution_count": 2,
     "metadata": {},
     "output_type": "execute_result"
    }
   ],
   "source": [
    "# Import training data into pandas dataframe\n",
    "train_csv = pd.read_csv('./penguins_train.csv')\n",
    "print('Shape of the dataset:', train_csv.shape)\n",
    "train_csv.head(3)"
   ]
  },
  {
   "cell_type": "markdown",
   "id": "31d212df",
   "metadata": {},
   "source": [
    "### **2. Data Preprocessing**\n",
    "- Here we try to understand our data and preprocess it to the desirable format.\n",
    "- All the observations are written in bullet points in markdown."
   ]
  },
  {
   "cell_type": "code",
   "execution_count": 3,
   "id": "55e3084c",
   "metadata": {},
   "outputs": [
    {
     "name": "stdout",
     "output_type": "stream",
     "text": [
      "<class 'pandas.core.frame.DataFrame'>\n",
      "RangeIndex: 274 entries, 0 to 273\n",
      "Data columns (total 10 columns):\n",
      " #   Column               Non-Null Count  Dtype  \n",
      "---  ------               --------------  -----  \n",
      " 0   Island               274 non-null    object \n",
      " 1   Clutch Completion    274 non-null    object \n",
      " 2   Culmen Length (mm)   272 non-null    float64\n",
      " 3   Culmen Depth (mm)    272 non-null    float64\n",
      " 4   Flipper Length (mm)  272 non-null    float64\n",
      " 5   Body Mass (g)        272 non-null    float64\n",
      " 6   Sex                  267 non-null    object \n",
      " 7   Delta 15 N (o/oo)    262 non-null    float64\n",
      " 8   Delta 13 C (o/oo)    263 non-null    float64\n",
      " 9   Species              274 non-null    object \n",
      "dtypes: float64(6), object(4)\n",
      "memory usage: 21.5+ KB\n"
     ]
    }
   ],
   "source": [
    "train_csv.info()"
   ]
  },
  {
   "cell_type": "markdown",
   "id": "b0768076",
   "metadata": {},
   "source": [
    "- From above we can observe that there are missing values in the attributes: <br/> 'Culmen Length (mm)', 'Culmen Depth (mm)', 'Flipper Length (mm)', 'Body Mass (g)', 'Sex', 'Delta 15 N (o/oo)', 'Delta 13 C (o/oo)'."
   ]
  },
  {
   "cell_type": "code",
   "execution_count": 4,
   "id": "f1417cfe",
   "metadata": {},
   "outputs": [
    {
     "data": {
      "text/html": [
       "<div>\n",
       "<style scoped>\n",
       "    .dataframe tbody tr th:only-of-type {\n",
       "        vertical-align: middle;\n",
       "    }\n",
       "\n",
       "    .dataframe tbody tr th {\n",
       "        vertical-align: top;\n",
       "    }\n",
       "\n",
       "    .dataframe thead th {\n",
       "        text-align: right;\n",
       "    }\n",
       "</style>\n",
       "<table border=\"1\" class=\"dataframe\">\n",
       "  <thead>\n",
       "    <tr style=\"text-align: right;\">\n",
       "      <th></th>\n",
       "      <th>Island</th>\n",
       "      <th>Clutch Completion</th>\n",
       "      <th>Culmen Length (mm)</th>\n",
       "      <th>Culmen Depth (mm)</th>\n",
       "      <th>Flipper Length (mm)</th>\n",
       "      <th>Body Mass (g)</th>\n",
       "      <th>Sex</th>\n",
       "      <th>Delta 15 N (o/oo)</th>\n",
       "      <th>Delta 13 C (o/oo)</th>\n",
       "      <th>Species</th>\n",
       "    </tr>\n",
       "  </thead>\n",
       "  <tbody>\n",
       "    <tr>\n",
       "      <th>7</th>\n",
       "      <td>Dream</td>\n",
       "      <td>Yes</td>\n",
       "      <td>40.8</td>\n",
       "      <td>18.4</td>\n",
       "      <td>195.0</td>\n",
       "      <td>3900.0</td>\n",
       "      <td>MALE</td>\n",
       "      <td>NaN</td>\n",
       "      <td>NaN</td>\n",
       "      <td>Adelie Penguin (Pygoscelis adeliae)</td>\n",
       "    </tr>\n",
       "    <tr>\n",
       "      <th>26</th>\n",
       "      <td>Torgersen</td>\n",
       "      <td>Yes</td>\n",
       "      <td>42.0</td>\n",
       "      <td>20.2</td>\n",
       "      <td>190.0</td>\n",
       "      <td>4250.0</td>\n",
       "      <td>NaN</td>\n",
       "      <td>9.13362</td>\n",
       "      <td>-25.09368</td>\n",
       "      <td>Adelie Penguin (Pygoscelis adeliae)</td>\n",
       "    </tr>\n",
       "    <tr>\n",
       "      <th>51</th>\n",
       "      <td>Dream</td>\n",
       "      <td>Yes</td>\n",
       "      <td>51.9</td>\n",
       "      <td>19.5</td>\n",
       "      <td>206.0</td>\n",
       "      <td>3950.0</td>\n",
       "      <td>MALE</td>\n",
       "      <td>NaN</td>\n",
       "      <td>-23.78767</td>\n",
       "      <td>Chinstrap penguin (Pygoscelis antarctica)</td>\n",
       "    </tr>\n",
       "    <tr>\n",
       "      <th>62</th>\n",
       "      <td>Torgersen</td>\n",
       "      <td>Yes</td>\n",
       "      <td>36.6</td>\n",
       "      <td>17.8</td>\n",
       "      <td>185.0</td>\n",
       "      <td>3700.0</td>\n",
       "      <td>FEMALE</td>\n",
       "      <td>NaN</td>\n",
       "      <td>NaN</td>\n",
       "      <td>Adelie Penguin (Pygoscelis adeliae)</td>\n",
       "    </tr>\n",
       "    <tr>\n",
       "      <th>82</th>\n",
       "      <td>Torgersen</td>\n",
       "      <td>Yes</td>\n",
       "      <td>37.8</td>\n",
       "      <td>17.3</td>\n",
       "      <td>180.0</td>\n",
       "      <td>3700.0</td>\n",
       "      <td>NaN</td>\n",
       "      <td>NaN</td>\n",
       "      <td>NaN</td>\n",
       "      <td>Adelie Penguin (Pygoscelis adeliae)</td>\n",
       "    </tr>\n",
       "    <tr>\n",
       "      <th>97</th>\n",
       "      <td>Biscoe</td>\n",
       "      <td>Yes</td>\n",
       "      <td>47.3</td>\n",
       "      <td>15.3</td>\n",
       "      <td>222.0</td>\n",
       "      <td>5250.0</td>\n",
       "      <td>MALE</td>\n",
       "      <td>NaN</td>\n",
       "      <td>NaN</td>\n",
       "      <td>Gentoo penguin (Pygoscelis papua)</td>\n",
       "    </tr>\n",
       "    <tr>\n",
       "      <th>169</th>\n",
       "      <td>Biscoe</td>\n",
       "      <td>No</td>\n",
       "      <td>NaN</td>\n",
       "      <td>NaN</td>\n",
       "      <td>NaN</td>\n",
       "      <td>NaN</td>\n",
       "      <td>NaN</td>\n",
       "      <td>NaN</td>\n",
       "      <td>NaN</td>\n",
       "      <td>Gentoo penguin (Pygoscelis papua)</td>\n",
       "    </tr>\n",
       "    <tr>\n",
       "      <th>170</th>\n",
       "      <td>Torgersen</td>\n",
       "      <td>Yes</td>\n",
       "      <td>38.6</td>\n",
       "      <td>21.2</td>\n",
       "      <td>191.0</td>\n",
       "      <td>3800.0</td>\n",
       "      <td>MALE</td>\n",
       "      <td>NaN</td>\n",
       "      <td>NaN</td>\n",
       "      <td>Adelie Penguin (Pygoscelis adeliae)</td>\n",
       "    </tr>\n",
       "    <tr>\n",
       "      <th>197</th>\n",
       "      <td>Torgersen</td>\n",
       "      <td>Yes</td>\n",
       "      <td>34.1</td>\n",
       "      <td>18.1</td>\n",
       "      <td>193.0</td>\n",
       "      <td>3475.0</td>\n",
       "      <td>NaN</td>\n",
       "      <td>NaN</td>\n",
       "      <td>NaN</td>\n",
       "      <td>Adelie Penguin (Pygoscelis adeliae)</td>\n",
       "    </tr>\n",
       "    <tr>\n",
       "      <th>206</th>\n",
       "      <td>Biscoe</td>\n",
       "      <td>Yes</td>\n",
       "      <td>46.2</td>\n",
       "      <td>14.4</td>\n",
       "      <td>214.0</td>\n",
       "      <td>4650.0</td>\n",
       "      <td>NaN</td>\n",
       "      <td>8.24253</td>\n",
       "      <td>-26.81540</td>\n",
       "      <td>Gentoo penguin (Pygoscelis papua)</td>\n",
       "    </tr>\n",
       "    <tr>\n",
       "      <th>207</th>\n",
       "      <td>Dream</td>\n",
       "      <td>No</td>\n",
       "      <td>39.8</td>\n",
       "      <td>19.1</td>\n",
       "      <td>184.0</td>\n",
       "      <td>4650.0</td>\n",
       "      <td>MALE</td>\n",
       "      <td>NaN</td>\n",
       "      <td>NaN</td>\n",
       "      <td>Adelie Penguin (Pygoscelis adeliae)</td>\n",
       "    </tr>\n",
       "    <tr>\n",
       "      <th>212</th>\n",
       "      <td>Torgersen</td>\n",
       "      <td>Yes</td>\n",
       "      <td>37.8</td>\n",
       "      <td>17.1</td>\n",
       "      <td>186.0</td>\n",
       "      <td>3300.0</td>\n",
       "      <td>NaN</td>\n",
       "      <td>8.63243</td>\n",
       "      <td>-25.21315</td>\n",
       "      <td>Adelie Penguin (Pygoscelis adeliae)</td>\n",
       "    </tr>\n",
       "    <tr>\n",
       "      <th>218</th>\n",
       "      <td>Torgersen</td>\n",
       "      <td>Yes</td>\n",
       "      <td>41.1</td>\n",
       "      <td>17.6</td>\n",
       "      <td>182.0</td>\n",
       "      <td>3200.0</td>\n",
       "      <td>FEMALE</td>\n",
       "      <td>NaN</td>\n",
       "      <td>NaN</td>\n",
       "      <td>Adelie Penguin (Pygoscelis adeliae)</td>\n",
       "    </tr>\n",
       "    <tr>\n",
       "      <th>229</th>\n",
       "      <td>Dream</td>\n",
       "      <td>Yes</td>\n",
       "      <td>41.1</td>\n",
       "      <td>19.0</td>\n",
       "      <td>182.0</td>\n",
       "      <td>3425.0</td>\n",
       "      <td>MALE</td>\n",
       "      <td>NaN</td>\n",
       "      <td>NaN</td>\n",
       "      <td>Adelie Penguin (Pygoscelis adeliae)</td>\n",
       "    </tr>\n",
       "    <tr>\n",
       "      <th>248</th>\n",
       "      <td>Torgersen</td>\n",
       "      <td>Yes</td>\n",
       "      <td>NaN</td>\n",
       "      <td>NaN</td>\n",
       "      <td>NaN</td>\n",
       "      <td>NaN</td>\n",
       "      <td>NaN</td>\n",
       "      <td>NaN</td>\n",
       "      <td>NaN</td>\n",
       "      <td>Adelie Penguin (Pygoscelis adeliae)</td>\n",
       "    </tr>\n",
       "  </tbody>\n",
       "</table>\n",
       "</div>"
      ],
      "text/plain": [
       "        Island Clutch Completion  Culmen Length (mm)  Culmen Depth (mm)  \\\n",
       "7        Dream               Yes                40.8               18.4   \n",
       "26   Torgersen               Yes                42.0               20.2   \n",
       "51       Dream               Yes                51.9               19.5   \n",
       "62   Torgersen               Yes                36.6               17.8   \n",
       "82   Torgersen               Yes                37.8               17.3   \n",
       "97      Biscoe               Yes                47.3               15.3   \n",
       "169     Biscoe                No                 NaN                NaN   \n",
       "170  Torgersen               Yes                38.6               21.2   \n",
       "197  Torgersen               Yes                34.1               18.1   \n",
       "206     Biscoe               Yes                46.2               14.4   \n",
       "207      Dream                No                39.8               19.1   \n",
       "212  Torgersen               Yes                37.8               17.1   \n",
       "218  Torgersen               Yes                41.1               17.6   \n",
       "229      Dream               Yes                41.1               19.0   \n",
       "248  Torgersen               Yes                 NaN                NaN   \n",
       "\n",
       "     Flipper Length (mm)  Body Mass (g)     Sex  Delta 15 N (o/oo)  \\\n",
       "7                  195.0         3900.0    MALE                NaN   \n",
       "26                 190.0         4250.0     NaN            9.13362   \n",
       "51                 206.0         3950.0    MALE                NaN   \n",
       "62                 185.0         3700.0  FEMALE                NaN   \n",
       "82                 180.0         3700.0     NaN                NaN   \n",
       "97                 222.0         5250.0    MALE                NaN   \n",
       "169                  NaN            NaN     NaN                NaN   \n",
       "170                191.0         3800.0    MALE                NaN   \n",
       "197                193.0         3475.0     NaN                NaN   \n",
       "206                214.0         4650.0     NaN            8.24253   \n",
       "207                184.0         4650.0    MALE                NaN   \n",
       "212                186.0         3300.0     NaN            8.63243   \n",
       "218                182.0         3200.0  FEMALE                NaN   \n",
       "229                182.0         3425.0    MALE                NaN   \n",
       "248                  NaN            NaN     NaN                NaN   \n",
       "\n",
       "     Delta 13 C (o/oo)                                    Species  \n",
       "7                  NaN        Adelie Penguin (Pygoscelis adeliae)  \n",
       "26           -25.09368        Adelie Penguin (Pygoscelis adeliae)  \n",
       "51           -23.78767  Chinstrap penguin (Pygoscelis antarctica)  \n",
       "62                 NaN        Adelie Penguin (Pygoscelis adeliae)  \n",
       "82                 NaN        Adelie Penguin (Pygoscelis adeliae)  \n",
       "97                 NaN          Gentoo penguin (Pygoscelis papua)  \n",
       "169                NaN          Gentoo penguin (Pygoscelis papua)  \n",
       "170                NaN        Adelie Penguin (Pygoscelis adeliae)  \n",
       "197                NaN        Adelie Penguin (Pygoscelis adeliae)  \n",
       "206          -26.81540          Gentoo penguin (Pygoscelis papua)  \n",
       "207                NaN        Adelie Penguin (Pygoscelis adeliae)  \n",
       "212          -25.21315        Adelie Penguin (Pygoscelis adeliae)  \n",
       "218                NaN        Adelie Penguin (Pygoscelis adeliae)  \n",
       "229                NaN        Adelie Penguin (Pygoscelis adeliae)  \n",
       "248                NaN        Adelie Penguin (Pygoscelis adeliae)  "
      ]
     },
     "execution_count": 4,
     "metadata": {},
     "output_type": "execute_result"
    }
   ],
   "source": [
    "# Visualize the rows that have missing values\n",
    "train_csv[train_csv.isnull().any(axis=1)]"
   ]
  },
  {
   "cell_type": "markdown",
   "id": "bf929749",
   "metadata": {},
   "source": [
    "- So, in total we have 15 rows out of 274 where missing data exists. This makes 5% of the entire data."
   ]
  },
  {
   "cell_type": "markdown",
   "id": "49e0f46a",
   "metadata": {},
   "source": [
    "----"
   ]
  },
  {
   "cell_type": "markdown",
   "id": "16ca4c0c",
   "metadata": {},
   "source": [
    "- Let's analyze number of unique values in each of the categorical columns"
   ]
  },
  {
   "cell_type": "code",
   "execution_count": 5,
   "id": "b8fc1e5b",
   "metadata": {},
   "outputs": [
    {
     "name": "stdout",
     "output_type": "stream",
     "text": [
      "Island\n",
      "Biscoe       132\n",
      "Dream        102\n",
      "Torgersen     40\n",
      "Name: count, dtype: int64\n",
      "----------------------------------\n",
      "Clutch Completion\n",
      "Yes    245\n",
      "No      29\n",
      "Name: count, dtype: int64\n",
      "----------------------------------\n",
      "Species\n",
      "Adelie Penguin (Pygoscelis adeliae)          121\n",
      "Gentoo penguin (Pygoscelis papua)             95\n",
      "Chinstrap penguin (Pygoscelis antarctica)     58\n",
      "Name: count, dtype: int64\n",
      "----------------------------------\n",
      "Sex\n",
      "MALE      135\n",
      "FEMALE    131\n",
      ".           1\n",
      "Name: count, dtype: int64\n",
      "----------------------------------\n"
     ]
    }
   ],
   "source": [
    "print(train_csv[\"Island\"].value_counts())\n",
    "print(\"----------------------------------\")\n",
    "print(train_csv[\"Clutch Completion\"].value_counts())\n",
    "print(\"----------------------------------\")\n",
    "print(train_csv[\"Species\"].value_counts())\n",
    "print(\"----------------------------------\")\n",
    "print(train_csv[\"Sex\"].value_counts())\n",
    "print(\"----------------------------------\")"
   ]
  },
  {
   "cell_type": "code",
   "execution_count": 6,
   "id": "716c6285",
   "metadata": {},
   "outputs": [
    {
     "data": {
      "text/html": [
       "<div>\n",
       "<style scoped>\n",
       "    .dataframe tbody tr th:only-of-type {\n",
       "        vertical-align: middle;\n",
       "    }\n",
       "\n",
       "    .dataframe tbody tr th {\n",
       "        vertical-align: top;\n",
       "    }\n",
       "\n",
       "    .dataframe thead th {\n",
       "        text-align: right;\n",
       "    }\n",
       "</style>\n",
       "<table border=\"1\" class=\"dataframe\">\n",
       "  <thead>\n",
       "    <tr style=\"text-align: right;\">\n",
       "      <th></th>\n",
       "      <th>Island</th>\n",
       "      <th>Clutch Completion</th>\n",
       "      <th>Culmen Length (mm)</th>\n",
       "      <th>Culmen Depth (mm)</th>\n",
       "      <th>Flipper Length (mm)</th>\n",
       "      <th>Body Mass (g)</th>\n",
       "      <th>Sex</th>\n",
       "      <th>Delta 15 N (o/oo)</th>\n",
       "      <th>Delta 13 C (o/oo)</th>\n",
       "      <th>Species</th>\n",
       "    </tr>\n",
       "  </thead>\n",
       "  <tbody>\n",
       "    <tr>\n",
       "      <th>219</th>\n",
       "      <td>Biscoe</td>\n",
       "      <td>Yes</td>\n",
       "      <td>44.5</td>\n",
       "      <td>15.7</td>\n",
       "      <td>217.0</td>\n",
       "      <td>4875.0</td>\n",
       "      <td>.</td>\n",
       "      <td>8.04111</td>\n",
       "      <td>-26.18444</td>\n",
       "      <td>Gentoo penguin (Pygoscelis papua)</td>\n",
       "    </tr>\n",
       "  </tbody>\n",
       "</table>\n",
       "</div>"
      ],
      "text/plain": [
       "     Island Clutch Completion  Culmen Length (mm)  Culmen Depth (mm)  \\\n",
       "219  Biscoe               Yes                44.5               15.7   \n",
       "\n",
       "     Flipper Length (mm)  Body Mass (g) Sex  Delta 15 N (o/oo)  \\\n",
       "219                217.0         4875.0   .            8.04111   \n",
       "\n",
       "     Delta 13 C (o/oo)                            Species  \n",
       "219          -26.18444  Gentoo penguin (Pygoscelis papua)  "
      ]
     },
     "execution_count": 6,
     "metadata": {},
     "output_type": "execute_result"
    }
   ],
   "source": [
    "# Display the row where there is an anomolous value `.` in 'Sex' column.\n",
    "results = train_csv.loc[train_csv[\"Sex\"] == '.']\n",
    "results"
   ]
  },
  {
   "cell_type": "code",
   "execution_count": 7,
   "id": "2485c4d6",
   "metadata": {},
   "outputs": [],
   "source": [
    "# Insert the Null (NaN) value in place of '.' value\n",
    "train_csv.at[219,'Sex']=np.nan"
   ]
  },
  {
   "cell_type": "code",
   "execution_count": 8,
   "id": "b6582500",
   "metadata": {},
   "outputs": [
    {
     "name": "stdout",
     "output_type": "stream",
     "text": [
      "<class 'pandas.core.frame.DataFrame'>\n",
      "RangeIndex: 274 entries, 0 to 273\n",
      "Data columns (total 10 columns):\n",
      " #   Column               Non-Null Count  Dtype  \n",
      "---  ------               --------------  -----  \n",
      " 0   Island               274 non-null    object \n",
      " 1   Clutch Completion    274 non-null    object \n",
      " 2   Culmen Length (mm)   272 non-null    float64\n",
      " 3   Culmen Depth (mm)    272 non-null    float64\n",
      " 4   Flipper Length (mm)  272 non-null    float64\n",
      " 5   Body Mass (g)        272 non-null    float64\n",
      " 6   Sex                  266 non-null    object \n",
      " 7   Delta 15 N (o/oo)    262 non-null    float64\n",
      " 8   Delta 13 C (o/oo)    263 non-null    float64\n",
      " 9   Species              274 non-null    object \n",
      "dtypes: float64(6), object(4)\n",
      "memory usage: 21.5+ KB\n"
     ]
    }
   ],
   "source": [
    "train_csv.info()"
   ]
  },
  {
   "cell_type": "markdown",
   "id": "d99278c1",
   "metadata": {},
   "source": [
    "----"
   ]
  },
  {
   "cell_type": "markdown",
   "id": "2782ed55",
   "metadata": {},
   "source": [
    "- To fill in the missing values, we may consider an imputation technique.\n",
    "- Let's normalize the data (continuous attributes) before considering any imputation techniques.\n",
    "- We are choosing z-score normalization to retain the outlier information."
   ]
  },
  {
   "cell_type": "code",
   "execution_count": 9,
   "id": "0ccc9f22",
   "metadata": {},
   "outputs": [],
   "source": [
    "train_csv[\"Culmen Length (mm)\"] = (train_csv[\"Culmen Length (mm)\"] - train_csv[\"Culmen Length (mm)\"].mean())/train_csv[\"Culmen Length (mm)\"].std()\n",
    "train_csv[\"Culmen Depth (mm)\"] = (train_csv[\"Culmen Depth (mm)\"] - train_csv[\"Culmen Depth (mm)\"].mean())/train_csv[\"Culmen Depth (mm)\"].std()\n",
    "train_csv[\"Flipper Length (mm)\"] = (train_csv[\"Flipper Length (mm)\"] - train_csv[\"Flipper Length (mm)\"].mean())/train_csv[\"Flipper Length (mm)\"].std()\n",
    "train_csv[\"Body Mass (g)\"] = (train_csv[\"Body Mass (g)\"] - train_csv[\"Body Mass (g)\"].mean())/train_csv[\"Body Mass (g)\"].std()\n",
    "train_csv[\"Delta 15 N (o/oo)\"] = (train_csv[\"Delta 15 N (o/oo)\"] - train_csv[\"Delta 15 N (o/oo)\"].mean())/train_csv[\"Delta 15 N (o/oo)\"].std()\n",
    "train_csv[\"Delta 13 C (o/oo)\"] = (train_csv[\"Delta 13 C (o/oo)\"] - train_csv[\"Delta 13 C (o/oo)\"].mean())/train_csv[\"Delta 13 C (o/oo)\"].std()"
   ]
  },
  {
   "cell_type": "code",
   "execution_count": 10,
   "id": "89cb1b35",
   "metadata": {},
   "outputs": [
    {
     "data": {
      "text/html": [
       "<div>\n",
       "<style scoped>\n",
       "    .dataframe tbody tr th:only-of-type {\n",
       "        vertical-align: middle;\n",
       "    }\n",
       "\n",
       "    .dataframe tbody tr th {\n",
       "        vertical-align: top;\n",
       "    }\n",
       "\n",
       "    .dataframe thead th {\n",
       "        text-align: right;\n",
       "    }\n",
       "</style>\n",
       "<table border=\"1\" class=\"dataframe\">\n",
       "  <thead>\n",
       "    <tr style=\"text-align: right;\">\n",
       "      <th></th>\n",
       "      <th>Island</th>\n",
       "      <th>Clutch Completion</th>\n",
       "      <th>Culmen Length (mm)</th>\n",
       "      <th>Culmen Depth (mm)</th>\n",
       "      <th>Flipper Length (mm)</th>\n",
       "      <th>Body Mass (g)</th>\n",
       "      <th>Sex</th>\n",
       "      <th>Delta 15 N (o/oo)</th>\n",
       "      <th>Delta 13 C (o/oo)</th>\n",
       "      <th>Species</th>\n",
       "    </tr>\n",
       "  </thead>\n",
       "  <tbody>\n",
       "    <tr>\n",
       "      <th>0</th>\n",
       "      <td>Biscoe</td>\n",
       "      <td>Yes</td>\n",
       "      <td>-0.939709</td>\n",
       "      <td>0.008650</td>\n",
       "      <td>-1.479594</td>\n",
       "      <td>-0.477481</td>\n",
       "      <td>MALE</td>\n",
       "      <td>1.581213</td>\n",
       "      <td>0.457687</td>\n",
       "      <td>Adelie Penguin (Pygoscelis adeliae)</td>\n",
       "    </tr>\n",
       "    <tr>\n",
       "      <th>1</th>\n",
       "      <td>Torgersen</td>\n",
       "      <td>Yes</td>\n",
       "      <td>-0.524978</td>\n",
       "      <td>0.724744</td>\n",
       "      <td>-0.837160</td>\n",
       "      <td>-1.069378</td>\n",
       "      <td>MALE</td>\n",
       "      <td>1.018050</td>\n",
       "      <td>-0.534716</td>\n",
       "      <td>Adelie Penguin (Pygoscelis adeliae)</td>\n",
       "    </tr>\n",
       "    <tr>\n",
       "      <th>2</th>\n",
       "      <td>Biscoe</td>\n",
       "      <td>Yes</td>\n",
       "      <td>-0.903646</td>\n",
       "      <td>0.162099</td>\n",
       "      <td>-1.051305</td>\n",
       "      <td>-0.789006</td>\n",
       "      <td>FEMALE</td>\n",
       "      <td>-0.316707</td>\n",
       "      <td>-0.500027</td>\n",
       "      <td>Adelie Penguin (Pygoscelis adeliae)</td>\n",
       "    </tr>\n",
       "  </tbody>\n",
       "</table>\n",
       "</div>"
      ],
      "text/plain": [
       "      Island Clutch Completion  Culmen Length (mm)  Culmen Depth (mm)  \\\n",
       "0     Biscoe               Yes           -0.939709           0.008650   \n",
       "1  Torgersen               Yes           -0.524978           0.724744   \n",
       "2     Biscoe               Yes           -0.903646           0.162099   \n",
       "\n",
       "   Flipper Length (mm)  Body Mass (g)     Sex  Delta 15 N (o/oo)  \\\n",
       "0            -1.479594      -0.477481    MALE           1.581213   \n",
       "1            -0.837160      -1.069378    MALE           1.018050   \n",
       "2            -1.051305      -0.789006  FEMALE          -0.316707   \n",
       "\n",
       "   Delta 13 C (o/oo)                              Species  \n",
       "0           0.457687  Adelie Penguin (Pygoscelis adeliae)  \n",
       "1          -0.534716  Adelie Penguin (Pygoscelis adeliae)  \n",
       "2          -0.500027  Adelie Penguin (Pygoscelis adeliae)  "
      ]
     },
     "execution_count": 10,
     "metadata": {},
     "output_type": "execute_result"
    }
   ],
   "source": [
    "# After Normalization, our continuous values look like this\n",
    "train_csv.head(3)"
   ]
  },
  {
   "cell_type": "markdown",
   "id": "e68ea215",
   "metadata": {},
   "source": [
    "----"
   ]
  },
  {
   "cell_type": "markdown",
   "id": "d75c57f6",
   "metadata": {},
   "source": [
    "- Let's analyze the continuous valued attribute `Culmen Length (mm)`"
   ]
  },
  {
   "cell_type": "code",
   "execution_count": 11,
   "id": "c5b285f8",
   "metadata": {},
   "outputs": [
    {
     "data": {
      "text/html": [
       "<div>\n",
       "<style scoped>\n",
       "    .dataframe tbody tr th:only-of-type {\n",
       "        vertical-align: middle;\n",
       "    }\n",
       "\n",
       "    .dataframe tbody tr th {\n",
       "        vertical-align: top;\n",
       "    }\n",
       "\n",
       "    .dataframe thead th {\n",
       "        text-align: right;\n",
       "    }\n",
       "</style>\n",
       "<table border=\"1\" class=\"dataframe\">\n",
       "  <thead>\n",
       "    <tr style=\"text-align: right;\">\n",
       "      <th></th>\n",
       "      <th>Island</th>\n",
       "      <th>Clutch Completion</th>\n",
       "      <th>Culmen Length (mm)</th>\n",
       "      <th>Culmen Depth (mm)</th>\n",
       "      <th>Flipper Length (mm)</th>\n",
       "      <th>Body Mass (g)</th>\n",
       "      <th>Sex</th>\n",
       "      <th>Delta 15 N (o/oo)</th>\n",
       "      <th>Delta 13 C (o/oo)</th>\n",
       "      <th>Species</th>\n",
       "    </tr>\n",
       "  </thead>\n",
       "  <tbody>\n",
       "    <tr>\n",
       "      <th>169</th>\n",
       "      <td>Biscoe</td>\n",
       "      <td>No</td>\n",
       "      <td>NaN</td>\n",
       "      <td>NaN</td>\n",
       "      <td>NaN</td>\n",
       "      <td>NaN</td>\n",
       "      <td>NaN</td>\n",
       "      <td>NaN</td>\n",
       "      <td>NaN</td>\n",
       "      <td>Gentoo penguin (Pygoscelis papua)</td>\n",
       "    </tr>\n",
       "    <tr>\n",
       "      <th>248</th>\n",
       "      <td>Torgersen</td>\n",
       "      <td>Yes</td>\n",
       "      <td>NaN</td>\n",
       "      <td>NaN</td>\n",
       "      <td>NaN</td>\n",
       "      <td>NaN</td>\n",
       "      <td>NaN</td>\n",
       "      <td>NaN</td>\n",
       "      <td>NaN</td>\n",
       "      <td>Adelie Penguin (Pygoscelis adeliae)</td>\n",
       "    </tr>\n",
       "  </tbody>\n",
       "</table>\n",
       "</div>"
      ],
      "text/plain": [
       "        Island Clutch Completion  Culmen Length (mm)  Culmen Depth (mm)  \\\n",
       "169     Biscoe                No                 NaN                NaN   \n",
       "248  Torgersen               Yes                 NaN                NaN   \n",
       "\n",
       "     Flipper Length (mm)  Body Mass (g)  Sex  Delta 15 N (o/oo)  \\\n",
       "169                  NaN            NaN  NaN                NaN   \n",
       "248                  NaN            NaN  NaN                NaN   \n",
       "\n",
       "     Delta 13 C (o/oo)                              Species  \n",
       "169                NaN    Gentoo penguin (Pygoscelis papua)  \n",
       "248                NaN  Adelie Penguin (Pygoscelis adeliae)  "
      ]
     },
     "execution_count": 11,
     "metadata": {},
     "output_type": "execute_result"
    }
   ],
   "source": [
    "# Display the rows where the attribulte `Culmen Length` is NaN\n",
    "train_csv[train_csv['Culmen Length (mm)'].isnull()]"
   ]
  },
  {
   "cell_type": "code",
   "execution_count": 12,
   "id": "2c81221c",
   "metadata": {},
   "outputs": [
    {
     "data": {
      "text/plain": [
       "count    2.720000e+02\n",
       "mean    -6.791953e-16\n",
       "std      1.000000e+00\n",
       "min     -2.147840e+00\n",
       "25%     -8.134865e-01\n",
       "50%      7.908804e-02\n",
       "75%      8.499478e-01\n",
       "max      2.810907e+00\n",
       "Name: Culmen Length (mm), dtype: float64"
      ]
     },
     "execution_count": 12,
     "metadata": {},
     "output_type": "execute_result"
    }
   ],
   "source": [
    "train_csv[\"Culmen Length (mm)\"].describe()"
   ]
  },
  {
   "cell_type": "code",
   "execution_count": 13,
   "id": "9eefeca2",
   "metadata": {},
   "outputs": [
    {
     "data": {
      "image/png": "[encoded data removed]",
      "text/plain": [
       "<Figure size 640x480 with 1 Axes>"
      ]
     },
     "metadata": {},
     "output_type": "display_data"
    }
   ],
   "source": [
    "# Creating Box-plot to analyze data distribution\n",
    "figure = plt.figure()                                                                           # Creating a custom figure size\n",
    "sns.boxplot(x='Species', y='Culmen Length (mm)', palette='rainbow', data=train_csv)             # Using seaborn's boxplot() function\n",
    "plt.xlabel(xlabel='Species')                                                                    # Labelling x-axis with a custom label\n",
    "plt.xticks(rotation=5)\n",
    "plt.ylabel(ylabel='Culmen Length (normalized)')                                                 # Labelling y-axis with a custom label\n",
    "plt.title(label='Fig. 1\\n Culmen Length (normalized) Distribution for different species')       # Labelling title with a custom label\n",
    "plt.grid(visible=True)\n",
    "plt.show()"
   ]
  },
  {
   "cell_type": "markdown",
   "id": "b2bf924b",
   "metadata": {},
   "source": [
    "- From the box-plot, we oberve that, for the class `Adelie Penguine`, the `Culmen Length` data distribution is almost symmentric. Therefore, to fill the corresponding `NaN` value at index 248, we will use the mean of the values having the same class.\n",
    "- From the box-plot, we oberve that, for the class `Gentoo Penguine`, the `Culmen Length` data distribution has got outliers. Therefore, to fill the corresponding `NaN` value at index 169, we will use the median of the values having the same class."
   ]
  },
  {
   "cell_type": "code",
   "execution_count": 14,
   "id": "c70ccf17",
   "metadata": {},
   "outputs": [],
   "source": [
    "df_species_adelie = train_csv.loc[train_csv[\"Species\"] == 'Adelie Penguin (Pygoscelis adeliae)']\n",
    "df_species_gentoo = train_csv.loc[train_csv[\"Species\"] == 'Gentoo penguin (Pygoscelis papua)']"
   ]
  },
  {
   "cell_type": "code",
   "execution_count": 15,
   "id": "fd247b3c",
   "metadata": {},
   "outputs": [],
   "source": [
    "train_csv.at[248,'Culmen Length (mm)'] = df_species_adelie[\"Culmen Length (mm)\"].mean()\n",
    "train_csv.at[169,'Culmen Length (mm)'] = df_species_gentoo[\"Culmen Length (mm)\"].median()"
   ]
  },
  {
   "cell_type": "code",
   "execution_count": 16,
   "metadata": {},
   "outputs": [
    {
     "data": {
      "text/html": [
       "<div>\n",
       "<style scoped>\n",
       "    .dataframe tbody tr th:only-of-type {\n",
       "        vertical-align: middle;\n",
       "    }\n",
       "\n",
       "    .dataframe tbody tr th {\n",
       "        vertical-align: top;\n",
       "    }\n",
       "\n",
       "    .dataframe thead th {\n",
       "        text-align: right;\n",
       "    }\n",
       "</style>\n",
       "<table border=\"1\" class=\"dataframe\">\n",
       "  <thead>\n",
       "    <tr style=\"text-align: right;\">\n",
       "      <th></th>\n",
       "      <th>Island</th>\n",
       "      <th>Clutch Completion</th>\n",
       "      <th>Culmen Length (mm)</th>\n",
       "      <th>Culmen Depth (mm)</th>\n",
       "      <th>Flipper Length (mm)</th>\n",
       "      <th>Body Mass (g)</th>\n",
       "      <th>Sex</th>\n",
       "      <th>Delta 15 N (o/oo)</th>\n",
       "      <th>Delta 13 C (o/oo)</th>\n",
       "      <th>Species</th>\n",
       "    </tr>\n",
       "  </thead>\n",
       "  <tbody>\n",
       "  </tbody>\n",
       "</table>\n",
       "</div>"
      ],
      "text/plain": [
       "Empty DataFrame\n",
       "Columns: [Island, Clutch Completion, Culmen Length (mm), Culmen Depth (mm), Flipper Length (mm), Body Mass (g), Sex, Delta 15 N (o/oo), Delta 13 C (o/oo), Species]\n",
       "Index: []"
      ]
     },
     "execution_count": 16,
     "metadata": {},
     "output_type": "execute_result"
    }
   ],
   "source": [
    "train_csv[train_csv['Culmen Length (mm)'].isnull()]"
   ]
  },
  {
   "cell_type": "markdown",
   "id": "55701bb8",
   "metadata": {},
   "source": [
    "- We have filled the missing values of `Culmen Length (mm)` attribute"
   ]
  },
  {
   "cell_type": "markdown",
   "id": "976971fd",
   "metadata": {},
   "source": [
    "----"
   ]
  },
  {
   "cell_type": "markdown",
   "id": "14729ac4",
   "metadata": {},
   "source": [
    "- Let's analyze the continuous valued attribute `Culmen Depth (mm)`"
   ]
  },
  {
   "cell_type": "code",
   "execution_count": 17,
   "id": "cec446cb",
   "metadata": {},
   "outputs": [
    {
     "data": {
      "text/html": [
       "<div>\n",
       "<style scoped>\n",
       "    .dataframe tbody tr th:only-of-type {\n",
       "        vertical-align: middle;\n",
       "    }\n",
       "\n",
       "    .dataframe tbody tr th {\n",
       "        vertical-align: top;\n",
       "    }\n",
       "\n",
       "    .dataframe thead th {\n",
       "        text-align: right;\n",
       "    }\n",
       "</style>\n",
       "<table border=\"1\" class=\"dataframe\">\n",
       "  <thead>\n",
       "    <tr style=\"text-align: right;\">\n",
       "      <th></th>\n",
       "      <th>Island</th>\n",
       "      <th>Clutch Completion</th>\n",
       "      <th>Culmen Length (mm)</th>\n",
       "      <th>Culmen Depth (mm)</th>\n",
       "      <th>Flipper Length (mm)</th>\n",
       "      <th>Body Mass (g)</th>\n",
       "      <th>Sex</th>\n",
       "      <th>Delta 15 N (o/oo)</th>\n",
       "      <th>Delta 13 C (o/oo)</th>\n",
       "      <th>Species</th>\n",
       "    </tr>\n",
       "  </thead>\n",
       "  <tbody>\n",
       "    <tr>\n",
       "      <th>169</th>\n",
       "      <td>Biscoe</td>\n",
       "      <td>No</td>\n",
       "      <td>0.620042</td>\n",
       "      <td>NaN</td>\n",
       "      <td>NaN</td>\n",
       "      <td>NaN</td>\n",
       "      <td>NaN</td>\n",
       "      <td>NaN</td>\n",
       "      <td>NaN</td>\n",
       "      <td>Gentoo penguin (Pygoscelis papua)</td>\n",
       "    </tr>\n",
       "    <tr>\n",
       "      <th>248</th>\n",
       "      <td>Torgersen</td>\n",
       "      <td>Yes</td>\n",
       "      <td>-0.942564</td>\n",
       "      <td>NaN</td>\n",
       "      <td>NaN</td>\n",
       "      <td>NaN</td>\n",
       "      <td>NaN</td>\n",
       "      <td>NaN</td>\n",
       "      <td>NaN</td>\n",
       "      <td>Adelie Penguin (Pygoscelis adeliae)</td>\n",
       "    </tr>\n",
       "  </tbody>\n",
       "</table>\n",
       "</div>"
      ],
      "text/plain": [
       "        Island Clutch Completion  Culmen Length (mm)  Culmen Depth (mm)  \\\n",
       "169     Biscoe                No            0.620042                NaN   \n",
       "248  Torgersen               Yes           -0.942564                NaN   \n",
       "\n",
       "     Flipper Length (mm)  Body Mass (g)  Sex  Delta 15 N (o/oo)  \\\n",
       "169                  NaN            NaN  NaN                NaN   \n",
       "248                  NaN            NaN  NaN                NaN   \n",
       "\n",
       "     Delta 13 C (o/oo)                              Species  \n",
       "169                NaN    Gentoo penguin (Pygoscelis papua)  \n",
       "248                NaN  Adelie Penguin (Pygoscelis adeliae)  "
      ]
     },
     "execution_count": 17,
     "metadata": {},
     "output_type": "execute_result"
    }
   ],
   "source": [
    "# Display the rows where the attribulte `Culmen Depth` is NaN\n",
    "train_csv[train_csv['Culmen Depth (mm)'].isnull()]"
   ]
  },
  {
   "cell_type": "code",
   "execution_count": 18,
   "metadata": {},
   "outputs": [
    {
     "data": {
      "image/png": "[encoded data removed]",
      "text/plain": [
       "<Figure size 640x480 with 1 Axes>"
      ]
     },
     "metadata": {},
     "output_type": "display_data"
    }
   ],
   "source": [
    "# Creating Box-plot to analyze data distribution\n",
    "figure = plt.figure()                                                          \n",
    "sns.boxplot(x='Species', y='Culmen Depth (mm)', palette='rainbow', data=train_csv) \n",
    "plt.xlabel(xlabel='Species')                                                          \n",
    "plt.xticks(rotation=5)\n",
    "plt.ylabel(ylabel='Culmen Depth (normalized)')                                               \n",
    "plt.title(label='Fig. 2\\n Culmen Depth (normalized) Distribution for different species')    \n",
    "plt.grid(visible=True)\n",
    "plt.show()"
   ]
  },
  {
   "cell_type": "markdown",
   "id": "e67d75bb",
   "metadata": {},
   "source": [
    "- From the box-plot, we oberve that, for the class `Adelie Penguine`, the `Culmen Depth` data distribution is **slightly skewed**. Therefore, to fill the corresponding `NaN` value at index 248, we will use the **median** of the values having the same class.  \n",
    "- Also, for the class `Gentoo penguin`, the `Culmen Depth` data distribution is almost **symmentric**. Therefore, to fill the corresponding `NaN` value at index 169, we will use the **mean** of the values having the same class.  "
   ]
  },
  {
   "cell_type": "code",
   "execution_count": 19,
   "id": "bd01c401",
   "metadata": {},
   "outputs": [],
   "source": [
    "train_csv.at[248,'Culmen Depth (mm)'] = df_species_adelie[\"Culmen Depth (mm)\"].median()\n",
    "train_csv.at[169,'Culmen Depth (mm)'] = df_species_gentoo[\"Culmen Depth (mm)\"].mean()\n"
   ]
  },
  {
   "cell_type": "code",
   "execution_count": 20,
   "id": "01a6a2a4",
   "metadata": {},
   "outputs": [
    {
     "data": {
      "text/html": [
       "<div>\n",
       "<style scoped>\n",
       "    .dataframe tbody tr th:only-of-type {\n",
       "        vertical-align: middle;\n",
       "    }\n",
       "\n",
       "    .dataframe tbody tr th {\n",
       "        vertical-align: top;\n",
       "    }\n",
       "\n",
       "    .dataframe thead th {\n",
       "        text-align: right;\n",
       "    }\n",
       "</style>\n",
       "<table border=\"1\" class=\"dataframe\">\n",
       "  <thead>\n",
       "    <tr style=\"text-align: right;\">\n",
       "      <th></th>\n",
       "      <th>Island</th>\n",
       "      <th>Clutch Completion</th>\n",
       "      <th>Culmen Length (mm)</th>\n",
       "      <th>Culmen Depth (mm)</th>\n",
       "      <th>Flipper Length (mm)</th>\n",
       "      <th>Body Mass (g)</th>\n",
       "      <th>Sex</th>\n",
       "      <th>Delta 15 N (o/oo)</th>\n",
       "      <th>Delta 13 C (o/oo)</th>\n",
       "      <th>Species</th>\n",
       "    </tr>\n",
       "  </thead>\n",
       "  <tbody>\n",
       "  </tbody>\n",
       "</table>\n",
       "</div>"
      ],
      "text/plain": [
       "Empty DataFrame\n",
       "Columns: [Island, Clutch Completion, Culmen Length (mm), Culmen Depth (mm), Flipper Length (mm), Body Mass (g), Sex, Delta 15 N (o/oo), Delta 13 C (o/oo), Species]\n",
       "Index: []"
      ]
     },
     "execution_count": 20,
     "metadata": {},
     "output_type": "execute_result"
    }
   ],
   "source": [
    "train_csv[train_csv['Culmen Depth (mm)'].isnull()]"
   ]
  },
  {
   "cell_type": "markdown",
   "id": "e9af9d9c",
   "metadata": {},
   "source": [
    "- We have successfully filled the missing values of `Culmen Depth (mm)` attribute"
   ]
  },
  {
   "cell_type": "markdown",
   "id": "b44afe38",
   "metadata": {},
   "source": [
    "----"
   ]
  },
  {
   "cell_type": "markdown",
   "id": "bd33141f",
   "metadata": {},
   "source": [
    "- Let's analyze the continuous valued attribute `Flipper Length (mm)`"
   ]
  },
  {
   "cell_type": "code",
   "execution_count": 21,
   "id": "f3ece6bc",
   "metadata": {},
   "outputs": [
    {
     "data": {
      "text/html": [
       "<div>\n",
       "<style scoped>\n",
       "    .dataframe tbody tr th:only-of-type {\n",
       "        vertical-align: middle;\n",
       "    }\n",
       "\n",
       "    .dataframe tbody tr th {\n",
       "        vertical-align: top;\n",
       "    }\n",
       "\n",
       "    .dataframe thead th {\n",
       "        text-align: right;\n",
       "    }\n",
       "</style>\n",
       "<table border=\"1\" class=\"dataframe\">\n",
       "  <thead>\n",
       "    <tr style=\"text-align: right;\">\n",
       "      <th></th>\n",
       "      <th>Island</th>\n",
       "      <th>Clutch Completion</th>\n",
       "      <th>Culmen Length (mm)</th>\n",
       "      <th>Culmen Depth (mm)</th>\n",
       "      <th>Flipper Length (mm)</th>\n",
       "      <th>Body Mass (g)</th>\n",
       "      <th>Sex</th>\n",
       "      <th>Delta 15 N (o/oo)</th>\n",
       "      <th>Delta 13 C (o/oo)</th>\n",
       "      <th>Species</th>\n",
       "    </tr>\n",
       "  </thead>\n",
       "  <tbody>\n",
       "    <tr>\n",
       "      <th>169</th>\n",
       "      <td>Biscoe</td>\n",
       "      <td>No</td>\n",
       "      <td>0.620042</td>\n",
       "      <td>-1.121538</td>\n",
       "      <td>NaN</td>\n",
       "      <td>NaN</td>\n",
       "      <td>NaN</td>\n",
       "      <td>NaN</td>\n",
       "      <td>NaN</td>\n",
       "      <td>Gentoo penguin (Pygoscelis papua)</td>\n",
       "    </tr>\n",
       "    <tr>\n",
       "      <th>248</th>\n",
       "      <td>Torgersen</td>\n",
       "      <td>Yes</td>\n",
       "      <td>-0.942564</td>\n",
       "      <td>0.622445</td>\n",
       "      <td>NaN</td>\n",
       "      <td>NaN</td>\n",
       "      <td>NaN</td>\n",
       "      <td>NaN</td>\n",
       "      <td>NaN</td>\n",
       "      <td>Adelie Penguin (Pygoscelis adeliae)</td>\n",
       "    </tr>\n",
       "  </tbody>\n",
       "</table>\n",
       "</div>"
      ],
      "text/plain": [
       "        Island Clutch Completion  Culmen Length (mm)  Culmen Depth (mm)  \\\n",
       "169     Biscoe                No            0.620042          -1.121538   \n",
       "248  Torgersen               Yes           -0.942564           0.622445   \n",
       "\n",
       "     Flipper Length (mm)  Body Mass (g)  Sex  Delta 15 N (o/oo)  \\\n",
       "169                  NaN            NaN  NaN                NaN   \n",
       "248                  NaN            NaN  NaN                NaN   \n",
       "\n",
       "     Delta 13 C (o/oo)                              Species  \n",
       "169                NaN    Gentoo penguin (Pygoscelis papua)  \n",
       "248                NaN  Adelie Penguin (Pygoscelis adeliae)  "
      ]
     },
     "execution_count": 21,
     "metadata": {},
     "output_type": "execute_result"
    }
   ],
   "source": [
    "# Display the rows where the attribulte `Flipper Length` is NaN\n",
    "train_csv[train_csv['Flipper Length (mm)'].isnull()]"
   ]
  },
  {
   "cell_type": "code",
   "execution_count": 22,
   "id": "730cfb26",
   "metadata": {},
   "outputs": [
    {
     "data": {
      "image/png": "[encoded data removed]",
      "text/plain": [
       "<Figure size 640x480 with 1 Axes>"
      ]
     },
     "metadata": {},
     "output_type": "display_data"
    }
   ],
   "source": [
    "# Creating Box-plot to analyze data distribution\n",
    "figure = plt.figure()                                                                           # Creating a custom figure size\n",
    "sns.boxplot(x='Species', y='Flipper Length (mm)', palette='rainbow', data=train_csv)            # Using seaborn's boxplot() function\n",
    "plt.xlabel(xlabel='Species')                                                                    # Labelling x-axis with a custom label\n",
    "plt.xticks(rotation=5)\n",
    "plt.ylabel(ylabel='Flipper Length (normalized)')                                                # Labelling y-axis with a custom label\n",
    "plt.title(label='Fig. 3\\n Flipper Length (normalized) Distribution for different species')      # Labelling title with a custom label\n",
    "plt.grid(visible=True)\n",
    "plt.show()"
   ]
  },
  {
   "cell_type": "markdown",
   "id": "3bf9d287",
   "metadata": {},
   "source": [
    "- From the box-plot, we oberve a striking difference in the distribution of 'Flipper Length' for the classes 'Adelie Penguine' and 'Gentoo penguin'.\n",
    "- For the class `Adelie Penguine`, the `Flipper Length` data distribution is almost symmetric even with outliers. Therefore, to fill the corresponding `NaN` value at index 248, we will use the **mean** of the values having the same class.  \n",
    "- Also, for the class `Gentoo penguin`, the `Flipper Length` data distribution is symmetric. Therefore, to fill the corresponding `NaN` value at index 169, we will use the **mean** of the values having the same class.  "
   ]
  },
  {
   "cell_type": "code",
   "execution_count": 23,
   "id": "8883e4a2",
   "metadata": {},
   "outputs": [],
   "source": [
    "train_csv.at[248,'Flipper Length (mm)'] = df_species_adelie[\"Flipper Length (mm)\"].mean()\n",
    "train_csv.at[169,'Flipper Length (mm)'] = df_species_gentoo[\"Flipper Length (mm)\"].mean()"
   ]
  },
  {
   "cell_type": "code",
   "execution_count": 24,
   "id": "c524cb19",
   "metadata": {},
   "outputs": [
    {
     "data": {
      "text/html": [
       "<div>\n",
       "<style scoped>\n",
       "    .dataframe tbody tr th:only-of-type {\n",
       "        vertical-align: middle;\n",
       "    }\n",
       "\n",
       "    .dataframe tbody tr th {\n",
       "        vertical-align: top;\n",
       "    }\n",
       "\n",
       "    .dataframe thead th {\n",
       "        text-align: right;\n",
       "    }\n",
       "</style>\n",
       "<table border=\"1\" class=\"dataframe\">\n",
       "  <thead>\n",
       "    <tr style=\"text-align: right;\">\n",
       "      <th></th>\n",
       "      <th>Island</th>\n",
       "      <th>Clutch Completion</th>\n",
       "      <th>Culmen Length (mm)</th>\n",
       "      <th>Culmen Depth (mm)</th>\n",
       "      <th>Flipper Length (mm)</th>\n",
       "      <th>Body Mass (g)</th>\n",
       "      <th>Sex</th>\n",
       "      <th>Delta 15 N (o/oo)</th>\n",
       "      <th>Delta 13 C (o/oo)</th>\n",
       "      <th>Species</th>\n",
       "    </tr>\n",
       "  </thead>\n",
       "  <tbody>\n",
       "  </tbody>\n",
       "</table>\n",
       "</div>"
      ],
      "text/plain": [
       "Empty DataFrame\n",
       "Columns: [Island, Clutch Completion, Culmen Length (mm), Culmen Depth (mm), Flipper Length (mm), Body Mass (g), Sex, Delta 15 N (o/oo), Delta 13 C (o/oo), Species]\n",
       "Index: []"
      ]
     },
     "execution_count": 24,
     "metadata": {},
     "output_type": "execute_result"
    }
   ],
   "source": [
    "train_csv[train_csv['Flipper Length (mm)'].isnull()]"
   ]
  },
  {
   "cell_type": "markdown",
   "id": "7ec9921b",
   "metadata": {},
   "source": [
    "- We have filled the missing values of `Flipper Length (mm)` attribute"
   ]
  },
  {
   "cell_type": "markdown",
   "id": "c915cc6a",
   "metadata": {},
   "source": [
    "----"
   ]
  },
  {
   "cell_type": "markdown",
   "id": "4429adfb",
   "metadata": {},
   "source": [
    "- Let's analyze the continuous valued attribute `Body Mass (g)`"
   ]
  },
  {
   "cell_type": "code",
   "execution_count": 25,
   "id": "8b5d47a0",
   "metadata": {},
   "outputs": [
    {
     "data": {
      "text/html": [
       "<div>\n",
       "<style scoped>\n",
       "    .dataframe tbody tr th:only-of-type {\n",
       "        vertical-align: middle;\n",
       "    }\n",
       "\n",
       "    .dataframe tbody tr th {\n",
       "        vertical-align: top;\n",
       "    }\n",
       "\n",
       "    .dataframe thead th {\n",
       "        text-align: right;\n",
       "    }\n",
       "</style>\n",
       "<table border=\"1\" class=\"dataframe\">\n",
       "  <thead>\n",
       "    <tr style=\"text-align: right;\">\n",
       "      <th></th>\n",
       "      <th>Island</th>\n",
       "      <th>Clutch Completion</th>\n",
       "      <th>Culmen Length (mm)</th>\n",
       "      <th>Culmen Depth (mm)</th>\n",
       "      <th>Flipper Length (mm)</th>\n",
       "      <th>Body Mass (g)</th>\n",
       "      <th>Sex</th>\n",
       "      <th>Delta 15 N (o/oo)</th>\n",
       "      <th>Delta 13 C (o/oo)</th>\n",
       "      <th>Species</th>\n",
       "    </tr>\n",
       "  </thead>\n",
       "  <tbody>\n",
       "    <tr>\n",
       "      <th>169</th>\n",
       "      <td>Biscoe</td>\n",
       "      <td>No</td>\n",
       "      <td>0.620042</td>\n",
       "      <td>-1.121538</td>\n",
       "      <td>1.185826</td>\n",
       "      <td>NaN</td>\n",
       "      <td>NaN</td>\n",
       "      <td>NaN</td>\n",
       "      <td>NaN</td>\n",
       "      <td>Gentoo penguin (Pygoscelis papua)</td>\n",
       "    </tr>\n",
       "    <tr>\n",
       "      <th>248</th>\n",
       "      <td>Torgersen</td>\n",
       "      <td>Yes</td>\n",
       "      <td>-0.942564</td>\n",
       "      <td>0.622445</td>\n",
       "      <td>-0.774701</td>\n",
       "      <td>NaN</td>\n",
       "      <td>NaN</td>\n",
       "      <td>NaN</td>\n",
       "      <td>NaN</td>\n",
       "      <td>Adelie Penguin (Pygoscelis adeliae)</td>\n",
       "    </tr>\n",
       "  </tbody>\n",
       "</table>\n",
       "</div>"
      ],
      "text/plain": [
       "        Island Clutch Completion  Culmen Length (mm)  Culmen Depth (mm)  \\\n",
       "169     Biscoe                No            0.620042          -1.121538   \n",
       "248  Torgersen               Yes           -0.942564           0.622445   \n",
       "\n",
       "     Flipper Length (mm)  Body Mass (g)  Sex  Delta 15 N (o/oo)  \\\n",
       "169             1.185826            NaN  NaN                NaN   \n",
       "248            -0.774701            NaN  NaN                NaN   \n",
       "\n",
       "     Delta 13 C (o/oo)                              Species  \n",
       "169                NaN    Gentoo penguin (Pygoscelis papua)  \n",
       "248                NaN  Adelie Penguin (Pygoscelis adeliae)  "
      ]
     },
     "execution_count": 25,
     "metadata": {},
     "output_type": "execute_result"
    }
   ],
   "source": [
    "train_csv[train_csv['Body Mass (g)'].isnull()]"
   ]
  },
  {
   "cell_type": "code",
   "execution_count": 26,
   "id": "f78020f7",
   "metadata": {},
   "outputs": [
    {
     "data": {
      "image/png": "[encoded data removed]",
      "text/plain": [
       "<Figure size 640x480 with 1 Axes>"
      ]
     },
     "metadata": {},
     "output_type": "display_data"
    }
   ],
   "source": [
    "# Creating Box-plot to analyze data distribution\n",
    "figure = plt.figure()                                                                 # Creating a custom figure size\n",
    "sns.boxplot(x='Species', y='Body Mass (g)', palette='rainbow', data=train_csv)        # Using seaborn's boxplot() function\n",
    "plt.xlabel(xlabel='Species')                                                          # Labelling x-axis with a custom label\n",
    "plt.xticks(rotation=5)\n",
    "plt.ylabel(ylabel='Body Mass (normalized)')                                           # Labelling y-axis with a custom label\n",
    "plt.title(label='Fig. 4\\n Body Mass (normalized) Distribution for different species') # Labelling title with a custom label\n",
    "plt.grid(visible=True)\n",
    "plt.show()"
   ]
  },
  {
   "cell_type": "markdown",
   "id": "27634795",
   "metadata": {},
   "source": [
    "- From the box-plot, we oberve a striking difference in the distribution of 'Body Mass' for the classes 'Adelie Penguine' and 'Gentoo penguin'.\n",
    "- For the class `Adelie Penguine`, the `Body Mass` data distribution is slightly skewed. Therefore, to fill the corresponding `NaN` value at index 248, we will use the **median** of the values having the same class.  \n",
    "- Also, for the class `Gentoo penguin`, the `Body Mass` data distribution is slightly skewed. Therefore, to fill the corresponding `NaN` value at index 169, we will use the **median** of the values having the same class.  "
   ]
  },
  {
   "cell_type": "code",
   "execution_count": 27,
   "id": "0d4a698c",
   "metadata": {},
   "outputs": [],
   "source": [
    "train_csv.at[248,'Body Mass (g)'] = df_species_adelie[\"Body Mass (g)\"].median()\n",
    "train_csv.at[169,'Body Mass (g)'] = df_species_gentoo[\"Body Mass (g)\"].median()"
   ]
  },
  {
   "cell_type": "code",
   "execution_count": 28,
   "id": "94e9447f",
   "metadata": {},
   "outputs": [
    {
     "data": {
      "text/html": [
       "<div>\n",
       "<style scoped>\n",
       "    .dataframe tbody tr th:only-of-type {\n",
       "        vertical-align: middle;\n",
       "    }\n",
       "\n",
       "    .dataframe tbody tr th {\n",
       "        vertical-align: top;\n",
       "    }\n",
       "\n",
       "    .dataframe thead th {\n",
       "        text-align: right;\n",
       "    }\n",
       "</style>\n",
       "<table border=\"1\" class=\"dataframe\">\n",
       "  <thead>\n",
       "    <tr style=\"text-align: right;\">\n",
       "      <th></th>\n",
       "      <th>Island</th>\n",
       "      <th>Clutch Completion</th>\n",
       "      <th>Culmen Length (mm)</th>\n",
       "      <th>Culmen Depth (mm)</th>\n",
       "      <th>Flipper Length (mm)</th>\n",
       "      <th>Body Mass (g)</th>\n",
       "      <th>Sex</th>\n",
       "      <th>Delta 15 N (o/oo)</th>\n",
       "      <th>Delta 13 C (o/oo)</th>\n",
       "      <th>Species</th>\n",
       "    </tr>\n",
       "  </thead>\n",
       "  <tbody>\n",
       "  </tbody>\n",
       "</table>\n",
       "</div>"
      ],
      "text/plain": [
       "Empty DataFrame\n",
       "Columns: [Island, Clutch Completion, Culmen Length (mm), Culmen Depth (mm), Flipper Length (mm), Body Mass (g), Sex, Delta 15 N (o/oo), Delta 13 C (o/oo), Species]\n",
       "Index: []"
      ]
     },
     "execution_count": 28,
     "metadata": {},
     "output_type": "execute_result"
    }
   ],
   "source": [
    "train_csv[train_csv['Body Mass (g)'].isnull()]"
   ]
  },
  {
   "cell_type": "markdown",
   "id": "9fbf3c95",
   "metadata": {},
   "source": [
    "- We have successfully filled the missing values of `Body Mass (g)` attribute"
   ]
  },
  {
   "cell_type": "markdown",
   "id": "4158cb89",
   "metadata": {},
   "source": [
    "----"
   ]
  },
  {
   "cell_type": "markdown",
   "id": "243c8a82",
   "metadata": {},
   "source": [
    "- Let's analyze the continuous valued attribute `Delta 15 N (o/oo)`"
   ]
  },
  {
   "cell_type": "code",
   "execution_count": 29,
   "id": "035bc899",
   "metadata": {},
   "outputs": [
    {
     "data": {
      "text/html": [
       "<div>\n",
       "<style scoped>\n",
       "    .dataframe tbody tr th:only-of-type {\n",
       "        vertical-align: middle;\n",
       "    }\n",
       "\n",
       "    .dataframe tbody tr th {\n",
       "        vertical-align: top;\n",
       "    }\n",
       "\n",
       "    .dataframe thead th {\n",
       "        text-align: right;\n",
       "    }\n",
       "</style>\n",
       "<table border=\"1\" class=\"dataframe\">\n",
       "  <thead>\n",
       "    <tr style=\"text-align: right;\">\n",
       "      <th></th>\n",
       "      <th>Island</th>\n",
       "      <th>Clutch Completion</th>\n",
       "      <th>Culmen Length (mm)</th>\n",
       "      <th>Culmen Depth (mm)</th>\n",
       "      <th>Flipper Length (mm)</th>\n",
       "      <th>Body Mass (g)</th>\n",
       "      <th>Sex</th>\n",
       "      <th>Delta 15 N (o/oo)</th>\n",
       "      <th>Delta 13 C (o/oo)</th>\n",
       "      <th>Species</th>\n",
       "    </tr>\n",
       "  </thead>\n",
       "  <tbody>\n",
       "    <tr>\n",
       "      <th>7</th>\n",
       "      <td>Dream</td>\n",
       "      <td>Yes</td>\n",
       "      <td>-0.579073</td>\n",
       "      <td>0.622445</td>\n",
       "      <td>-0.408870</td>\n",
       "      <td>-0.352871</td>\n",
       "      <td>MALE</td>\n",
       "      <td>NaN</td>\n",
       "      <td>NaN</td>\n",
       "      <td>Adelie Penguin (Pygoscelis adeliae)</td>\n",
       "    </tr>\n",
       "    <tr>\n",
       "      <th>51</th>\n",
       "      <td>Dream</td>\n",
       "      <td>Yes</td>\n",
       "      <td>1.422458</td>\n",
       "      <td>1.185091</td>\n",
       "      <td>0.376328</td>\n",
       "      <td>-0.290566</td>\n",
       "      <td>MALE</td>\n",
       "      <td>NaN</td>\n",
       "      <td>2.32884</td>\n",
       "      <td>Chinstrap penguin (Pygoscelis antarctica)</td>\n",
       "    </tr>\n",
       "    <tr>\n",
       "      <th>62</th>\n",
       "      <td>Torgersen</td>\n",
       "      <td>Yes</td>\n",
       "      <td>-1.336409</td>\n",
       "      <td>0.315548</td>\n",
       "      <td>-1.122686</td>\n",
       "      <td>-0.602091</td>\n",
       "      <td>FEMALE</td>\n",
       "      <td>NaN</td>\n",
       "      <td>NaN</td>\n",
       "      <td>Adelie Penguin (Pygoscelis adeliae)</td>\n",
       "    </tr>\n",
       "    <tr>\n",
       "      <th>82</th>\n",
       "      <td>Torgersen</td>\n",
       "      <td>Yes</td>\n",
       "      <td>-1.120027</td>\n",
       "      <td>0.059800</td>\n",
       "      <td>-1.479594</td>\n",
       "      <td>-0.602091</td>\n",
       "      <td>NaN</td>\n",
       "      <td>NaN</td>\n",
       "      <td>NaN</td>\n",
       "      <td>Adelie Penguin (Pygoscelis adeliae)</td>\n",
       "    </tr>\n",
       "    <tr>\n",
       "      <th>97</th>\n",
       "      <td>Biscoe</td>\n",
       "      <td>Yes</td>\n",
       "      <td>0.592995</td>\n",
       "      <td>-0.963192</td>\n",
       "      <td>1.518434</td>\n",
       "      <td>1.329364</td>\n",
       "      <td>MALE</td>\n",
       "      <td>NaN</td>\n",
       "      <td>NaN</td>\n",
       "      <td>Gentoo penguin (Pygoscelis papua)</td>\n",
       "    </tr>\n",
       "    <tr>\n",
       "      <th>169</th>\n",
       "      <td>Biscoe</td>\n",
       "      <td>No</td>\n",
       "      <td>0.620042</td>\n",
       "      <td>-1.121538</td>\n",
       "      <td>1.185826</td>\n",
       "      <td>1.080144</td>\n",
       "      <td>NaN</td>\n",
       "      <td>NaN</td>\n",
       "      <td>NaN</td>\n",
       "      <td>Gentoo penguin (Pygoscelis papua)</td>\n",
       "    </tr>\n",
       "    <tr>\n",
       "      <th>170</th>\n",
       "      <td>Torgersen</td>\n",
       "      <td>Yes</td>\n",
       "      <td>-0.975773</td>\n",
       "      <td>2.054633</td>\n",
       "      <td>-0.694396</td>\n",
       "      <td>-0.477481</td>\n",
       "      <td>MALE</td>\n",
       "      <td>NaN</td>\n",
       "      <td>NaN</td>\n",
       "      <td>Adelie Penguin (Pygoscelis adeliae)</td>\n",
       "    </tr>\n",
       "    <tr>\n",
       "      <th>197</th>\n",
       "      <td>Torgersen</td>\n",
       "      <td>Yes</td>\n",
       "      <td>-1.787204</td>\n",
       "      <td>0.468996</td>\n",
       "      <td>-0.551633</td>\n",
       "      <td>-0.882463</td>\n",
       "      <td>NaN</td>\n",
       "      <td>NaN</td>\n",
       "      <td>NaN</td>\n",
       "      <td>Adelie Penguin (Pygoscelis adeliae)</td>\n",
       "    </tr>\n",
       "    <tr>\n",
       "      <th>207</th>\n",
       "      <td>Dream</td>\n",
       "      <td>No</td>\n",
       "      <td>-0.759391</td>\n",
       "      <td>0.980492</td>\n",
       "      <td>-1.194068</td>\n",
       "      <td>0.581704</td>\n",
       "      <td>MALE</td>\n",
       "      <td>NaN</td>\n",
       "      <td>NaN</td>\n",
       "      <td>Adelie Penguin (Pygoscelis adeliae)</td>\n",
       "    </tr>\n",
       "    <tr>\n",
       "      <th>218</th>\n",
       "      <td>Torgersen</td>\n",
       "      <td>Yes</td>\n",
       "      <td>-0.524978</td>\n",
       "      <td>0.213249</td>\n",
       "      <td>-1.336831</td>\n",
       "      <td>-1.225141</td>\n",
       "      <td>FEMALE</td>\n",
       "      <td>NaN</td>\n",
       "      <td>NaN</td>\n",
       "      <td>Adelie Penguin (Pygoscelis adeliae)</td>\n",
       "    </tr>\n",
       "    <tr>\n",
       "      <th>229</th>\n",
       "      <td>Dream</td>\n",
       "      <td>Yes</td>\n",
       "      <td>-0.524978</td>\n",
       "      <td>0.929343</td>\n",
       "      <td>-1.336831</td>\n",
       "      <td>-0.944768</td>\n",
       "      <td>MALE</td>\n",
       "      <td>NaN</td>\n",
       "      <td>NaN</td>\n",
       "      <td>Adelie Penguin (Pygoscelis adeliae)</td>\n",
       "    </tr>\n",
       "    <tr>\n",
       "      <th>248</th>\n",
       "      <td>Torgersen</td>\n",
       "      <td>Yes</td>\n",
       "      <td>-0.942564</td>\n",
       "      <td>0.622445</td>\n",
       "      <td>-0.774701</td>\n",
       "      <td>-0.711124</td>\n",
       "      <td>NaN</td>\n",
       "      <td>NaN</td>\n",
       "      <td>NaN</td>\n",
       "      <td>Adelie Penguin (Pygoscelis adeliae)</td>\n",
       "    </tr>\n",
       "  </tbody>\n",
       "</table>\n",
       "</div>"
      ],
      "text/plain": [
       "        Island Clutch Completion  Culmen Length (mm)  Culmen Depth (mm)  \\\n",
       "7        Dream               Yes           -0.579073           0.622445   \n",
       "51       Dream               Yes            1.422458           1.185091   \n",
       "62   Torgersen               Yes           -1.336409           0.315548   \n",
       "82   Torgersen               Yes           -1.120027           0.059800   \n",
       "97      Biscoe               Yes            0.592995          -0.963192   \n",
       "169     Biscoe                No            0.620042          -1.121538   \n",
       "170  Torgersen               Yes           -0.975773           2.054633   \n",
       "197  Torgersen               Yes           -1.787204           0.468996   \n",
       "207      Dream                No           -0.759391           0.980492   \n",
       "218  Torgersen               Yes           -0.524978           0.213249   \n",
       "229      Dream               Yes           -0.524978           0.929343   \n",
       "248  Torgersen               Yes           -0.942564           0.622445   \n",
       "\n",
       "     Flipper Length (mm)  Body Mass (g)     Sex  Delta 15 N (o/oo)  \\\n",
       "7              -0.408870      -0.352871    MALE                NaN   \n",
       "51              0.376328      -0.290566    MALE                NaN   \n",
       "62             -1.122686      -0.602091  FEMALE                NaN   \n",
       "82             -1.479594      -0.602091     NaN                NaN   \n",
       "97              1.518434       1.329364    MALE                NaN   \n",
       "169             1.185826       1.080144     NaN                NaN   \n",
       "170            -0.694396      -0.477481    MALE                NaN   \n",
       "197            -0.551633      -0.882463     NaN                NaN   \n",
       "207            -1.194068       0.581704    MALE                NaN   \n",
       "218            -1.336831      -1.225141  FEMALE                NaN   \n",
       "229            -1.336831      -0.944768    MALE                NaN   \n",
       "248            -0.774701      -0.711124     NaN                NaN   \n",
       "\n",
       "     Delta 13 C (o/oo)                                    Species  \n",
       "7                  NaN        Adelie Penguin (Pygoscelis adeliae)  \n",
       "51             2.32884  Chinstrap penguin (Pygoscelis antarctica)  \n",
       "62                 NaN        Adelie Penguin (Pygoscelis adeliae)  \n",
       "82                 NaN        Adelie Penguin (Pygoscelis adeliae)  \n",
       "97                 NaN          Gentoo penguin (Pygoscelis papua)  \n",
       "169                NaN          Gentoo penguin (Pygoscelis papua)  \n",
       "170                NaN        Adelie Penguin (Pygoscelis adeliae)  \n",
       "197                NaN        Adelie Penguin (Pygoscelis adeliae)  \n",
       "207                NaN        Adelie Penguin (Pygoscelis adeliae)  \n",
       "218                NaN        Adelie Penguin (Pygoscelis adeliae)  \n",
       "229                NaN        Adelie Penguin (Pygoscelis adeliae)  \n",
       "248                NaN        Adelie Penguin (Pygoscelis adeliae)  "
      ]
     },
     "execution_count": 29,
     "metadata": {},
     "output_type": "execute_result"
    }
   ],
   "source": [
    "train_csv[train_csv['Delta 15 N (o/oo)'].isnull()]"
   ]
  },
  {
   "cell_type": "code",
   "execution_count": 30,
   "id": "74a3eb1f",
   "metadata": {},
   "outputs": [
    {
     "data": {
      "image/png": "[encoded data removed]",
      "text/plain": [
       "<Figure size 640x480 with 1 Axes>"
      ]
     },
     "metadata": {},
     "output_type": "display_data"
    }
   ],
   "source": [
    "# Creating Box-plot to analyze data distribution\n",
    "figure = plt.figure()                                                                 # Creating a custom figure size\n",
    "sns.boxplot(x='Species', y='Delta 15 N (o/oo)', palette='rainbow', data=train_csv)        # Using seaborn's boxplot() function\n",
    "plt.xlabel(xlabel='Species')                                                          # Labelling x-axis with a custom label\n",
    "plt.xticks(rotation=5)\n",
    "plt.ylabel(ylabel='Delta 15 N (normalized)')                                           # Labelling y-axis with a custom label\n",
    "plt.title(label='Fig. 5\\n Delta 15 N (normalized) Distribution for different species') # Labelling title with a custom label\n",
    "plt.grid(visible=True)\n",
    "plt.show()"
   ]
  },
  {
   "cell_type": "markdown",
   "id": "86f55ade",
   "metadata": {},
   "source": [
    "- For the class `Adelie Penguine`, the `Delta 15 N (o/oo)` data distribution is slightly skewed. Therefore, to fill the corresponding `NaN`, we will use the **median** of the values having the same class.  \n",
    "- Also, for the class `Gentoo penguin`, the `Delta 15 N (o/oo)` data distribution is almost symmentrical. Therefore, to fill the corresponding `NaN`, we will use the **mean** of the values having the same class.  \n",
    "- And, for the class `Chinstrap penguin`, the `Delta 15 N (o/oo)` data distribution is almost symmentrical. Therefore, to fill the corresponding `NaN` value, we will use the **mean** of the values having the same class.  "
   ]
  },
  {
   "cell_type": "code",
   "execution_count": 31,
   "metadata": {},
   "outputs": [],
   "source": [
    "df_species_chinstrap = train_csv.loc[train_csv[\"Species\"] == 'Chinstrap penguin (Pygoscelis antarctica)']\n",
    "\n",
    "value_adelie = df_species_adelie[\"Delta 15 N (o/oo)\"].median()\n",
    "value_gentoo = df_species_gentoo[\"Delta 15 N (o/oo)\"].mean()\n",
    "value_chinstrap = df_species_chinstrap[\"Delta 15 N (o/oo)\"].mean()"
   ]
  },
  {
   "cell_type": "code",
   "execution_count": 32,
   "id": "a78a0ee4",
   "metadata": {},
   "outputs": [],
   "source": [
    "train_csv.loc[(train_csv[\"Delta 15 N (o/oo)\"].isnull()) & (train_csv[\"Species\"] == 'Adelie Penguin (Pygoscelis adeliae)'), ['Delta 15 N (o/oo)']] = value_adelie\n",
    "train_csv.loc[(train_csv[\"Delta 15 N (o/oo)\"].isnull()) & (train_csv[\"Species\"] == 'Gentoo penguin (Pygoscelis papua)'), ['Delta 15 N (o/oo)']] = value_gentoo\n",
    "train_csv.loc[(train_csv[\"Delta 15 N (o/oo)\"].isnull()) & (train_csv[\"Species\"] == 'Chinstrap penguin (Pygoscelis antarctica)'), ['Delta 15 N (o/oo)']] = value_chinstrap"
   ]
  },
  {
   "cell_type": "code",
   "execution_count": 33,
   "id": "6941aeba",
   "metadata": {},
   "outputs": [
    {
     "data": {
      "text/html": [
       "<div>\n",
       "<style scoped>\n",
       "    .dataframe tbody tr th:only-of-type {\n",
       "        vertical-align: middle;\n",
       "    }\n",
       "\n",
       "    .dataframe tbody tr th {\n",
       "        vertical-align: top;\n",
       "    }\n",
       "\n",
       "    .dataframe thead th {\n",
       "        text-align: right;\n",
       "    }\n",
       "</style>\n",
       "<table border=\"1\" class=\"dataframe\">\n",
       "  <thead>\n",
       "    <tr style=\"text-align: right;\">\n",
       "      <th></th>\n",
       "      <th>Island</th>\n",
       "      <th>Clutch Completion</th>\n",
       "      <th>Culmen Length (mm)</th>\n",
       "      <th>Culmen Depth (mm)</th>\n",
       "      <th>Flipper Length (mm)</th>\n",
       "      <th>Body Mass (g)</th>\n",
       "      <th>Sex</th>\n",
       "      <th>Delta 15 N (o/oo)</th>\n",
       "      <th>Delta 13 C (o/oo)</th>\n",
       "      <th>Species</th>\n",
       "    </tr>\n",
       "  </thead>\n",
       "  <tbody>\n",
       "  </tbody>\n",
       "</table>\n",
       "</div>"
      ],
      "text/plain": [
       "Empty DataFrame\n",
       "Columns: [Island, Clutch Completion, Culmen Length (mm), Culmen Depth (mm), Flipper Length (mm), Body Mass (g), Sex, Delta 15 N (o/oo), Delta 13 C (o/oo), Species]\n",
       "Index: []"
      ]
     },
     "execution_count": 33,
     "metadata": {},
     "output_type": "execute_result"
    }
   ],
   "source": [
    "train_csv[train_csv['Delta 15 N (o/oo)'].isnull()]"
   ]
  },
  {
   "cell_type": "markdown",
   "id": "cb116976",
   "metadata": {},
   "source": [
    "- We have successfully filled the missing values of `Delta 15 N (o/oo)` attribute"
   ]
  },
  {
   "cell_type": "markdown",
   "id": "e6103d74",
   "metadata": {},
   "source": [
    "----"
   ]
  },
  {
   "cell_type": "markdown",
   "id": "b0de53c9",
   "metadata": {},
   "source": [
    "- Let's analyze the continuous valued attribute `Delta 13 C (o/oo)`"
   ]
  },
  {
   "cell_type": "code",
   "execution_count": 34,
   "id": "4107d86e",
   "metadata": {},
   "outputs": [
    {
     "data": {
      "text/html": [
       "<div>\n",
       "<style scoped>\n",
       "    .dataframe tbody tr th:only-of-type {\n",
       "        vertical-align: middle;\n",
       "    }\n",
       "\n",
       "    .dataframe tbody tr th {\n",
       "        vertical-align: top;\n",
       "    }\n",
       "\n",
       "    .dataframe thead th {\n",
       "        text-align: right;\n",
       "    }\n",
       "</style>\n",
       "<table border=\"1\" class=\"dataframe\">\n",
       "  <thead>\n",
       "    <tr style=\"text-align: right;\">\n",
       "      <th></th>\n",
       "      <th>Island</th>\n",
       "      <th>Clutch Completion</th>\n",
       "      <th>Culmen Length (mm)</th>\n",
       "      <th>Culmen Depth (mm)</th>\n",
       "      <th>Flipper Length (mm)</th>\n",
       "      <th>Body Mass (g)</th>\n",
       "      <th>Sex</th>\n",
       "      <th>Delta 15 N (o/oo)</th>\n",
       "      <th>Delta 13 C (o/oo)</th>\n",
       "      <th>Species</th>\n",
       "    </tr>\n",
       "  </thead>\n",
       "  <tbody>\n",
       "    <tr>\n",
       "      <th>7</th>\n",
       "      <td>Dream</td>\n",
       "      <td>Yes</td>\n",
       "      <td>-0.579073</td>\n",
       "      <td>0.622445</td>\n",
       "      <td>-0.408870</td>\n",
       "      <td>-0.352871</td>\n",
       "      <td>MALE</td>\n",
       "      <td>0.207308</td>\n",
       "      <td>NaN</td>\n",
       "      <td>Adelie Penguin (Pygoscelis adeliae)</td>\n",
       "    </tr>\n",
       "    <tr>\n",
       "      <th>62</th>\n",
       "      <td>Torgersen</td>\n",
       "      <td>Yes</td>\n",
       "      <td>-1.336409</td>\n",
       "      <td>0.315548</td>\n",
       "      <td>-1.122686</td>\n",
       "      <td>-0.602091</td>\n",
       "      <td>FEMALE</td>\n",
       "      <td>0.207308</td>\n",
       "      <td>NaN</td>\n",
       "      <td>Adelie Penguin (Pygoscelis adeliae)</td>\n",
       "    </tr>\n",
       "    <tr>\n",
       "      <th>82</th>\n",
       "      <td>Torgersen</td>\n",
       "      <td>Yes</td>\n",
       "      <td>-1.120027</td>\n",
       "      <td>0.059800</td>\n",
       "      <td>-1.479594</td>\n",
       "      <td>-0.602091</td>\n",
       "      <td>NaN</td>\n",
       "      <td>0.207308</td>\n",
       "      <td>NaN</td>\n",
       "      <td>Adelie Penguin (Pygoscelis adeliae)</td>\n",
       "    </tr>\n",
       "    <tr>\n",
       "      <th>97</th>\n",
       "      <td>Biscoe</td>\n",
       "      <td>Yes</td>\n",
       "      <td>0.592995</td>\n",
       "      <td>-0.963192</td>\n",
       "      <td>1.518434</td>\n",
       "      <td>1.329364</td>\n",
       "      <td>MALE</td>\n",
       "      <td>-0.882649</td>\n",
       "      <td>NaN</td>\n",
       "      <td>Gentoo penguin (Pygoscelis papua)</td>\n",
       "    </tr>\n",
       "    <tr>\n",
       "      <th>169</th>\n",
       "      <td>Biscoe</td>\n",
       "      <td>No</td>\n",
       "      <td>0.620042</td>\n",
       "      <td>-1.121538</td>\n",
       "      <td>1.185826</td>\n",
       "      <td>1.080144</td>\n",
       "      <td>NaN</td>\n",
       "      <td>-0.882649</td>\n",
       "      <td>NaN</td>\n",
       "      <td>Gentoo penguin (Pygoscelis papua)</td>\n",
       "    </tr>\n",
       "    <tr>\n",
       "      <th>170</th>\n",
       "      <td>Torgersen</td>\n",
       "      <td>Yes</td>\n",
       "      <td>-0.975773</td>\n",
       "      <td>2.054633</td>\n",
       "      <td>-0.694396</td>\n",
       "      <td>-0.477481</td>\n",
       "      <td>MALE</td>\n",
       "      <td>0.207308</td>\n",
       "      <td>NaN</td>\n",
       "      <td>Adelie Penguin (Pygoscelis adeliae)</td>\n",
       "    </tr>\n",
       "    <tr>\n",
       "      <th>197</th>\n",
       "      <td>Torgersen</td>\n",
       "      <td>Yes</td>\n",
       "      <td>-1.787204</td>\n",
       "      <td>0.468996</td>\n",
       "      <td>-0.551633</td>\n",
       "      <td>-0.882463</td>\n",
       "      <td>NaN</td>\n",
       "      <td>0.207308</td>\n",
       "      <td>NaN</td>\n",
       "      <td>Adelie Penguin (Pygoscelis adeliae)</td>\n",
       "    </tr>\n",
       "    <tr>\n",
       "      <th>207</th>\n",
       "      <td>Dream</td>\n",
       "      <td>No</td>\n",
       "      <td>-0.759391</td>\n",
       "      <td>0.980492</td>\n",
       "      <td>-1.194068</td>\n",
       "      <td>0.581704</td>\n",
       "      <td>MALE</td>\n",
       "      <td>0.207308</td>\n",
       "      <td>NaN</td>\n",
       "      <td>Adelie Penguin (Pygoscelis adeliae)</td>\n",
       "    </tr>\n",
       "    <tr>\n",
       "      <th>218</th>\n",
       "      <td>Torgersen</td>\n",
       "      <td>Yes</td>\n",
       "      <td>-0.524978</td>\n",
       "      <td>0.213249</td>\n",
       "      <td>-1.336831</td>\n",
       "      <td>-1.225141</td>\n",
       "      <td>FEMALE</td>\n",
       "      <td>0.207308</td>\n",
       "      <td>NaN</td>\n",
       "      <td>Adelie Penguin (Pygoscelis adeliae)</td>\n",
       "    </tr>\n",
       "    <tr>\n",
       "      <th>229</th>\n",
       "      <td>Dream</td>\n",
       "      <td>Yes</td>\n",
       "      <td>-0.524978</td>\n",
       "      <td>0.929343</td>\n",
       "      <td>-1.336831</td>\n",
       "      <td>-0.944768</td>\n",
       "      <td>MALE</td>\n",
       "      <td>0.207308</td>\n",
       "      <td>NaN</td>\n",
       "      <td>Adelie Penguin (Pygoscelis adeliae)</td>\n",
       "    </tr>\n",
       "    <tr>\n",
       "      <th>248</th>\n",
       "      <td>Torgersen</td>\n",
       "      <td>Yes</td>\n",
       "      <td>-0.942564</td>\n",
       "      <td>0.622445</td>\n",
       "      <td>-0.774701</td>\n",
       "      <td>-0.711124</td>\n",
       "      <td>NaN</td>\n",
       "      <td>0.207308</td>\n",
       "      <td>NaN</td>\n",
       "      <td>Adelie Penguin (Pygoscelis adeliae)</td>\n",
       "    </tr>\n",
       "  </tbody>\n",
       "</table>\n",
       "</div>"
      ],
      "text/plain": [
       "        Island Clutch Completion  Culmen Length (mm)  Culmen Depth (mm)  \\\n",
       "7        Dream               Yes           -0.579073           0.622445   \n",
       "62   Torgersen               Yes           -1.336409           0.315548   \n",
       "82   Torgersen               Yes           -1.120027           0.059800   \n",
       "97      Biscoe               Yes            0.592995          -0.963192   \n",
       "169     Biscoe                No            0.620042          -1.121538   \n",
       "170  Torgersen               Yes           -0.975773           2.054633   \n",
       "197  Torgersen               Yes           -1.787204           0.468996   \n",
       "207      Dream                No           -0.759391           0.980492   \n",
       "218  Torgersen               Yes           -0.524978           0.213249   \n",
       "229      Dream               Yes           -0.524978           0.929343   \n",
       "248  Torgersen               Yes           -0.942564           0.622445   \n",
       "\n",
       "     Flipper Length (mm)  Body Mass (g)     Sex  Delta 15 N (o/oo)  \\\n",
       "7              -0.408870      -0.352871    MALE           0.207308   \n",
       "62             -1.122686      -0.602091  FEMALE           0.207308   \n",
       "82             -1.479594      -0.602091     NaN           0.207308   \n",
       "97              1.518434       1.329364    MALE          -0.882649   \n",
       "169             1.185826       1.080144     NaN          -0.882649   \n",
       "170            -0.694396      -0.477481    MALE           0.207308   \n",
       "197            -0.551633      -0.882463     NaN           0.207308   \n",
       "207            -1.194068       0.581704    MALE           0.207308   \n",
       "218            -1.336831      -1.225141  FEMALE           0.207308   \n",
       "229            -1.336831      -0.944768    MALE           0.207308   \n",
       "248            -0.774701      -0.711124     NaN           0.207308   \n",
       "\n",
       "     Delta 13 C (o/oo)                              Species  \n",
       "7                  NaN  Adelie Penguin (Pygoscelis adeliae)  \n",
       "62                 NaN  Adelie Penguin (Pygoscelis adeliae)  \n",
       "82                 NaN  Adelie Penguin (Pygoscelis adeliae)  \n",
       "97                 NaN    Gentoo penguin (Pygoscelis papua)  \n",
       "169                NaN    Gentoo penguin (Pygoscelis papua)  \n",
       "170                NaN  Adelie Penguin (Pygoscelis adeliae)  \n",
       "197                NaN  Adelie Penguin (Pygoscelis adeliae)  \n",
       "207                NaN  Adelie Penguin (Pygoscelis adeliae)  \n",
       "218                NaN  Adelie Penguin (Pygoscelis adeliae)  \n",
       "229                NaN  Adelie Penguin (Pygoscelis adeliae)  \n",
       "248                NaN  Adelie Penguin (Pygoscelis adeliae)  "
      ]
     },
     "execution_count": 34,
     "metadata": {},
     "output_type": "execute_result"
    }
   ],
   "source": [
    "train_csv[train_csv['Delta 13 C (o/oo)'].isnull()]"
   ]
  },
  {
   "cell_type": "code",
   "execution_count": 35,
   "id": "86addf4a",
   "metadata": {},
   "outputs": [
    {
     "data": {
      "image/png": "[encoded data removed]",
      "text/plain": [
       "<Figure size 640x480 with 1 Axes>"
      ]
     },
     "metadata": {},
     "output_type": "display_data"
    }
   ],
   "source": [
    "# Creating Box-plot to analyze data distribution\n",
    "figure = plt.figure()                                                                 # Creating a custom figure size\n",
    "sns.boxplot(x='Species', y='Delta 13 C (o/oo)', palette='rainbow', data=train_csv)        # Using seaborn's boxplot() function\n",
    "plt.xlabel(xlabel='Species')                                                          # Labelling x-axis with a custom label\n",
    "plt.xticks(rotation=5)\n",
    "plt.ylabel(ylabel='Delta 13 C (normalized)')                                           # Labelling y-axis with a custom label\n",
    "plt.title(label='Fig. 6\\n Delta 13 C (normalized) Distribution for different species') # Labelling title with a custom label\n",
    "plt.grid(visible=True)\n",
    "plt.show()"
   ]
  },
  {
   "cell_type": "markdown",
   "id": "2c6486be",
   "metadata": {},
   "source": [
    "- For the class `Adelie Penguine`, the `Delta 13 C (o/oo)` data distribution is skewed. Therefore, to fill the corresponding `NaN`, we will use the **median** of the values having the same class.  \n",
    "- Also, for the class `Gentoo penguin`, the `Delta 13 C (o/oo)` data distribution is almost symmetrical. Therefore, to fill the corresponding `NaN`, we will use the **mean** of the values having the same class."
   ]
  },
  {
   "cell_type": "code",
   "execution_count": 36,
   "id": "59a0c65e",
   "metadata": {},
   "outputs": [],
   "source": [
    "value_adelie = df_species_adelie[\"Delta 13 C (o/oo)\"].median()\n",
    "value_gentoo = df_species_gentoo[\"Delta 13 C (o/oo)\"].mean()"
   ]
  },
  {
   "cell_type": "code",
   "execution_count": 37,
   "id": "b1a7192d",
   "metadata": {},
   "outputs": [],
   "source": [
    "train_csv.loc[(train_csv[\"Delta 13 C (o/oo)\"].isnull()) & (train_csv[\"Species\"] == 'Adelie Penguin (Pygoscelis adeliae)'), ['Delta 13 C (o/oo)']] = value_adelie\n",
    "train_csv.loc[(train_csv[\"Delta 13 C (o/oo)\"].isnull()) & (train_csv[\"Species\"] == 'Gentoo penguin (Pygoscelis papua)'), ['Delta 13 C (o/oo)']] = value_gentoo"
   ]
  },
  {
   "cell_type": "code",
   "execution_count": 38,
   "id": "adae1f6e",
   "metadata": {},
   "outputs": [
    {
     "data": {
      "text/html": [
       "<div>\n",
       "<style scoped>\n",
       "    .dataframe tbody tr th:only-of-type {\n",
       "        vertical-align: middle;\n",
       "    }\n",
       "\n",
       "    .dataframe tbody tr th {\n",
       "        vertical-align: top;\n",
       "    }\n",
       "\n",
       "    .dataframe thead th {\n",
       "        text-align: right;\n",
       "    }\n",
       "</style>\n",
       "<table border=\"1\" class=\"dataframe\">\n",
       "  <thead>\n",
       "    <tr style=\"text-align: right;\">\n",
       "      <th></th>\n",
       "      <th>Island</th>\n",
       "      <th>Clutch Completion</th>\n",
       "      <th>Culmen Length (mm)</th>\n",
       "      <th>Culmen Depth (mm)</th>\n",
       "      <th>Flipper Length (mm)</th>\n",
       "      <th>Body Mass (g)</th>\n",
       "      <th>Sex</th>\n",
       "      <th>Delta 15 N (o/oo)</th>\n",
       "      <th>Delta 13 C (o/oo)</th>\n",
       "      <th>Species</th>\n",
       "    </tr>\n",
       "  </thead>\n",
       "  <tbody>\n",
       "  </tbody>\n",
       "</table>\n",
       "</div>"
      ],
      "text/plain": [
       "Empty DataFrame\n",
       "Columns: [Island, Clutch Completion, Culmen Length (mm), Culmen Depth (mm), Flipper Length (mm), Body Mass (g), Sex, Delta 15 N (o/oo), Delta 13 C (o/oo), Species]\n",
       "Index: []"
      ]
     },
     "execution_count": 38,
     "metadata": {},
     "output_type": "execute_result"
    }
   ],
   "source": [
    "train_csv[train_csv['Delta 13 C (o/oo)'].isnull()]"
   ]
  },
  {
   "cell_type": "markdown",
   "id": "4d6db970",
   "metadata": {},
   "source": [
    "- We have filled the missing values of `Delta 13 C (o/oo)` attribute"
   ]
  },
  {
   "cell_type": "markdown",
   "id": "f72d7280",
   "metadata": {},
   "source": [
    "- Now we have successfully completed the imputation of continuous attributes. "
   ]
  },
  {
   "cell_type": "markdown",
   "id": "5c46dce6",
   "metadata": {},
   "source": [
    "----"
   ]
  },
  {
   "cell_type": "code",
   "execution_count": 39,
   "id": "b9e27445",
   "metadata": {},
   "outputs": [
    {
     "data": {
      "text/html": [
       "<div>\n",
       "<style scoped>\n",
       "    .dataframe tbody tr th:only-of-type {\n",
       "        vertical-align: middle;\n",
       "    }\n",
       "\n",
       "    .dataframe tbody tr th {\n",
       "        vertical-align: top;\n",
       "    }\n",
       "\n",
       "    .dataframe thead th {\n",
       "        text-align: right;\n",
       "    }\n",
       "</style>\n",
       "<table border=\"1\" class=\"dataframe\">\n",
       "  <thead>\n",
       "    <tr style=\"text-align: right;\">\n",
       "      <th></th>\n",
       "      <th>Island</th>\n",
       "      <th>Clutch Completion</th>\n",
       "      <th>Culmen Length (mm)</th>\n",
       "      <th>Culmen Depth (mm)</th>\n",
       "      <th>Flipper Length (mm)</th>\n",
       "      <th>Body Mass (g)</th>\n",
       "      <th>Sex</th>\n",
       "      <th>Delta 15 N (o/oo)</th>\n",
       "      <th>Delta 13 C (o/oo)</th>\n",
       "      <th>Species</th>\n",
       "    </tr>\n",
       "  </thead>\n",
       "  <tbody>\n",
       "    <tr>\n",
       "      <th>26</th>\n",
       "      <td>Torgersen</td>\n",
       "      <td>Yes</td>\n",
       "      <td>-0.362691</td>\n",
       "      <td>1.543138</td>\n",
       "      <td>-0.765778</td>\n",
       "      <td>0.083264</td>\n",
       "      <td>NaN</td>\n",
       "      <td>0.681774</td>\n",
       "      <td>0.711419</td>\n",
       "      <td>Adelie Penguin (Pygoscelis adeliae)</td>\n",
       "    </tr>\n",
       "    <tr>\n",
       "      <th>82</th>\n",
       "      <td>Torgersen</td>\n",
       "      <td>Yes</td>\n",
       "      <td>-1.120027</td>\n",
       "      <td>0.059800</td>\n",
       "      <td>-1.479594</td>\n",
       "      <td>-0.602091</td>\n",
       "      <td>NaN</td>\n",
       "      <td>0.207308</td>\n",
       "      <td>-0.389576</td>\n",
       "      <td>Adelie Penguin (Pygoscelis adeliae)</td>\n",
       "    </tr>\n",
       "    <tr>\n",
       "      <th>169</th>\n",
       "      <td>Biscoe</td>\n",
       "      <td>No</td>\n",
       "      <td>0.620042</td>\n",
       "      <td>-1.121538</td>\n",
       "      <td>1.185826</td>\n",
       "      <td>1.080144</td>\n",
       "      <td>NaN</td>\n",
       "      <td>-0.882649</td>\n",
       "      <td>-0.648235</td>\n",
       "      <td>Gentoo penguin (Pygoscelis papua)</td>\n",
       "    </tr>\n",
       "    <tr>\n",
       "      <th>197</th>\n",
       "      <td>Torgersen</td>\n",
       "      <td>Yes</td>\n",
       "      <td>-1.787204</td>\n",
       "      <td>0.468996</td>\n",
       "      <td>-0.551633</td>\n",
       "      <td>-0.882463</td>\n",
       "      <td>NaN</td>\n",
       "      <td>0.207308</td>\n",
       "      <td>-0.389576</td>\n",
       "      <td>Adelie Penguin (Pygoscelis adeliae)</td>\n",
       "    </tr>\n",
       "    <tr>\n",
       "      <th>206</th>\n",
       "      <td>Biscoe</td>\n",
       "      <td>Yes</td>\n",
       "      <td>0.394645</td>\n",
       "      <td>-1.423538</td>\n",
       "      <td>0.947381</td>\n",
       "      <td>0.581704</td>\n",
       "      <td>NaN</td>\n",
       "      <td>-0.902430</td>\n",
       "      <td>-1.420835</td>\n",
       "      <td>Gentoo penguin (Pygoscelis papua)</td>\n",
       "    </tr>\n",
       "    <tr>\n",
       "      <th>212</th>\n",
       "      <td>Torgersen</td>\n",
       "      <td>Yes</td>\n",
       "      <td>-1.120027</td>\n",
       "      <td>-0.042499</td>\n",
       "      <td>-1.051305</td>\n",
       "      <td>-1.100531</td>\n",
       "      <td>NaN</td>\n",
       "      <td>-0.209255</td>\n",
       "      <td>0.563462</td>\n",
       "      <td>Adelie Penguin (Pygoscelis adeliae)</td>\n",
       "    </tr>\n",
       "    <tr>\n",
       "      <th>219</th>\n",
       "      <td>Biscoe</td>\n",
       "      <td>Yes</td>\n",
       "      <td>0.088104</td>\n",
       "      <td>-0.758593</td>\n",
       "      <td>1.161526</td>\n",
       "      <td>0.862077</td>\n",
       "      <td>NaN</td>\n",
       "      <td>-1.260520</td>\n",
       "      <td>-0.639426</td>\n",
       "      <td>Gentoo penguin (Pygoscelis papua)</td>\n",
       "    </tr>\n",
       "    <tr>\n",
       "      <th>248</th>\n",
       "      <td>Torgersen</td>\n",
       "      <td>Yes</td>\n",
       "      <td>-0.942564</td>\n",
       "      <td>0.622445</td>\n",
       "      <td>-0.774701</td>\n",
       "      <td>-0.711124</td>\n",
       "      <td>NaN</td>\n",
       "      <td>0.207308</td>\n",
       "      <td>-0.389576</td>\n",
       "      <td>Adelie Penguin (Pygoscelis adeliae)</td>\n",
       "    </tr>\n",
       "  </tbody>\n",
       "</table>\n",
       "</div>"
      ],
      "text/plain": [
       "        Island Clutch Completion  Culmen Length (mm)  Culmen Depth (mm)  \\\n",
       "26   Torgersen               Yes           -0.362691           1.543138   \n",
       "82   Torgersen               Yes           -1.120027           0.059800   \n",
       "169     Biscoe                No            0.620042          -1.121538   \n",
       "197  Torgersen               Yes           -1.787204           0.468996   \n",
       "206     Biscoe               Yes            0.394645          -1.423538   \n",
       "212  Torgersen               Yes           -1.120027          -0.042499   \n",
       "219     Biscoe               Yes            0.088104          -0.758593   \n",
       "248  Torgersen               Yes           -0.942564           0.622445   \n",
       "\n",
       "     Flipper Length (mm)  Body Mass (g)  Sex  Delta 15 N (o/oo)  \\\n",
       "26             -0.765778       0.083264  NaN           0.681774   \n",
       "82             -1.479594      -0.602091  NaN           0.207308   \n",
       "169             1.185826       1.080144  NaN          -0.882649   \n",
       "197            -0.551633      -0.882463  NaN           0.207308   \n",
       "206             0.947381       0.581704  NaN          -0.902430   \n",
       "212            -1.051305      -1.100531  NaN          -0.209255   \n",
       "219             1.161526       0.862077  NaN          -1.260520   \n",
       "248            -0.774701      -0.711124  NaN           0.207308   \n",
       "\n",
       "     Delta 13 C (o/oo)                              Species  \n",
       "26            0.711419  Adelie Penguin (Pygoscelis adeliae)  \n",
       "82           -0.389576  Adelie Penguin (Pygoscelis adeliae)  \n",
       "169          -0.648235    Gentoo penguin (Pygoscelis papua)  \n",
       "197          -0.389576  Adelie Penguin (Pygoscelis adeliae)  \n",
       "206          -1.420835    Gentoo penguin (Pygoscelis papua)  \n",
       "212           0.563462  Adelie Penguin (Pygoscelis adeliae)  \n",
       "219          -0.639426    Gentoo penguin (Pygoscelis papua)  \n",
       "248          -0.389576  Adelie Penguin (Pygoscelis adeliae)  "
      ]
     },
     "execution_count": 39,
     "metadata": {},
     "output_type": "execute_result"
    }
   ],
   "source": [
    "# Visualize the rows that have missing values\n",
    "train_csv[train_csv.isnull().any(axis=1)]"
   ]
  },
  {
   "cell_type": "markdown",
   "id": "ed82b12d",
   "metadata": {},
   "source": [
    "- As we can observe, only `Sex` (categorical) attribute has NaN values. Let's train a **Decision trees** classifier to classify the target attribute 'Sex', given other attributes.\n",
    "<br />\n",
    "- Let's prepare the data first.\n",
    "    - Get the tuples / rows where 'Sex' != 'Nan', and encode all the categorical values (`DT_data`). This would make our training dataset.\n",
    "    - Split the training dataset into train and test set (80%->train - 20%->test).\n",
    "- Train a DT classifier using Scikit-Learn library.\n",
    "- Once the accuracy on the test set is desirable, use the trained decision-tree classifier to predict the value of NaN values of Sex attribute.\n",
    "- Finally, replace the NaN values in the `train_csv` dataframe with the output given by trained model."
   ]
  },
  {
   "cell_type": "code",
   "execution_count": 40,
   "id": "92655b4d",
   "metadata": {},
   "outputs": [
    {
     "data": {
      "text/html": [
       "<div>\n",
       "<style scoped>\n",
       "    .dataframe tbody tr th:only-of-type {\n",
       "        vertical-align: middle;\n",
       "    }\n",
       "\n",
       "    .dataframe tbody tr th {\n",
       "        vertical-align: top;\n",
       "    }\n",
       "\n",
       "    .dataframe thead th {\n",
       "        text-align: right;\n",
       "    }\n",
       "</style>\n",
       "<table border=\"1\" class=\"dataframe\">\n",
       "  <thead>\n",
       "    <tr style=\"text-align: right;\">\n",
       "      <th></th>\n",
       "      <th>Island</th>\n",
       "      <th>Clutch Completion</th>\n",
       "      <th>Culmen Length (mm)</th>\n",
       "      <th>Culmen Depth (mm)</th>\n",
       "      <th>Flipper Length (mm)</th>\n",
       "      <th>Body Mass (g)</th>\n",
       "      <th>Sex</th>\n",
       "      <th>Delta 15 N (o/oo)</th>\n",
       "      <th>Delta 13 C (o/oo)</th>\n",
       "      <th>Species</th>\n",
       "    </tr>\n",
       "  </thead>\n",
       "  <tbody>\n",
       "    <tr>\n",
       "      <th>0</th>\n",
       "      <td>Biscoe</td>\n",
       "      <td>Yes</td>\n",
       "      <td>-0.939709</td>\n",
       "      <td>0.00865</td>\n",
       "      <td>-1.479594</td>\n",
       "      <td>-0.477481</td>\n",
       "      <td>MALE</td>\n",
       "      <td>1.581213</td>\n",
       "      <td>0.457687</td>\n",
       "      <td>Adelie Penguin (Pygoscelis adeliae)</td>\n",
       "    </tr>\n",
       "  </tbody>\n",
       "</table>\n",
       "</div>"
      ],
      "text/plain": [
       "   Island Clutch Completion  Culmen Length (mm)  Culmen Depth (mm)  \\\n",
       "0  Biscoe               Yes           -0.939709            0.00865   \n",
       "\n",
       "   Flipper Length (mm)  Body Mass (g)   Sex  Delta 15 N (o/oo)  \\\n",
       "0            -1.479594      -0.477481  MALE           1.581213   \n",
       "\n",
       "   Delta 13 C (o/oo)                              Species  \n",
       "0           0.457687  Adelie Penguin (Pygoscelis adeliae)  "
      ]
     },
     "execution_count": 40,
     "metadata": {},
     "output_type": "execute_result"
    }
   ],
   "source": [
    "train_csv.head(1)"
   ]
  },
  {
   "cell_type": "code",
   "execution_count": 41,
   "id": "637ca697",
   "metadata": {},
   "outputs": [],
   "source": [
    "# Data preparation\n",
    "DT_data = train_csv.copy()\n",
    "DT_data = DT_data.dropna() # dropping the rows having NaN values\n",
    "DT_X = DT_data[['Island', 'Clutch Completion', 'Culmen Length (mm)', 'Culmen Depth (mm)', 'Flipper Length (mm)', 'Body Mass (g)', 'Delta 15 N (o/oo)', 'Delta 13 C (o/oo)', 'Species']] # separate features and target variable\n",
    "DT_y = DT_data['Sex']\n",
    "DT_X_encoded = pd.get_dummies(DT_X, columns=['Island', 'Species'])\n",
    "DT_X_encoded.replace({'Yes': 1, 'No': 0}, inplace=True) # for encoding 'Clutch Completion'\n",
    "DT_X_encoded.replace({True: 1, False: 0}, inplace=True) # to encode the 'True' to 1 and 'False' to 0\n",
    "DT_y_encoded = DT_y\n",
    "DT_y_encoded.replace({'MALE': 0, 'FEMALE': 1}, inplace=True) # for encoding target variable 'Sex'"
   ]
  },
  {
   "cell_type": "code",
   "execution_count": 42,
   "id": "dc18f7cd",
   "metadata": {},
   "outputs": [
    {
     "data": {
      "text/html": [
       "<div>\n",
       "<style scoped>\n",
       "    .dataframe tbody tr th:only-of-type {\n",
       "        vertical-align: middle;\n",
       "    }\n",
       "\n",
       "    .dataframe tbody tr th {\n",
       "        vertical-align: top;\n",
       "    }\n",
       "\n",
       "    .dataframe thead th {\n",
       "        text-align: right;\n",
       "    }\n",
       "</style>\n",
       "<table border=\"1\" class=\"dataframe\">\n",
       "  <thead>\n",
       "    <tr style=\"text-align: right;\">\n",
       "      <th></th>\n",
       "      <th>Clutch Completion</th>\n",
       "      <th>Culmen Length (mm)</th>\n",
       "      <th>Culmen Depth (mm)</th>\n",
       "      <th>Flipper Length (mm)</th>\n",
       "      <th>Body Mass (g)</th>\n",
       "      <th>Delta 15 N (o/oo)</th>\n",
       "      <th>Delta 13 C (o/oo)</th>\n",
       "      <th>Island_Biscoe</th>\n",
       "      <th>Island_Dream</th>\n",
       "      <th>Island_Torgersen</th>\n",
       "      <th>Species_Adelie Penguin (Pygoscelis adeliae)</th>\n",
       "      <th>Species_Chinstrap penguin (Pygoscelis antarctica)</th>\n",
       "      <th>Species_Gentoo penguin (Pygoscelis papua)</th>\n",
       "    </tr>\n",
       "  </thead>\n",
       "  <tbody>\n",
       "    <tr>\n",
       "      <th>0</th>\n",
       "      <td>1</td>\n",
       "      <td>-0.939709</td>\n",
       "      <td>0.00865</td>\n",
       "      <td>-1.479594</td>\n",
       "      <td>-0.477481</td>\n",
       "      <td>1.581213</td>\n",
       "      <td>0.457687</td>\n",
       "      <td>1</td>\n",
       "      <td>0</td>\n",
       "      <td>0</td>\n",
       "      <td>1</td>\n",
       "      <td>0</td>\n",
       "      <td>0</td>\n",
       "    </tr>\n",
       "  </tbody>\n",
       "</table>\n",
       "</div>"
      ],
      "text/plain": [
       "   Clutch Completion  Culmen Length (mm)  Culmen Depth (mm)  \\\n",
       "0                  1           -0.939709            0.00865   \n",
       "\n",
       "   Flipper Length (mm)  Body Mass (g)  Delta 15 N (o/oo)  Delta 13 C (o/oo)  \\\n",
       "0            -1.479594      -0.477481           1.581213           0.457687   \n",
       "\n",
       "   Island_Biscoe  Island_Dream  Island_Torgersen  \\\n",
       "0              1             0                 0   \n",
       "\n",
       "   Species_Adelie Penguin (Pygoscelis adeliae)  \\\n",
       "0                                            1   \n",
       "\n",
       "   Species_Chinstrap penguin (Pygoscelis antarctica)  \\\n",
       "0                                                  0   \n",
       "\n",
       "   Species_Gentoo penguin (Pygoscelis papua)  \n",
       "0                                          0  "
      ]
     },
     "execution_count": 42,
     "metadata": {},
     "output_type": "execute_result"
    }
   ],
   "source": [
    "# After data preparation, this is how the input variables look like\n",
    "DT_X_encoded.head(1)"
   ]
  },
  {
   "cell_type": "code",
   "execution_count": 43,
   "id": "0bbc2986",
   "metadata": {},
   "outputs": [
    {
     "data": {
      "text/plain": [
       "0    0\n",
       "Name: Sex, dtype: int64"
      ]
     },
     "execution_count": 43,
     "metadata": {},
     "output_type": "execute_result"
    }
   ],
   "source": [
    "# After data preparation, this is how the target variable looks like\n",
    "DT_y_encoded.head(1)"
   ]
  },
  {
   "cell_type": "code",
   "execution_count": 44,
   "id": "8291f08c",
   "metadata": {},
   "outputs": [
    {
     "name": "stdout",
     "output_type": "stream",
     "text": [
      "Cross Validation Scores: [0.8571428571428571, 0.9285714285714286, 0.8571428571428571, 1.0, 0.9285714285714286, 0.9285714285714286, 0.8461538461538461, 0.8461538461538461, 0.9230769230769231, 0.8461538461538461, 0.9230769230769231, 0.9230769230769231, 0.7692307692307693, 0.8461538461538461, 0.9230769230769231, 0.7692307692307693, 0.7692307692307693, 0.6923076923076923, 0.7692307692307693, 0.9230769230769231]\n",
      "List of possible accuracies: [0.8571428571428571, 0.9285714285714286, 0.8571428571428571, 1.0, 0.9285714285714286, 0.9285714285714286, 0.8461538461538461, 0.8461538461538461, 0.9230769230769231, 0.8461538461538461, 0.9230769230769231, 0.9230769230769231, 0.7692307692307693, 0.8461538461538461, 0.9230769230769231, 0.7692307692307693, 0.7692307692307693, 0.6923076923076923, 0.7692307692307693, 0.9230769230769231]\n",
      "\n",
      "\n",
      "Maximum Accuracy that can be obtained from this model is: 100.0 %\n",
      "\n",
      "\n",
      "Minimum Accuracy: 69.23076923076923 %\n",
      "\n",
      "\n",
      "Overall Accuracy: 86.34615384615385 %\n",
      "\n",
      "\n",
      "Standard Deviation is: 0.07787306882481278\n"
     ]
    }
   ],
   "source": [
    "# Evaluating how well the default arguments of a decision tree model tends to fit the data distribution that we have\n",
    "\n",
    "# Initialize the Decision Tree Classifier\n",
    "classifier = DecisionTreeClassifier(random_state=42)\n",
    "\n",
    "# Initialize StratifiedKFold\n",
    "stratkf = StratifiedKFold(n_splits=20, random_state=42, shuffle=True)\n",
    "\n",
    "# Initialize a list to store the cross-validation scores\n",
    "crossv_scores = []\n",
    "\n",
    "# Perform stratified K-fold cross-validation\n",
    "for train_idx, val_idx in stratkf.split(DT_X_encoded, DT_y_encoded):\n",
    "    # print(\"train_idx\", train_idx)\n",
    "    # print(\"val_idx\", val_idx)\n",
    "    X_train, X_val = DT_X_encoded.iloc[train_idx], DT_X_encoded.iloc[val_idx]\n",
    "    y_train, y_val = DT_y_encoded.iloc[train_idx], DT_y_encoded.iloc[val_idx]\n",
    "    # print(f\"X_train: {X_train}\")\n",
    "    # print(f\"y_train: {y_train}\\ny_val: {y_val}\")\n",
    "    # print(f\"X_val: {X_val}\")\n",
    "    # print(\"-----------\")\n",
    "\n",
    "    # Train the model\n",
    "    classifier.fit(X_train, y_train)\n",
    "    # Evaluate on validation set\n",
    "    score = classifier.score(X_val, y_val)\n",
    "    crossv_scores.append(score)\n",
    "\n",
    "print(\"Cross Validation Scores:\", crossv_scores)\n",
    "\n",
    "# Evaluate accuracy of the trained model\n",
    "print('List of possible accuracies:', crossv_scores)\n",
    "print('\\n')\n",
    "print('Maximum Accuracy that can be obtained from this model is:', max(crossv_scores)*100, '%')\n",
    "print('\\n')\n",
    "print('Minimum Accuracy:', min(crossv_scores)*100, '%')\n",
    "print('\\n')\n",
    "print('Overall Accuracy:', mean(crossv_scores)*100, '%')\n",
    "print('\\n')\n",
    "print('Standard Deviation is:', stdev(crossv_scores))"
   ]
  },
  {
   "cell_type": "markdown",
   "id": "5347c6a7",
   "metadata": {},
   "source": [
    "Explanation: blah blah. fits well. More data.\n",
    "Let's use the same decision tree instance to train on our data and then once the accuracy metrics is satisfied, let;s use this classifier to train on our full training dataset and predict the output of NaN values."
   ]
  },
  {
   "cell_type": "code",
   "execution_count": 45,
   "id": "d784df14",
   "metadata": {},
   "outputs": [
    {
     "name": "stdout",
     "output_type": "stream",
     "text": [
      "Accuracy of OvO: 0.7962962962962963\n",
      "Performance Report: \n",
      "               precision    recall  f1-score   support\n",
      "\n",
      "           0       0.77      0.85      0.81        27\n",
      "           1       0.83      0.74      0.78        27\n",
      "\n",
      "    accuracy                           0.80        54\n",
      "   macro avg       0.80      0.80      0.80        54\n",
      "weighted avg       0.80      0.80      0.80        54\n",
      "\n",
      "Confusion Matrix: \n",
      " [[23  4]\n",
      " [ 7 20]]\n"
     ]
    }
   ],
   "source": [
    "X_train, X_test, y_train, y_test = train_test_split(DT_X_encoded, DT_y_encoded, stratify=DT_y_encoded, test_size=0.2, random_state=42)\n",
    "\n",
    "# Train Decision Tree Classifer on a stratified split of 80-20.\n",
    "classifier.fit(X_train,y_train)\n",
    "\n",
    "# Predict the response for test dataset\n",
    "y_pred = classifier.predict(X_test)\n",
    "\n",
    "accuracy_ovo = accuracy_score(y_test, y_pred)\n",
    "print(f\"Accuracy of OvO: {accuracy_ovo}\")\n",
    "print(\"Performance Report: \\n\", classification_report(y_test, y_pred))\n",
    "print(\"Confusion Matrix: \\n\", confusion_matrix(y_test, y_pred))"
   ]
  },
  {
   "cell_type": "markdown",
   "id": "10bf41ff",
   "metadata": {},
   "source": [
    "- From the confusion matrix, we can see, for each class, how many instances are correctly predicted and how many instances of a particular class is predicted as some other class."
   ]
  },
  {
   "cell_type": "code",
   "execution_count": 46,
   "id": "31abcebe",
   "metadata": {},
   "outputs": [
    {
     "data": {
      "text/html": [
       "<style>#sk-container-id-1 {color: black;}#sk-container-id-1 pre{padding: 0;}#sk-container-id-1 div.sk-toggleable {background-color: white;}#sk-container-id-1 label.sk-toggleable__label {cursor: pointer;display: block;width: 100%;margin-bottom: 0;padding: 0.3em;box-sizing: border-box;text-align: center;}#sk-container-id-1 label.sk-toggleable__label-arrow:before {content: \"▸\";float: left;margin-right: 0.25em;color: #696969;}#sk-container-id-1 label.sk-toggleable__label-arrow:hover:before {color: black;}#sk-container-id-1 div.sk-estimator:hover label.sk-toggleable__label-arrow:before {color: black;}#sk-container-id-1 div.sk-toggleable__content {max-height: 0;max-width: 0;overflow: hidden;text-align: left;background-color: #f0f8ff;}#sk-container-id-1 div.sk-toggleable__content pre {margin: 0.2em;color: black;border-radius: 0.25em;background-color: #f0f8ff;}#sk-container-id-1 input.sk-toggleable__control:checked~div.sk-toggleable__content {max-height: 200px;max-width: 100%;overflow: auto;}#sk-container-id-1 input.sk-toggleable__control:checked~label.sk-toggleable__label-arrow:before {content: \"▾\";}#sk-container-id-1 div.sk-estimator input.sk-toggleable__control:checked~label.sk-toggleable__label {background-color: #d4ebff;}#sk-container-id-1 div.sk-label input.sk-toggleable__control:checked~label.sk-toggleable__label {background-color: #d4ebff;}#sk-container-id-1 input.sk-hidden--visually {border: 0;clip: rect(1px 1px 1px 1px);clip: rect(1px, 1px, 1px, 1px);height: 1px;margin: -1px;overflow: hidden;padding: 0;position: absolute;width: 1px;}#sk-container-id-1 div.sk-estimator {font-family: monospace;background-color: #f0f8ff;border: 1px dotted black;border-radius: 0.25em;box-sizing: border-box;margin-bottom: 0.5em;}#sk-container-id-1 div.sk-estimator:hover {background-color: #d4ebff;}#sk-container-id-1 div.sk-parallel-item::after {content: \"\";width: 100%;border-bottom: 1px solid gray;flex-grow: 1;}#sk-container-id-1 div.sk-label:hover label.sk-toggleable__label {background-color: #d4ebff;}#sk-container-id-1 div.sk-serial::before {content: \"\";position: absolute;border-left: 1px solid gray;box-sizing: border-box;top: 0;bottom: 0;left: 50%;z-index: 0;}#sk-container-id-1 div.sk-serial {display: flex;flex-direction: column;align-items: center;background-color: white;padding-right: 0.2em;padding-left: 0.2em;position: relative;}#sk-container-id-1 div.sk-item {position: relative;z-index: 1;}#sk-container-id-1 div.sk-parallel {display: flex;align-items: stretch;justify-content: center;background-color: white;position: relative;}#sk-container-id-1 div.sk-item::before, #sk-container-id-1 div.sk-parallel-item::before {content: \"\";position: absolute;border-left: 1px solid gray;box-sizing: border-box;top: 0;bottom: 0;left: 50%;z-index: -1;}#sk-container-id-1 div.sk-parallel-item {display: flex;flex-direction: column;z-index: 1;position: relative;background-color: white;}#sk-container-id-1 div.sk-parallel-item:first-child::after {align-self: flex-end;width: 50%;}#sk-container-id-1 div.sk-parallel-item:last-child::after {align-self: flex-start;width: 50%;}#sk-container-id-1 div.sk-parallel-item:only-child::after {width: 0;}#sk-container-id-1 div.sk-dashed-wrapped {border: 1px dashed gray;margin: 0 0.4em 0.5em 0.4em;box-sizing: border-box;padding-bottom: 0.4em;background-color: white;}#sk-container-id-1 div.sk-label label {font-family: monospace;font-weight: bold;display: inline-block;line-height: 1.2em;}#sk-container-id-1 div.sk-label-container {text-align: center;}#sk-container-id-1 div.sk-container {/* jupyter's `normalize.less` sets `[hidden] { display: none; }` but bootstrap.min.css set `[hidden] { display: none !important; }` so we also need the `!important` here to be able to override the default hidden behavior on the sphinx rendered scikit-learn.org. See: https://github.com/scikit-learn/scikit-learn/issues/21755 */display: inline-block !important;position: relative;}#sk-container-id-1 div.sk-text-repr-fallback {display: none;}</style><div id=\"sk-container-id-1\" class=\"sk-top-container\"><div class=\"sk-text-repr-fallback\"><pre>DecisionTreeClassifier(random_state=42)</pre><b>In a Jupyter environment, please rerun this cell to show the HTML representation or trust the notebook. <br />On GitHub, the HTML representation is unable to render, please try loading this page with nbviewer.org.</b></div><div class=\"sk-container\" hidden><div class=\"sk-item\"><div class=\"sk-estimator sk-toggleable\"><input class=\"sk-toggleable__control sk-hidden--visually\" id=\"sk-estimator-id-1\" type=\"checkbox\" checked><label for=\"sk-estimator-id-1\" class=\"sk-toggleable__label sk-toggleable__label-arrow\">DecisionTreeClassifier</label><div class=\"sk-toggleable__content\"><pre>DecisionTreeClassifier(random_state=42)</pre></div></div></div></div></div>"
      ],
      "text/plain": [
       "DecisionTreeClassifier(random_state=42)"
      ]
     },
     "execution_count": 46,
     "metadata": {},
     "output_type": "execute_result"
    }
   ],
   "source": [
    "# Training on the same model instance without splitting data \n",
    "classifier.fit(DT_X_encoded,DT_y_encoded)"
   ]
  },
  {
   "cell_type": "markdown",
   "id": "02ad685f",
   "metadata": {},
   "source": [
    "- With the help of trained model, now let's fill in missing values of 'Sex' attribute."
   ]
  },
  {
   "cell_type": "code",
   "execution_count": 47,
   "id": "94bdbbcc",
   "metadata": {},
   "outputs": [],
   "source": [
    "# Data Preprocessing to make the data of the same format that we used to train Decisin Tree i.e., `DT_X_encoded` and `DT_y_encoded`\n",
    "X_null = train_csv[train_csv.isnull().any(axis=1)]\n",
    "{'Island_Dream':[0,0,0,0,0,0,0,0]}\n",
    "{'Species_Chinstrap penguin (Pygoscelis antarctica)': [0,0,0,0,0,0,0,0]}\n",
    "X_null = X_null[['Island', 'Clutch Completion', 'Culmen Length (mm)', 'Culmen Depth (mm)', 'Flipper Length (mm)', 'Body Mass (g)', 'Delta 15 N (o/oo)', 'Delta 13 C (o/oo)', 'Species']] # separate features and target variable\n",
    "X_encoded_null = pd.get_dummies(X_null, columns=['Island', 'Species'])\n",
    "X_encoded_null.replace({'Yes': 1, 'No': 0}, inplace=True) # for encoding 'Clutch Completion'\n",
    "X_encoded_null.replace({False: 0, True: 1}, inplace=True)\n",
    "X_encoded_null.insert(8, \"Island_Dream\", [0,0,0,0,0,0,0,0], True)\n",
    "X_encoded_null.insert(11, \"Species_Chinstrap penguin (Pygoscelis antarctica)\", [0,0,0,0,0,0,0,0], True)"
   ]
  },
  {
   "cell_type": "code",
   "execution_count": 48,
   "id": "662ec2db",
   "metadata": {},
   "outputs": [
    {
     "data": {
      "text/html": [
       "<div>\n",
       "<style scoped>\n",
       "    .dataframe tbody tr th:only-of-type {\n",
       "        vertical-align: middle;\n",
       "    }\n",
       "\n",
       "    .dataframe tbody tr th {\n",
       "        vertical-align: top;\n",
       "    }\n",
       "\n",
       "    .dataframe thead th {\n",
       "        text-align: right;\n",
       "    }\n",
       "</style>\n",
       "<table border=\"1\" class=\"dataframe\">\n",
       "  <thead>\n",
       "    <tr style=\"text-align: right;\">\n",
       "      <th></th>\n",
       "      <th>Clutch Completion</th>\n",
       "      <th>Culmen Length (mm)</th>\n",
       "      <th>Culmen Depth (mm)</th>\n",
       "      <th>Flipper Length (mm)</th>\n",
       "      <th>Body Mass (g)</th>\n",
       "      <th>Delta 15 N (o/oo)</th>\n",
       "      <th>Delta 13 C (o/oo)</th>\n",
       "      <th>Island_Biscoe</th>\n",
       "      <th>Island_Dream</th>\n",
       "      <th>Island_Torgersen</th>\n",
       "      <th>Species_Adelie Penguin (Pygoscelis adeliae)</th>\n",
       "      <th>Species_Chinstrap penguin (Pygoscelis antarctica)</th>\n",
       "      <th>Species_Gentoo penguin (Pygoscelis papua)</th>\n",
       "    </tr>\n",
       "  </thead>\n",
       "  <tbody>\n",
       "    <tr>\n",
       "      <th>26</th>\n",
       "      <td>1</td>\n",
       "      <td>-0.362691</td>\n",
       "      <td>1.543138</td>\n",
       "      <td>-0.765778</td>\n",
       "      <td>0.083264</td>\n",
       "      <td>0.681774</td>\n",
       "      <td>0.711419</td>\n",
       "      <td>0</td>\n",
       "      <td>0</td>\n",
       "      <td>1</td>\n",
       "      <td>1</td>\n",
       "      <td>0</td>\n",
       "      <td>0</td>\n",
       "    </tr>\n",
       "  </tbody>\n",
       "</table>\n",
       "</div>"
      ],
      "text/plain": [
       "    Clutch Completion  Culmen Length (mm)  Culmen Depth (mm)  \\\n",
       "26                  1           -0.362691           1.543138   \n",
       "\n",
       "    Flipper Length (mm)  Body Mass (g)  Delta 15 N (o/oo)  Delta 13 C (o/oo)  \\\n",
       "26            -0.765778       0.083264           0.681774           0.711419   \n",
       "\n",
       "    Island_Biscoe  Island_Dream  Island_Torgersen  \\\n",
       "26              0             0                 1   \n",
       "\n",
       "    Species_Adelie Penguin (Pygoscelis adeliae)  \\\n",
       "26                                            1   \n",
       "\n",
       "    Species_Chinstrap penguin (Pygoscelis antarctica)  \\\n",
       "26                                                  0   \n",
       "\n",
       "    Species_Gentoo penguin (Pygoscelis papua)  \n",
       "26                                          0  "
      ]
     },
     "execution_count": 48,
     "metadata": {},
     "output_type": "execute_result"
    }
   ],
   "source": [
    "X_encoded_null.head(1) # match if this format matches `DT_X_encoded`"
   ]
  },
  {
   "cell_type": "code",
   "execution_count": 49,
   "id": "384e752e",
   "metadata": {},
   "outputs": [],
   "source": [
    "# predict\n",
    "y_pred = classifier.predict(X_encoded_null)"
   ]
  },
  {
   "cell_type": "code",
   "execution_count": 50,
   "id": "306f7c68",
   "metadata": {},
   "outputs": [
    {
     "data": {
      "text/plain": [
       "array([0, 1, 1, 1, 1, 1, 0, 1])"
      ]
     },
     "execution_count": 50,
     "metadata": {},
     "output_type": "execute_result"
    }
   ],
   "source": [
    "y_pred"
   ]
  },
  {
   "cell_type": "code",
   "execution_count": 51,
   "id": "d2cd2910",
   "metadata": {},
   "outputs": [],
   "source": [
    "''' \n",
    "Let's fill the missing values of 'Sex' attribute in \n",
    "`train_csv` dataframe with the predicted values\n",
    "'''\n",
    "for pred_idx, ind in enumerate(train_csv[train_csv.isnull().any(axis=1)].index):\n",
    "    if y_pred[pred_idx] == 0:\n",
    "        train_csv.at[ind,'Sex']='MALE'\n",
    "    if y_pred[pred_idx] == 1:\n",
    "        train_csv.at[ind,'Sex']='FEMALE'\n",
    "# train_csv.at[82,'Sex']"
   ]
  },
  {
   "cell_type": "code",
   "execution_count": 52,
   "id": "801130c1",
   "metadata": {},
   "outputs": [
    {
     "data": {
      "text/plain": [
       "Island                                           Torgersen\n",
       "Clutch Completion                                      Yes\n",
       "Culmen Length (mm)                               -1.120027\n",
       "Culmen Depth (mm)                                   0.0598\n",
       "Flipper Length (mm)                              -1.479594\n",
       "Body Mass (g)                                    -0.602091\n",
       "Sex                                                 FEMALE\n",
       "Delta 15 N (o/oo)                                 0.207308\n",
       "Delta 13 C (o/oo)                                -0.389576\n",
       "Species                Adelie Penguin (Pygoscelis adeliae)\n",
       "Name: 82, dtype: object"
      ]
     },
     "execution_count": 52,
     "metadata": {},
     "output_type": "execute_result"
    }
   ],
   "source": [
    "train_csv.iloc[82]"
   ]
  },
  {
   "cell_type": "code",
   "execution_count": 53,
   "id": "be4eceab",
   "metadata": {},
   "outputs": [
    {
     "data": {
      "text/html": [
       "<div>\n",
       "<style scoped>\n",
       "    .dataframe tbody tr th:only-of-type {\n",
       "        vertical-align: middle;\n",
       "    }\n",
       "\n",
       "    .dataframe tbody tr th {\n",
       "        vertical-align: top;\n",
       "    }\n",
       "\n",
       "    .dataframe thead th {\n",
       "        text-align: right;\n",
       "    }\n",
       "</style>\n",
       "<table border=\"1\" class=\"dataframe\">\n",
       "  <thead>\n",
       "    <tr style=\"text-align: right;\">\n",
       "      <th></th>\n",
       "      <th>Island</th>\n",
       "      <th>Clutch Completion</th>\n",
       "      <th>Culmen Length (mm)</th>\n",
       "      <th>Culmen Depth (mm)</th>\n",
       "      <th>Flipper Length (mm)</th>\n",
       "      <th>Body Mass (g)</th>\n",
       "      <th>Sex</th>\n",
       "      <th>Delta 15 N (o/oo)</th>\n",
       "      <th>Delta 13 C (o/oo)</th>\n",
       "      <th>Species</th>\n",
       "    </tr>\n",
       "  </thead>\n",
       "  <tbody>\n",
       "  </tbody>\n",
       "</table>\n",
       "</div>"
      ],
      "text/plain": [
       "Empty DataFrame\n",
       "Columns: [Island, Clutch Completion, Culmen Length (mm), Culmen Depth (mm), Flipper Length (mm), Body Mass (g), Sex, Delta 15 N (o/oo), Delta 13 C (o/oo), Species]\n",
       "Index: []"
      ]
     },
     "execution_count": 53,
     "metadata": {},
     "output_type": "execute_result"
    }
   ],
   "source": [
    "train_csv[train_csv.isnull().any(axis=1)]"
   ]
  },
  {
   "cell_type": "markdown",
   "id": "85e9e356",
   "metadata": {},
   "source": [
    "- All the NaN values have been imputed successfully."
   ]
  },
  {
   "cell_type": "markdown",
   "id": "3c52f9f0",
   "metadata": {},
   "source": [
    "----"
   ]
  },
  {
   "cell_type": "markdown",
   "id": "8d5bef6a",
   "metadata": {},
   "source": [
    "### **3. SVM: One vs All**"
   ]
  },
  {
   "cell_type": "markdown",
   "id": "de5377ff",
   "metadata": {},
   "source": [
    "- Dataset preparation for One vs All\n",
    "    - We will have three datasets for each of the three binary classification problems. For each binary classification problem one of the three classes will be positive and rest will be negative."
   ]
  },
  {
   "cell_type": "code",
   "execution_count": 54,
   "id": "18c345bd",
   "metadata": {},
   "outputs": [],
   "source": [
    "# Prepare data for binary classification\n",
    "\n",
    "data = train_csv[['Island', 'Clutch Completion', 'Culmen Length (mm)', 'Culmen Depth (mm)', 'Flipper Length (mm)', 'Body Mass (g)', 'Sex', 'Delta 15 N (o/oo)', 'Delta 13 C (o/oo)']] # separate features and target variable\n",
    "ova_encoded = pd.get_dummies(data, columns=['Island'])\n",
    "ova_encoded.replace({'Yes': 1, 'No': 0}, inplace=True)\n",
    "ova_encoded.replace({'FEMALE': 1, 'MALE': 0}, inplace=True)\n",
    "ova_encoded.replace({True: 1, False: 0}, inplace=True)\n",
    "\n",
    "X_train_ova, X_test_ova, y_train_ova, y_test_ova = train_test_split(ova_encoded, train_csv['Species'], stratify=train_csv['Species'], test_size=0.2, random_state=42)\n",
    "train_ova = X_train_ova.copy()\n",
    "train_ova.insert(11, \"Species\", y_train_ova, True)\n",
    "\n",
    "# we will use the full data for training once we have a model instance with satisfactory validation performance.\n",
    "full_data = ova_encoded.copy()\n",
    "full_data.insert(11, \"Species\", train_csv['Species'], True)"
   ]
  },
  {
   "cell_type": "code",
   "execution_count": 55,
   "id": "d651c05a",
   "metadata": {},
   "outputs": [
    {
     "data": {
      "text/html": [
       "<div>\n",
       "<style scoped>\n",
       "    .dataframe tbody tr th:only-of-type {\n",
       "        vertical-align: middle;\n",
       "    }\n",
       "\n",
       "    .dataframe tbody tr th {\n",
       "        vertical-align: top;\n",
       "    }\n",
       "\n",
       "    .dataframe thead th {\n",
       "        text-align: right;\n",
       "    }\n",
       "</style>\n",
       "<table border=\"1\" class=\"dataframe\">\n",
       "  <thead>\n",
       "    <tr style=\"text-align: right;\">\n",
       "      <th></th>\n",
       "      <th>Clutch Completion</th>\n",
       "      <th>Culmen Length (mm)</th>\n",
       "      <th>Culmen Depth (mm)</th>\n",
       "      <th>Flipper Length (mm)</th>\n",
       "      <th>Body Mass (g)</th>\n",
       "      <th>Sex</th>\n",
       "      <th>Delta 15 N (o/oo)</th>\n",
       "      <th>Delta 13 C (o/oo)</th>\n",
       "      <th>Island_Biscoe</th>\n",
       "      <th>Island_Dream</th>\n",
       "      <th>Island_Torgersen</th>\n",
       "      <th>Species</th>\n",
       "    </tr>\n",
       "  </thead>\n",
       "  <tbody>\n",
       "    <tr>\n",
       "      <th>0</th>\n",
       "      <td>1</td>\n",
       "      <td>-0.939709</td>\n",
       "      <td>0.00865</td>\n",
       "      <td>-1.479594</td>\n",
       "      <td>-0.477481</td>\n",
       "      <td>0</td>\n",
       "      <td>1.581213</td>\n",
       "      <td>0.457687</td>\n",
       "      <td>1</td>\n",
       "      <td>0</td>\n",
       "      <td>0</td>\n",
       "      <td>Adelie Penguin (Pygoscelis adeliae)</td>\n",
       "    </tr>\n",
       "  </tbody>\n",
       "</table>\n",
       "</div>"
      ],
      "text/plain": [
       "   Clutch Completion  Culmen Length (mm)  Culmen Depth (mm)  \\\n",
       "0                  1           -0.939709            0.00865   \n",
       "\n",
       "   Flipper Length (mm)  Body Mass (g)  Sex  Delta 15 N (o/oo)  \\\n",
       "0            -1.479594      -0.477481    0           1.581213   \n",
       "\n",
       "   Delta 13 C (o/oo)  Island_Biscoe  Island_Dream  Island_Torgersen  \\\n",
       "0           0.457687              1             0                 0   \n",
       "\n",
       "                               Species  \n",
       "0  Adelie Penguin (Pygoscelis adeliae)  "
      ]
     },
     "execution_count": 55,
     "metadata": {},
     "output_type": "execute_result"
    }
   ],
   "source": [
    "full_data.head(1)"
   ]
  },
  {
   "cell_type": "code",
   "execution_count": 56,
   "id": "00144c24",
   "metadata": {},
   "outputs": [
    {
     "data": {
      "text/html": [
       "<div>\n",
       "<style scoped>\n",
       "    .dataframe tbody tr th:only-of-type {\n",
       "        vertical-align: middle;\n",
       "    }\n",
       "\n",
       "    .dataframe tbody tr th {\n",
       "        vertical-align: top;\n",
       "    }\n",
       "\n",
       "    .dataframe thead th {\n",
       "        text-align: right;\n",
       "    }\n",
       "</style>\n",
       "<table border=\"1\" class=\"dataframe\">\n",
       "  <thead>\n",
       "    <tr style=\"text-align: right;\">\n",
       "      <th></th>\n",
       "      <th>Clutch Completion</th>\n",
       "      <th>Culmen Length (mm)</th>\n",
       "      <th>Culmen Depth (mm)</th>\n",
       "      <th>Flipper Length (mm)</th>\n",
       "      <th>Body Mass (g)</th>\n",
       "      <th>Sex</th>\n",
       "      <th>Delta 15 N (o/oo)</th>\n",
       "      <th>Delta 13 C (o/oo)</th>\n",
       "      <th>Island_Biscoe</th>\n",
       "      <th>Island_Dream</th>\n",
       "      <th>Island_Torgersen</th>\n",
       "      <th>Species</th>\n",
       "    </tr>\n",
       "  </thead>\n",
       "  <tbody>\n",
       "    <tr>\n",
       "      <th>170</th>\n",
       "      <td>1</td>\n",
       "      <td>-0.975773</td>\n",
       "      <td>2.054633</td>\n",
       "      <td>-0.694396</td>\n",
       "      <td>-0.477481</td>\n",
       "      <td>0</td>\n",
       "      <td>0.207308</td>\n",
       "      <td>-0.389576</td>\n",
       "      <td>0</td>\n",
       "      <td>0</td>\n",
       "      <td>1</td>\n",
       "      <td>Adelie Penguin (Pygoscelis adeliae)</td>\n",
       "    </tr>\n",
       "  </tbody>\n",
       "</table>\n",
       "</div>"
      ],
      "text/plain": [
       "     Clutch Completion  Culmen Length (mm)  Culmen Depth (mm)  \\\n",
       "170                  1           -0.975773           2.054633   \n",
       "\n",
       "     Flipper Length (mm)  Body Mass (g)  Sex  Delta 15 N (o/oo)  \\\n",
       "170            -0.694396      -0.477481    0           0.207308   \n",
       "\n",
       "     Delta 13 C (o/oo)  Island_Biscoe  Island_Dream  Island_Torgersen  \\\n",
       "170          -0.389576              0             0                 1   \n",
       "\n",
       "                                 Species  \n",
       "170  Adelie Penguin (Pygoscelis adeliae)  "
      ]
     },
     "execution_count": 56,
     "metadata": {},
     "output_type": "execute_result"
    }
   ],
   "source": [
    "train_ova.head(1) # Visualize how the overall dataset looks like\n",
    "# From this dataset, we will create three datasets for each of the three binary classification problems "
   ]
  },
  {
   "cell_type": "code",
   "execution_count": 57,
   "id": "aa1c97a7",
   "metadata": {},
   "outputs": [
    {
     "data": {
      "text/html": [
       "<div>\n",
       "<style scoped>\n",
       "    .dataframe tbody tr th:only-of-type {\n",
       "        vertical-align: middle;\n",
       "    }\n",
       "\n",
       "    .dataframe tbody tr th {\n",
       "        vertical-align: top;\n",
       "    }\n",
       "\n",
       "    .dataframe thead th {\n",
       "        text-align: right;\n",
       "    }\n",
       "</style>\n",
       "<table border=\"1\" class=\"dataframe\">\n",
       "  <thead>\n",
       "    <tr style=\"text-align: right;\">\n",
       "      <th></th>\n",
       "      <th>Clutch Completion</th>\n",
       "      <th>Culmen Length (mm)</th>\n",
       "      <th>Culmen Depth (mm)</th>\n",
       "      <th>Flipper Length (mm)</th>\n",
       "      <th>Body Mass (g)</th>\n",
       "      <th>Sex</th>\n",
       "      <th>Delta 15 N (o/oo)</th>\n",
       "      <th>Delta 13 C (o/oo)</th>\n",
       "      <th>Island_Biscoe</th>\n",
       "      <th>Island_Dream</th>\n",
       "      <th>Island_Torgersen</th>\n",
       "    </tr>\n",
       "  </thead>\n",
       "  <tbody>\n",
       "    <tr>\n",
       "      <th>170</th>\n",
       "      <td>1</td>\n",
       "      <td>-0.975773</td>\n",
       "      <td>2.054633</td>\n",
       "      <td>-0.694396</td>\n",
       "      <td>-0.477481</td>\n",
       "      <td>0</td>\n",
       "      <td>0.207308</td>\n",
       "      <td>-0.389576</td>\n",
       "      <td>0</td>\n",
       "      <td>0</td>\n",
       "      <td>1</td>\n",
       "    </tr>\n",
       "  </tbody>\n",
       "</table>\n",
       "</div>"
      ],
      "text/plain": [
       "     Clutch Completion  Culmen Length (mm)  Culmen Depth (mm)  \\\n",
       "170                  1           -0.975773           2.054633   \n",
       "\n",
       "     Flipper Length (mm)  Body Mass (g)  Sex  Delta 15 N (o/oo)  \\\n",
       "170            -0.694396      -0.477481    0           0.207308   \n",
       "\n",
       "     Delta 13 C (o/oo)  Island_Biscoe  Island_Dream  Island_Torgersen  \n",
       "170          -0.389576              0             0                 1  "
      ]
     },
     "execution_count": 57,
     "metadata": {},
     "output_type": "execute_result"
    }
   ],
   "source": [
    "X_train_ova.head(1)"
   ]
  },
  {
   "cell_type": "code",
   "execution_count": 58,
   "id": "1e78b9f0",
   "metadata": {},
   "outputs": [
    {
     "data": {
      "text/html": [
       "<div>\n",
       "<style scoped>\n",
       "    .dataframe tbody tr th:only-of-type {\n",
       "        vertical-align: middle;\n",
       "    }\n",
       "\n",
       "    .dataframe tbody tr th {\n",
       "        vertical-align: top;\n",
       "    }\n",
       "\n",
       "    .dataframe thead th {\n",
       "        text-align: right;\n",
       "    }\n",
       "</style>\n",
       "<table border=\"1\" class=\"dataframe\">\n",
       "  <thead>\n",
       "    <tr style=\"text-align: right;\">\n",
       "      <th></th>\n",
       "      <th>Clutch Completion</th>\n",
       "      <th>Culmen Length (mm)</th>\n",
       "      <th>Culmen Depth (mm)</th>\n",
       "      <th>Flipper Length (mm)</th>\n",
       "      <th>Body Mass (g)</th>\n",
       "      <th>Sex</th>\n",
       "      <th>Delta 15 N (o/oo)</th>\n",
       "      <th>Delta 13 C (o/oo)</th>\n",
       "      <th>Island_Biscoe</th>\n",
       "      <th>Island_Dream</th>\n",
       "      <th>Island_Torgersen</th>\n",
       "    </tr>\n",
       "  </thead>\n",
       "  <tbody>\n",
       "    <tr>\n",
       "      <th>138</th>\n",
       "      <td>1</td>\n",
       "      <td>-1.210186</td>\n",
       "      <td>-0.195948</td>\n",
       "      <td>-0.623015</td>\n",
       "      <td>-1.47436</td>\n",
       "      <td>1</td>\n",
       "      <td>0.565629</td>\n",
       "      <td>-0.227755</td>\n",
       "      <td>0</td>\n",
       "      <td>1</td>\n",
       "      <td>0</td>\n",
       "    </tr>\n",
       "  </tbody>\n",
       "</table>\n",
       "</div>"
      ],
      "text/plain": [
       "     Clutch Completion  Culmen Length (mm)  Culmen Depth (mm)  \\\n",
       "138                  1           -1.210186          -0.195948   \n",
       "\n",
       "     Flipper Length (mm)  Body Mass (g)  Sex  Delta 15 N (o/oo)  \\\n",
       "138            -0.623015       -1.47436    1           0.565629   \n",
       "\n",
       "     Delta 13 C (o/oo)  Island_Biscoe  Island_Dream  Island_Torgersen  \n",
       "138          -0.227755              0             1                 0  "
      ]
     },
     "execution_count": 58,
     "metadata": {},
     "output_type": "execute_result"
    }
   ],
   "source": [
    "X_test_ova.head(1)"
   ]
  },
  {
   "cell_type": "code",
   "execution_count": 59,
   "id": "eb5346cc",
   "metadata": {},
   "outputs": [
    {
     "data": {
      "text/plain": [
       "170    Adelie Penguin (Pygoscelis adeliae)\n",
       "Name: Species, dtype: object"
      ]
     },
     "execution_count": 59,
     "metadata": {},
     "output_type": "execute_result"
    }
   ],
   "source": [
    "y_train_ova.head(1)"
   ]
  },
  {
   "cell_type": "code",
   "execution_count": 60,
   "id": "91590242",
   "metadata": {},
   "outputs": [
    {
     "data": {
      "text/plain": [
       "138    Adelie Penguin (Pygoscelis adeliae)\n",
       "Name: Species, dtype: object"
      ]
     },
     "execution_count": 60,
     "metadata": {},
     "output_type": "execute_result"
    }
   ],
   "source": [
    "y_test_ova.head(1)"
   ]
  },
  {
   "cell_type": "markdown",
   "id": "718f63ba",
   "metadata": {},
   "source": [
    "- We have three binary class problems.</br>\n",
    "    **Binary Class Problem 1:** `Adelie vs [Chinstrap,Gentoo]` </br>\n",
    "    **Binary Class Problem 2:** `Chinstrap vs [Adelie,Gentoo]` </br>\n",
    "    **Binary Class Problem 3:** `Gentoo vs [Chinstrap,Adelie]` </br>\n",
    "\n",
    "- This approach requires that each model predicts a class membership probability or a probability-like score. The argmax of these scores (class index with the largest score) is then used to predict a class."
   ]
  },
  {
   "cell_type": "markdown",
   "id": "190c0173",
   "metadata": {},
   "source": [
    "- Train Linear SVM with default parameters - *C: 1.0* and *gamma: scale*\n",
    "    - C and gamma parameters control the tradeoff between the model's ability to fit the training data and its generalization performance. There are different ways to tweak the parameters. One way is to use *Grid Search* to exhaustively search over a range of values for C and gamma. <br />\n",
    "\n",
    "    - C: The regularization parameter C controls the trade-off between maximizing the margin between the support vectors and correctly classifying the training examples. A large value of C will result in a narrow margin, potentially leading to overfitting, while a small value of C will result in a wide margin, potentially leading to underfitting. <br />\n",
    "    \n",
    "    - gamma: The gamma parameter controls the kernel width of the SVM, which affects the smoothness of the decision boundary. A smaller value of gamma can lead to underfitting, whereas a large value of gamma can lead to overfitting. <br />\n",
    "    \n",
    "    - For a linear SVM, the gamma parameter is not used, as the linear kernel does not have any gamma parameter to tune."
   ]
  },
  {
   "cell_type": "code",
   "execution_count": 61,
   "id": "b1bf5670",
   "metadata": {},
   "outputs": [
    {
     "name": "stdout",
     "output_type": "stream",
     "text": [
      "svm_classifiers_ova {'Adelie Penguin (Pygoscelis adeliae)': SVC(C=0.006, kernel='linear', random_state=42), 'Gentoo penguin (Pygoscelis papua)': SVC(C=0.006, kernel='linear', random_state=42), 'Chinstrap penguin (Pygoscelis antarctica)': SVC(C=0.006, kernel='linear', random_state=42)}\n"
     ]
    }
   ],
   "source": [
    "''' \n",
    "Step 1: Prepare three datasets for three binary classification problems.\n",
    "Step 2: Train three SVM classifiers on each of the three datasets.\n",
    "''' \n",
    "\n",
    "class_species = train_csv['Species'].unique() # Get unique classes\n",
    "# print(\"class_species:\", classes)\n",
    "\n",
    "svm_classifiers_ova = {} # Initialize a dictionary to store classifiers for each of the three binary class problems\n",
    "\n",
    "# Create one-vs-rest classifiers\n",
    "for class_ in class_species:\n",
    "    # print(\"class:\", class_species)\n",
    "\n",
    "    # Prepare data for binary classification\n",
    "    binary_data = train_ova.copy()\n",
    "    binary_data['Species'] = (binary_data['Species'] == class_).astype(int)  # 1 if adelie, else 0\n",
    "    # print(binary_data)\n",
    "    X_binary = binary_data[['Clutch Completion', 'Culmen Length (mm)', 'Culmen Depth (mm)', 'Flipper Length (mm)', 'Body Mass (g)', 'Sex', 'Delta 15 N (o/oo)', 'Delta 13 C (o/oo)', 'Island_Biscoe', 'Island_Dream', 'Island_Torgersen']] # it will be of the same format as 'X_train_ova'\n",
    "    y_binary = binary_data['Species']\n",
    "    \n",
    "    # Train a SVM classifier\n",
    "    svm_classifier = SVC(kernel='linear', C=0.006, random_state=42)\n",
    "    svm_classifier.fit(X_binary, y_binary)\n",
    "    \n",
    "    # Store the classifier\n",
    "    svm_classifiers_ova[class_] = svm_classifier\n",
    "print(\"svm_classifiers_ova\", svm_classifiers_ova)\n",
    "\n",
    "# Now we have a dictionary 'svm_classifiers_ova' which contains the trained OvR classifiers.\n",
    "# We will use these classifiers for predictions in thr next step."
   ]
  },
  {
   "cell_type": "markdown",
   "id": "9f05b2f9",
   "metadata": {},
   "source": [
    "- Now we have a dictionary 'svm_classifiers_ova' which contains three trained OvA binary classifiers classifiers."
   ]
  },
  {
   "cell_type": "code",
   "execution_count": 62,
   "id": "a844fefa",
   "metadata": {},
   "outputs": [
    {
     "data": {
      "text/html": [
       "<div>\n",
       "<style scoped>\n",
       "    .dataframe tbody tr th:only-of-type {\n",
       "        vertical-align: middle;\n",
       "    }\n",
       "\n",
       "    .dataframe tbody tr th {\n",
       "        vertical-align: top;\n",
       "    }\n",
       "\n",
       "    .dataframe thead th {\n",
       "        text-align: right;\n",
       "    }\n",
       "</style>\n",
       "<table border=\"1\" class=\"dataframe\">\n",
       "  <thead>\n",
       "    <tr style=\"text-align: right;\">\n",
       "      <th></th>\n",
       "      <th>Clutch Completion</th>\n",
       "      <th>Culmen Length (mm)</th>\n",
       "      <th>Culmen Depth (mm)</th>\n",
       "      <th>Flipper Length (mm)</th>\n",
       "      <th>Body Mass (g)</th>\n",
       "      <th>Sex</th>\n",
       "      <th>Delta 15 N (o/oo)</th>\n",
       "      <th>Delta 13 C (o/oo)</th>\n",
       "      <th>Island_Biscoe</th>\n",
       "      <th>Island_Dream</th>\n",
       "      <th>Island_Torgersen</th>\n",
       "    </tr>\n",
       "  </thead>\n",
       "  <tbody>\n",
       "    <tr>\n",
       "      <th>170</th>\n",
       "      <td>1</td>\n",
       "      <td>-0.975773</td>\n",
       "      <td>2.054633</td>\n",
       "      <td>-0.694396</td>\n",
       "      <td>-0.477481</td>\n",
       "      <td>0</td>\n",
       "      <td>0.207308</td>\n",
       "      <td>-0.389576</td>\n",
       "      <td>0</td>\n",
       "      <td>0</td>\n",
       "      <td>1</td>\n",
       "    </tr>\n",
       "  </tbody>\n",
       "</table>\n",
       "</div>"
      ],
      "text/plain": [
       "     Clutch Completion  Culmen Length (mm)  Culmen Depth (mm)  \\\n",
       "170                  1           -0.975773           2.054633   \n",
       "\n",
       "     Flipper Length (mm)  Body Mass (g)  Sex  Delta 15 N (o/oo)  \\\n",
       "170            -0.694396      -0.477481    0           0.207308   \n",
       "\n",
       "     Delta 13 C (o/oo)  Island_Biscoe  Island_Dream  Island_Torgersen  \n",
       "170          -0.389576              0             0                 1  "
      ]
     },
     "execution_count": 62,
     "metadata": {},
     "output_type": "execute_result"
    }
   ],
   "source": [
    "X_binary.head(1)"
   ]
  },
  {
   "cell_type": "code",
   "execution_count": 63,
   "metadata": {},
   "outputs": [
    {
     "name": "stdout",
     "output_type": "stream",
     "text": [
      "Total rows in Test data for which predictions are needed:  55\n",
      "\n",
      "\n",
      "For binary classifier with class - Adelie Penguin (Pygoscelis adeliae), \n",
      "the predicted output for each input tuple is: [1 1 0 1 1 1 1 0 1 0 1 1 0 0 0 0 1 0 1 0 0 0 1 0 0 1 0 0 1 0 0 0 0 1 0 1 0\n",
      " 0 0 1 0 1 1 1 0 0 1 0 1 1 0 0 0 1 0]\n",
      "\n",
      "\n",
      "For binary classifier with class - Gentoo penguin (Pygoscelis papua), \n",
      "the predicted output for each input tuple is: [0 0 1 0 0 0 0 1 0 0 0 0 1 0 0 1 0 1 0 1 1 1 0 0 1 0 1 1 0 1 0 1 0 0 1 0 0\n",
      " 1 0 0 1 0 0 0 1 1 0 0 0 0 0 0 0 0 1]\n",
      "\n",
      "\n",
      "For binary classifier with class - Chinstrap penguin (Pygoscelis antarctica), \n",
      "the predicted output for each input tuple is: [0 0 0 0 0 0 0 0 0 1 0 0 0 1 1 0 0 0 0 0 0 0 0 1 0 0 0 0 0 0 1 0 0 0 0 0 0\n",
      " 0 1 0 0 0 0 0 0 0 0 1 0 0 0 1 1 0 0]\n",
      "\n",
      "\n",
      "The final dictionary comprising the predicitions on input tuples from each of the three binary classifiers look like:\n"
     ]
    },
    {
     "data": {
      "text/plain": [
       "{'Adelie Penguin (Pygoscelis adeliae)': array([1, 1, 0, 1, 1, 1, 1, 0, 1, 0, 1, 1, 0, 0, 0, 0, 1, 0, 1, 0, 0, 0,\n",
       "        1, 0, 0, 1, 0, 0, 1, 0, 0, 0, 0, 1, 0, 1, 0, 0, 0, 1, 0, 1, 1, 1,\n",
       "        0, 0, 1, 0, 1, 1, 0, 0, 0, 1, 0]),\n",
       " 'Gentoo penguin (Pygoscelis papua)': array([0, 0, 1, 0, 0, 0, 0, 1, 0, 0, 0, 0, 1, 0, 0, 1, 0, 1, 0, 1, 1, 1,\n",
       "        0, 0, 1, 0, 1, 1, 0, 1, 0, 1, 0, 0, 1, 0, 0, 1, 0, 0, 1, 0, 0, 0,\n",
       "        1, 1, 0, 0, 0, 0, 0, 0, 0, 0, 1]),\n",
       " 'Chinstrap penguin (Pygoscelis antarctica)': array([0, 0, 0, 0, 0, 0, 0, 0, 0, 1, 0, 0, 0, 1, 1, 0, 0, 0, 0, 0, 0, 0,\n",
       "        0, 1, 0, 0, 0, 0, 0, 0, 1, 0, 0, 0, 0, 0, 0, 0, 1, 0, 0, 0, 0, 0,\n",
       "        0, 0, 0, 1, 0, 0, 0, 1, 1, 0, 0])}"
      ]
     },
     "execution_count": 63,
     "metadata": {},
     "output_type": "execute_result"
    }
   ],
   "source": [
    "''' \n",
    "Step 3: Making predictions on Test set via trained binary classifiers\n",
    "'''\n",
    "\n",
    "per_class_pred_ova = {} # Initialize a dictionary to store prediction class\n",
    "\n",
    "print(\"Total rows in Test data for which predictions are needed: \", len(y_test_ova))\n",
    "for class_, svm_classifier in svm_classifiers_ova.items():\n",
    "    # test_df = X_test_ova.copy()\n",
    "    # X_test = test_df[['Clutch Completion', 'Culmen Length (mm)', 'Culmen Depth (mm)', 'Flipper Length (mm)', 'Body Mass (g)', 'Sex', 'Delta 15 N (o/oo)', 'Delta 13 C (o/oo)', 'Island_Biscoe', 'Island_Dream', 'Island_Torgersen']]\n",
    "    # Predict using the trained SVM classifier\n",
    "    y_pred = svm_classifier.predict(X_test_ova)\n",
    "    print(\"\\n\")\n",
    "    print(f\"For binary classifier with class - {class_}, \\nthe predicted output for each input tuple is: {y_pred}\")\n",
    "    per_class_pred_ova[class_] = y_pred\n",
    "\n",
    "print(\"\\n\")\n",
    "print(\"The final dictionary comprising the predicitions on input tuples from each of the three binary classifiers look like:\")\n",
    "per_class_pred_ova"
   ]
  },
  {
   "cell_type": "code",
   "execution_count": 64,
   "id": "d465b3e8",
   "metadata": {},
   "outputs": [],
   "source": [
    "''' \n",
    "Step 4: Combine the predictions to get multi-class predictions \n",
    "'''\n",
    "y_pred_multiclass_ova = pd.DataFrame(per_class_pred_ova).idxmax(axis=1)"
   ]
  },
  {
   "cell_type": "code",
   "execution_count": 65,
   "id": "58672a4d",
   "metadata": {},
   "outputs": [
    {
     "data": {
      "text/plain": [
       "0          Adelie Penguin (Pygoscelis adeliae)\n",
       "1          Adelie Penguin (Pygoscelis adeliae)\n",
       "2            Gentoo penguin (Pygoscelis papua)\n",
       "3          Adelie Penguin (Pygoscelis adeliae)\n",
       "4          Adelie Penguin (Pygoscelis adeliae)\n",
       "5          Adelie Penguin (Pygoscelis adeliae)\n",
       "6          Adelie Penguin (Pygoscelis adeliae)\n",
       "7            Gentoo penguin (Pygoscelis papua)\n",
       "8          Adelie Penguin (Pygoscelis adeliae)\n",
       "9    Chinstrap penguin (Pygoscelis antarctica)\n",
       "dtype: object"
      ]
     },
     "execution_count": 65,
     "metadata": {},
     "output_type": "execute_result"
    }
   ],
   "source": [
    "y_pred_multiclass_ova.head(10) "
   ]
  },
  {
   "cell_type": "code",
   "execution_count": 66,
   "id": "95fa3ee7",
   "metadata": {},
   "outputs": [
    {
     "name": "stdout",
     "output_type": "stream",
     "text": [
      "Accuracy of OvA: 0.9454545454545454\n",
      "Performance Report: \n",
      "                                            precision    recall  f1-score   support\n",
      "\n",
      "      Adelie Penguin (Pygoscelis adeliae)       0.89      1.00      0.94        24\n",
      "Chinstrap penguin (Pygoscelis antarctica)       1.00      0.75      0.86        12\n",
      "        Gentoo penguin (Pygoscelis papua)       1.00      1.00      1.00        19\n",
      "\n",
      "                                 accuracy                           0.95        55\n",
      "                                macro avg       0.96      0.92      0.93        55\n",
      "                             weighted avg       0.95      0.95      0.94        55\n",
      "\n",
      "Confusion Matrix: \n",
      " [[24  0  0]\n",
      " [ 3  9  0]\n",
      " [ 0  0 19]]\n"
     ]
    }
   ],
   "source": [
    "''' \n",
    "Step 5: Evaluate the accuracy of predictions \n",
    "'''\n",
    "accuracy_ova = accuracy_score(y_test_ova, y_pred_multiclass_ova)\n",
    "print(f\"Accuracy of OvA: {accuracy_ova}\")\n",
    "print(\"Performance Report: \\n\", classification_report(y_test_ova, y_pred_multiclass_ova))\n",
    "print(\"Confusion Matrix: \\n\", confusion_matrix(y_test_ova, y_pred_multiclass_ova))"
   ]
  },
  {
   "cell_type": "markdown",
   "id": "99ae46cb",
   "metadata": {},
   "source": [
    "- We observe that with the default value of C, the accuracy was 100%, which could be a severe case of overfitting.\n",
    "- To generalize the model further, we changed the C to a lower value of C=0.006, that resulted in an accuracy value of 94.5%.\n",
    "- Also, from the confusion matrix, we can see, for each class, how many instances are correctly predicted and how many instances of a particular class is predicted as some other class."
   ]
  },
  {
   "cell_type": "markdown",
   "id": "f8b59a73",
   "metadata": {},
   "source": [
    "- Now, let's train the same SVM classifier on the whole data without splitting so that we can use it for the predictions on entirely new data from `penguins_test.csv`"
   ]
  },
  {
   "cell_type": "code",
   "execution_count": 67,
   "id": "c2c6a88a",
   "metadata": {},
   "outputs": [],
   "source": [
    "''' \n",
    "Finally, training our SVM on the whole data and save the model weights\n",
    "to be called later when required predictions on `penguins_test.csv`\n",
    "''' \n",
    "\n",
    "class_species = train_csv['Species'].unique() # Get unique classes\n",
    "# print(\"class_species:\", classes)\n",
    "\n",
    "# svm_classifiers_ova = {} # Initialize a dictionary to store classifiers for each of the three binary class problems\n",
    "\n",
    "# Create one-vs-rest classifiers\n",
    "for class_ in class_species:\n",
    "    # print(\"class:\", class_species)\n",
    "\n",
    "    # Prepare data for binary classification\n",
    "    binary_data = full_data.copy()\n",
    "    binary_data['Species'] = (binary_data['Species'] == class_).astype(int)  # 1 if adelie, else 0\n",
    "    # print(binary_data)\n",
    "    X_binary = binary_data[['Clutch Completion', 'Culmen Length (mm)', 'Culmen Depth (mm)', 'Flipper Length (mm)', 'Body Mass (g)', 'Sex', 'Delta 15 N (o/oo)', 'Delta 13 C (o/oo)', 'Island_Biscoe', 'Island_Dream', 'Island_Torgersen']] # it will be of the same format as 'X_train_ova'\n",
    "    y_binary = binary_data['Species']\n",
    "    \n",
    "    # Train a SVM classifier\n",
    "    svm_classifier = SVC(kernel='linear', C=0.006, random_state=42)\n",
    "    svm_classifier.fit(X_binary, y_binary)\n",
    "    \n",
    "    # Store the classifier\n",
    "    # svm_classifiers_ova[class_] = svm_classifier\n",
    "    # print(class_)\n",
    "    \n",
    "    # save the model to disk\n",
    "    if (class_ == 'Adelie Penguin (Pygoscelis adeliae)'):\n",
    "        filename = 'ova_svm_final_adelie.sav'\n",
    "        pickle.dump(svm_classifier, open(filename, 'wb'))\n",
    "    elif (class_ == 'Gentoo penguin (Pygoscelis papua)'):\n",
    "        filename = 'ova_svm_final_gentoo.sav'\n",
    "        pickle.dump(svm_classifier, open(filename, 'wb'))\n",
    "    elif (class_ == 'Chinstrap penguin (Pygoscelis antarctica)'):\n",
    "        filename = 'ova_svm_final_chinstrap.sav'\n",
    "        pickle.dump(svm_classifier, open(filename, 'wb'))\n",
    "    \n",
    "# print(\"svm_classifiers_ova\", svm_classifiers_ova)"
   ]
  },
  {
   "cell_type": "markdown",
   "id": "f6e105f0",
   "metadata": {},
   "source": [
    "----"
   ]
  },
  {
   "cell_type": "markdown",
   "id": "e0674ab2",
   "metadata": {},
   "source": [
    "### **4. SVM: One vs One**"
   ]
  },
  {
   "cell_type": "markdown",
   "id": "b781a622",
   "metadata": {},
   "source": [
    "- Dataset preparation for One vs One\n",
    "    - We will have three datasets, where for each we will have a binary data between two of the the three classes.\n",
    "    - For first dataset, we will keep only the rows with 'Adelie' and 'Chinstrap', where 'Adelie'=1 and 'Chinstrap'=0\n",
    "    - For second dataset, we will keep only the rows with 'Adelie' and 'Gentoo', where 'Adelie'=1 and 'Gentoo'=0\n",
    "    - For third dataset, we will keep only the rows with 'Chinstrap' and 'Gentoo', where 'Chinstrap'=1 and 'Gentoo'=0"
   ]
  },
  {
   "cell_type": "code",
   "execution_count": 68,
   "id": "e28f0cd1",
   "metadata": {},
   "outputs": [],
   "source": [
    "# Prepare data for binary classification\n",
    "\n",
    "data = train_csv[['Island', 'Clutch Completion', 'Culmen Length (mm)', 'Culmen Depth (mm)', 'Flipper Length (mm)', 'Body Mass (g)', 'Sex', 'Delta 15 N (o/oo)', 'Delta 13 C (o/oo)']] # separate features and target variable\n",
    "ovo_encoded = pd.get_dummies(data, columns=['Island'])\n",
    "ovo_encoded.replace({'Yes': 1, 'No': 0}, inplace=True)\n",
    "ovo_encoded.replace({'FEMALE': 1, 'MALE': 0}, inplace=True)\n",
    "ovo_encoded.replace({True: 1, False: 0}, inplace=True)\n",
    "\n",
    "# Split into train and test set\n",
    "X_train_ovo, X_test_ovo, y_train_ovo, y_test_ovo = train_test_split(ovo_encoded, train_csv['Species'], stratify=train_csv['Species'], test_size=0.2, random_state=42)\n",
    "\n",
    "train_ovo = X_train_ovo.copy()\n",
    "train_ovo.insert(11, \"Species\", y_train_ovo, True)"
   ]
  },
  {
   "cell_type": "code",
   "execution_count": 69,
   "id": "5c0b483f",
   "metadata": {},
   "outputs": [
    {
     "data": {
      "text/html": [
       "<div>\n",
       "<style scoped>\n",
       "    .dataframe tbody tr th:only-of-type {\n",
       "        vertical-align: middle;\n",
       "    }\n",
       "\n",
       "    .dataframe tbody tr th {\n",
       "        vertical-align: top;\n",
       "    }\n",
       "\n",
       "    .dataframe thead th {\n",
       "        text-align: right;\n",
       "    }\n",
       "</style>\n",
       "<table border=\"1\" class=\"dataframe\">\n",
       "  <thead>\n",
       "    <tr style=\"text-align: right;\">\n",
       "      <th></th>\n",
       "      <th>Clutch Completion</th>\n",
       "      <th>Culmen Length (mm)</th>\n",
       "      <th>Culmen Depth (mm)</th>\n",
       "      <th>Flipper Length (mm)</th>\n",
       "      <th>Body Mass (g)</th>\n",
       "      <th>Sex</th>\n",
       "      <th>Delta 15 N (o/oo)</th>\n",
       "      <th>Delta 13 C (o/oo)</th>\n",
       "      <th>Island_Biscoe</th>\n",
       "      <th>Island_Dream</th>\n",
       "      <th>Island_Torgersen</th>\n",
       "      <th>Species</th>\n",
       "    </tr>\n",
       "  </thead>\n",
       "  <tbody>\n",
       "    <tr>\n",
       "      <th>170</th>\n",
       "      <td>1</td>\n",
       "      <td>-0.975773</td>\n",
       "      <td>2.054633</td>\n",
       "      <td>-0.694396</td>\n",
       "      <td>-0.477481</td>\n",
       "      <td>0</td>\n",
       "      <td>0.207308</td>\n",
       "      <td>-0.389576</td>\n",
       "      <td>0</td>\n",
       "      <td>0</td>\n",
       "      <td>1</td>\n",
       "      <td>Adelie Penguin (Pygoscelis adeliae)</td>\n",
       "    </tr>\n",
       "  </tbody>\n",
       "</table>\n",
       "</div>"
      ],
      "text/plain": [
       "     Clutch Completion  Culmen Length (mm)  Culmen Depth (mm)  \\\n",
       "170                  1           -0.975773           2.054633   \n",
       "\n",
       "     Flipper Length (mm)  Body Mass (g)  Sex  Delta 15 N (o/oo)  \\\n",
       "170            -0.694396      -0.477481    0           0.207308   \n",
       "\n",
       "     Delta 13 C (o/oo)  Island_Biscoe  Island_Dream  Island_Torgersen  \\\n",
       "170          -0.389576              0             0                 1   \n",
       "\n",
       "                                 Species  \n",
       "170  Adelie Penguin (Pygoscelis adeliae)  "
      ]
     },
     "execution_count": 69,
     "metadata": {},
     "output_type": "execute_result"
    }
   ],
   "source": [
    "train_ovo.head(1)"
   ]
  },
  {
   "cell_type": "code",
   "execution_count": 70,
   "id": "832dd7cf",
   "metadata": {},
   "outputs": [
    {
     "data": {
      "text/html": [
       "<div>\n",
       "<style scoped>\n",
       "    .dataframe tbody tr th:only-of-type {\n",
       "        vertical-align: middle;\n",
       "    }\n",
       "\n",
       "    .dataframe tbody tr th {\n",
       "        vertical-align: top;\n",
       "    }\n",
       "\n",
       "    .dataframe thead th {\n",
       "        text-align: right;\n",
       "    }\n",
       "</style>\n",
       "<table border=\"1\" class=\"dataframe\">\n",
       "  <thead>\n",
       "    <tr style=\"text-align: right;\">\n",
       "      <th></th>\n",
       "      <th>Clutch Completion</th>\n",
       "      <th>Culmen Length (mm)</th>\n",
       "      <th>Culmen Depth (mm)</th>\n",
       "      <th>Flipper Length (mm)</th>\n",
       "      <th>Body Mass (g)</th>\n",
       "      <th>Sex</th>\n",
       "      <th>Delta 15 N (o/oo)</th>\n",
       "      <th>Delta 13 C (o/oo)</th>\n",
       "      <th>Island_Biscoe</th>\n",
       "      <th>Island_Dream</th>\n",
       "      <th>Island_Torgersen</th>\n",
       "    </tr>\n",
       "  </thead>\n",
       "  <tbody>\n",
       "    <tr>\n",
       "      <th>170</th>\n",
       "      <td>1</td>\n",
       "      <td>-0.975773</td>\n",
       "      <td>2.054633</td>\n",
       "      <td>-0.694396</td>\n",
       "      <td>-0.477481</td>\n",
       "      <td>0</td>\n",
       "      <td>0.207308</td>\n",
       "      <td>-0.389576</td>\n",
       "      <td>0</td>\n",
       "      <td>0</td>\n",
       "      <td>1</td>\n",
       "    </tr>\n",
       "  </tbody>\n",
       "</table>\n",
       "</div>"
      ],
      "text/plain": [
       "     Clutch Completion  Culmen Length (mm)  Culmen Depth (mm)  \\\n",
       "170                  1           -0.975773           2.054633   \n",
       "\n",
       "     Flipper Length (mm)  Body Mass (g)  Sex  Delta 15 N (o/oo)  \\\n",
       "170            -0.694396      -0.477481    0           0.207308   \n",
       "\n",
       "     Delta 13 C (o/oo)  Island_Biscoe  Island_Dream  Island_Torgersen  \n",
       "170          -0.389576              0             0                 1  "
      ]
     },
     "execution_count": 70,
     "metadata": {},
     "output_type": "execute_result"
    }
   ],
   "source": [
    "X_train_ovo.head(1)"
   ]
  },
  {
   "cell_type": "code",
   "execution_count": 71,
   "id": "b03a4d9c",
   "metadata": {},
   "outputs": [
    {
     "data": {
      "text/plain": [
       "170    Adelie Penguin (Pygoscelis adeliae)\n",
       "Name: Species, dtype: object"
      ]
     },
     "execution_count": 71,
     "metadata": {},
     "output_type": "execute_result"
    }
   ],
   "source": [
    "y_train_ovo.head(1)"
   ]
  },
  {
   "cell_type": "code",
   "execution_count": 72,
   "id": "df8f820f",
   "metadata": {},
   "outputs": [
    {
     "data": {
      "text/html": [
       "<div>\n",
       "<style scoped>\n",
       "    .dataframe tbody tr th:only-of-type {\n",
       "        vertical-align: middle;\n",
       "    }\n",
       "\n",
       "    .dataframe tbody tr th {\n",
       "        vertical-align: top;\n",
       "    }\n",
       "\n",
       "    .dataframe thead th {\n",
       "        text-align: right;\n",
       "    }\n",
       "</style>\n",
       "<table border=\"1\" class=\"dataframe\">\n",
       "  <thead>\n",
       "    <tr style=\"text-align: right;\">\n",
       "      <th></th>\n",
       "      <th>Clutch Completion</th>\n",
       "      <th>Culmen Length (mm)</th>\n",
       "      <th>Culmen Depth (mm)</th>\n",
       "      <th>Flipper Length (mm)</th>\n",
       "      <th>Body Mass (g)</th>\n",
       "      <th>Sex</th>\n",
       "      <th>Delta 15 N (o/oo)</th>\n",
       "      <th>Delta 13 C (o/oo)</th>\n",
       "      <th>Island_Biscoe</th>\n",
       "      <th>Island_Dream</th>\n",
       "      <th>Island_Torgersen</th>\n",
       "    </tr>\n",
       "  </thead>\n",
       "  <tbody>\n",
       "    <tr>\n",
       "      <th>138</th>\n",
       "      <td>1</td>\n",
       "      <td>-1.210186</td>\n",
       "      <td>-0.195948</td>\n",
       "      <td>-0.623015</td>\n",
       "      <td>-1.47436</td>\n",
       "      <td>1</td>\n",
       "      <td>0.565629</td>\n",
       "      <td>-0.227755</td>\n",
       "      <td>0</td>\n",
       "      <td>1</td>\n",
       "      <td>0</td>\n",
       "    </tr>\n",
       "  </tbody>\n",
       "</table>\n",
       "</div>"
      ],
      "text/plain": [
       "     Clutch Completion  Culmen Length (mm)  Culmen Depth (mm)  \\\n",
       "138                  1           -1.210186          -0.195948   \n",
       "\n",
       "     Flipper Length (mm)  Body Mass (g)  Sex  Delta 15 N (o/oo)  \\\n",
       "138            -0.623015       -1.47436    1           0.565629   \n",
       "\n",
       "     Delta 13 C (o/oo)  Island_Biscoe  Island_Dream  Island_Torgersen  \n",
       "138          -0.227755              0             1                 0  "
      ]
     },
     "execution_count": 72,
     "metadata": {},
     "output_type": "execute_result"
    }
   ],
   "source": [
    "X_test_ovo.head(1)"
   ]
  },
  {
   "cell_type": "code",
   "execution_count": 73,
   "id": "3a5b3b1d",
   "metadata": {},
   "outputs": [
    {
     "data": {
      "text/plain": [
       "138    Adelie Penguin (Pygoscelis adeliae)\n",
       "Name: Species, dtype: object"
      ]
     },
     "execution_count": 73,
     "metadata": {},
     "output_type": "execute_result"
    }
   ],
   "source": [
    "y_test_ovo.head(1)"
   ]
  },
  {
   "cell_type": "markdown",
   "id": "4ba7c5d7",
   "metadata": {},
   "source": [
    "- We have three binary class problems.</br>\n",
    "    **Binary Class Problem 1:** `Adelie vs Chinstrap` </br>\n",
    "    **Binary Class Problem 2:** `Adelie vs Gentoo` </br>\n",
    "    **Binary Class Problem 3:** `Chinstrap vs Gentoo` </br>\n",
    "\n",
    "- Each binary classification model may predict one class label and the model with the most predictions or votes is predicted by the one-vs-one strategy. </br>"
   ]
  },
  {
   "cell_type": "code",
   "execution_count": 74,
   "metadata": {},
   "outputs": [
    {
     "name": "stdout",
     "output_type": "stream",
     "text": [
      "svm_classifiers_ovo:\n",
      " {('Adelie Penguin (Pygoscelis adeliae)', 'Gentoo penguin (Pygoscelis papua)'): SVC(C=0.005, kernel='linear', random_state=42), ('Adelie Penguin (Pygoscelis adeliae)', 'Chinstrap penguin (Pygoscelis antarctica)'): SVC(C=0.005, kernel='linear', random_state=42), ('Gentoo penguin (Pygoscelis papua)', 'Chinstrap penguin (Pygoscelis antarctica)'): SVC(C=0.005, kernel='linear', random_state=42)}\n"
     ]
    }
   ],
   "source": [
    "''' \n",
    "Step 1: Prepare three datasets for one-vs-one classifiers.\n",
    "Step 2: Train One-vs-One classifiers using SVM.\n",
    "''' \n",
    "\n",
    "class_species = train_csv['Species'].unique() # Get unique classes\n",
    "# print(\"class_species:\", classes)\n",
    "\n",
    "svm_classifiers_ovo = {} # Initialize a dictionary to store classifiers for each of the three binary class problems\n",
    "\n",
    "# Create one-vs-one classifiers\n",
    "for class_1, class_2 in combinations(class_species, 2):\n",
    "    \n",
    "    # Prepare data for binary classification\n",
    "    # print(f\"For classes: {class_1} and {class_2}\")\n",
    "    binary_data = train_ovo.copy()\n",
    "    binary_data = binary_data[(binary_data['Species'] == class_1) | (binary_data['Species'] == class_2)]\n",
    "    # print(\"binary_data:\\n\",binary_data)\n",
    "    \n",
    "    X_binary = binary_data[['Clutch Completion', 'Culmen Length (mm)', 'Culmen Depth (mm)', 'Flipper Length (mm)', 'Body Mass (g)', 'Sex', 'Delta 15 N (o/oo)', 'Delta 13 C (o/oo)', 'Island_Biscoe', 'Island_Dream', 'Island_Torgersen']] # it will be of the same format as 'X_train_ovo'\n",
    "    y_binary = (binary_data['Species'] == class_1).astype(int)  # 1 if class_1, else 0\n",
    "    # print(\"X_binary:\\n\",X_binary)\n",
    "    # print(\"y_binary:\\n\",y_binary)\n",
    "    \n",
    "    # Train a SVM classifier\n",
    "    svm_classifier = SVC(kernel='linear', C=0.005, random_state=42) # values tried = 0.1, 0.01, 0.001, 0.008, 0.006, 0.005\n",
    "    svm_classifier.fit(X_binary, y_binary)\n",
    "    \n",
    "    # Store the classifier\n",
    "    svm_classifiers_ovo[(class_1, class_2)] = svm_classifier\n",
    "print(\"svm_classifiers_ovo:\\n\", svm_classifiers_ovo)"
   ]
  },
  {
   "cell_type": "code",
   "execution_count": 75,
   "id": "e498e947",
   "metadata": {},
   "outputs": [
    {
     "name": "stdout",
     "output_type": "stream",
     "text": [
      "Total rows in Test data for which predictions are needed:  55\n",
      "predictions for all Test rows:  ['Adelie Penguin (Pygoscelis adeliae)', 'Adelie Penguin (Pygoscelis adeliae)', 'Gentoo penguin (Pygoscelis papua)', 'Adelie Penguin (Pygoscelis adeliae)', 'Adelie Penguin (Pygoscelis adeliae)', 'Adelie Penguin (Pygoscelis adeliae)', 'Adelie Penguin (Pygoscelis adeliae)', 'Gentoo penguin (Pygoscelis papua)', 'Adelie Penguin (Pygoscelis adeliae)', 'Chinstrap penguin (Pygoscelis antarctica)', 'Adelie Penguin (Pygoscelis adeliae)', 'Adelie Penguin (Pygoscelis adeliae)', 'Gentoo penguin (Pygoscelis papua)', 'Chinstrap penguin (Pygoscelis antarctica)', 'Chinstrap penguin (Pygoscelis antarctica)', 'Gentoo penguin (Pygoscelis papua)', 'Adelie Penguin (Pygoscelis adeliae)', 'Gentoo penguin (Pygoscelis papua)', 'Adelie Penguin (Pygoscelis adeliae)', 'Gentoo penguin (Pygoscelis papua)', 'Gentoo penguin (Pygoscelis papua)', 'Gentoo penguin (Pygoscelis papua)', 'Adelie Penguin (Pygoscelis adeliae)', 'Chinstrap penguin (Pygoscelis antarctica)', 'Gentoo penguin (Pygoscelis papua)', 'Adelie Penguin (Pygoscelis adeliae)', 'Gentoo penguin (Pygoscelis papua)', 'Gentoo penguin (Pygoscelis papua)', 'Adelie Penguin (Pygoscelis adeliae)', 'Gentoo penguin (Pygoscelis papua)', 'Chinstrap penguin (Pygoscelis antarctica)', 'Gentoo penguin (Pygoscelis papua)', 'Adelie Penguin (Pygoscelis adeliae)', 'Adelie Penguin (Pygoscelis adeliae)', 'Gentoo penguin (Pygoscelis papua)', 'Adelie Penguin (Pygoscelis adeliae)', 'Chinstrap penguin (Pygoscelis antarctica)', 'Gentoo penguin (Pygoscelis papua)', 'Chinstrap penguin (Pygoscelis antarctica)', 'Adelie Penguin (Pygoscelis adeliae)', 'Gentoo penguin (Pygoscelis papua)', 'Adelie Penguin (Pygoscelis adeliae)', 'Adelie Penguin (Pygoscelis adeliae)', 'Adelie Penguin (Pygoscelis adeliae)', 'Gentoo penguin (Pygoscelis papua)', 'Gentoo penguin (Pygoscelis papua)', 'Adelie Penguin (Pygoscelis adeliae)', 'Chinstrap penguin (Pygoscelis antarctica)', 'Adelie Penguin (Pygoscelis adeliae)', 'Adelie Penguin (Pygoscelis adeliae)', 'Adelie Penguin (Pygoscelis adeliae)', 'Chinstrap penguin (Pygoscelis antarctica)', 'Chinstrap penguin (Pygoscelis antarctica)', 'Adelie Penguin (Pygoscelis adeliae)', 'Gentoo penguin (Pygoscelis papua)']\n"
     ]
    }
   ],
   "source": [
    "'''\n",
    "Step 3: Test the One-vs-One classifier on the Test set\n",
    "'''\n",
    "\n",
    "# Initialize an empty list to store predictions\n",
    "predictions_ovo = []\n",
    "\n",
    "print(\"Total rows in Test data for which predictions are needed: \", len(y_test_ovo))\n",
    "\n",
    "# Iterate through each data point in the test set\n",
    "for index, row in X_test_ovo.iterrows():\n",
    "    # print(\"row:\\n\", row)\n",
    "    class_votes = {} # Initialize a dictionary to store class votes\n",
    "    \n",
    "    # Use each OvO classifier to vote for a class\n",
    "    for (class_1, class_2), svm_classifier in svm_classifiers_ovo.items():\n",
    "        y_pred = svm_classifier.predict([row])[0]\n",
    "        # print(f\"For classes {class_1} & {class_2}\")\n",
    "        # print(\"y_pred: \", y_pred)\n",
    "        if y_pred == 1:\n",
    "            class_votes[class_1] = class_votes.get(class_1, 0) + 1\n",
    "        else:\n",
    "            class_votes[class_2] = class_votes.get(class_2, 0) + 1\n",
    "        # print(\"class_votes: \", class_votes)\n",
    "    \n",
    "    # Determine the predicted class with the most votes\n",
    "    predicted_class = max(class_votes, key=class_votes.get)\n",
    "    # print(\"predicted_class of the row: \", predicted_class)\n",
    "\n",
    "    predictions_ovo.append(predicted_class)\n",
    "print(\"predictions for all Test rows: \", predictions_ovo)"
   ]
  },
  {
   "cell_type": "code",
   "execution_count": 76,
   "id": "5c1986d1",
   "metadata": {},
   "outputs": [
    {
     "name": "stdout",
     "output_type": "stream",
     "text": [
      "Accuracy of OvO: 0.9636363636363636\n",
      "Performance Report: \n",
      "                                            precision    recall  f1-score   support\n",
      "\n",
      "      Adelie Penguin (Pygoscelis adeliae)       0.92      1.00      0.96        24\n",
      "Chinstrap penguin (Pygoscelis antarctica)       1.00      0.83      0.91        12\n",
      "        Gentoo penguin (Pygoscelis papua)       1.00      1.00      1.00        19\n",
      "\n",
      "                                 accuracy                           0.96        55\n",
      "                                macro avg       0.97      0.94      0.96        55\n",
      "                             weighted avg       0.97      0.96      0.96        55\n",
      "\n",
      "Confusion Matrix: \n",
      " [[24  0  0]\n",
      " [ 2 10  0]\n",
      " [ 0  0 19]]\n"
     ]
    }
   ],
   "source": [
    "'''\n",
    "Step 4: Evaluate accuracy of predictions\n",
    "'''\n",
    "accuracy_ovo = accuracy_score(y_test_ovo, predictions_ovo)\n",
    "print(f\"Accuracy of OvO: {accuracy_ovo}\")\n",
    "print(\"Performance Report: \\n\", classification_report(y_test_ovo, predictions_ovo))\n",
    "print(\"Confusion Matrix: \\n\", confusion_matrix(y_test_ovo, predictions_ovo))"
   ]
  },
  {
   "cell_type": "markdown",
   "id": "11ea0ec7",
   "metadata": {},
   "source": [
    "- We observe that with the default value of C, the accuracy was 100%, which could be a severe case of overfitting.\n",
    "- To generalize the model further, we changed the C to a lower value of C=0.005, that resulted in an accuracy value of 96.3%.\n",
    "- Also, from the confusion matrix, we can see, for each class, how many instances are correctly predicted and how many instances of a particular class is predicted as some other class."
   ]
  },
  {
   "cell_type": "markdown",
   "id": "9f914e4a",
   "metadata": {},
   "source": [
    "- Now, let's train the same SVM classifier on the whole data without splitting so that we can use it for the predictions on entirely new data from `penguins_test.csv`"
   ]
  },
  {
   "cell_type": "code",
   "execution_count": 77,
   "id": "12c3a613",
   "metadata": {},
   "outputs": [
    {
     "name": "stdout",
     "output_type": "stream",
     "text": [
      "Adelie Penguin (Pygoscelis adeliae) Gentoo penguin (Pygoscelis papua)\n",
      "Adelie Penguin (Pygoscelis adeliae) Chinstrap penguin (Pygoscelis antarctica)\n",
      "Gentoo penguin (Pygoscelis papua) Chinstrap penguin (Pygoscelis antarctica)\n"
     ]
    }
   ],
   "source": [
    "''' \n",
    "Finally, training our SVM on the whole data and save the model weights\n",
    "to be called later when required predictions on `penguins_test.csv`\n",
    "''' \n",
    "\n",
    "class_species = train_csv['Species'].unique() # Get unique classes\n",
    "# print(\"class_species:\", classes)\n",
    "\n",
    "# svm_classifiers_ovo = {} # Initialize a dictionary to store classifiers for each of the three binary class problems\n",
    "\n",
    "# Create one-vs-one classifiers\n",
    "for class_1, class_2 in combinations(class_species, 2):\n",
    "    \n",
    "    # Prepare data for binary classification\n",
    "    # print(f\"For classes: {class_1} and {class_2}\")\n",
    "    binary_data = full_data.copy()\n",
    "    binary_data = binary_data[(binary_data['Species'] == class_1) | (binary_data['Species'] == class_2)]\n",
    "    # print(\"binary_data:\\n\",binary_data)\n",
    "    \n",
    "    X_binary = binary_data[['Clutch Completion', 'Culmen Length (mm)', 'Culmen Depth (mm)', 'Flipper Length (mm)', 'Body Mass (g)', 'Sex', 'Delta 15 N (o/oo)', 'Delta 13 C (o/oo)', 'Island_Biscoe', 'Island_Dream', 'Island_Torgersen']] # it will be of the same format as 'X_train_ovo'\n",
    "    y_binary = (binary_data['Species'] == class_1).astype(int)  # 1 if class_1, else 0\n",
    "    # print(\"X_binary:\\n\",X_binary)\n",
    "    # print(\"y_binary:\\n\",y_binary)\n",
    "    \n",
    "    # Train a SVM classifier\n",
    "    svm_classifier = SVC(kernel='linear', C=0.005, random_state=42) # values tried = 0.1, 0.01, 0.001, 0.008, 0.006, 0.005\n",
    "    svm_classifier.fit(X_binary, y_binary)\n",
    "\n",
    "    print(class_1, class_2)\n",
    "\n",
    "    # save the model to disk\n",
    "    if (class_1 == 'Adelie Penguin (Pygoscelis adeliae)' and class_2 == 'Gentoo penguin (Pygoscelis papua)'):\n",
    "        filename = 'ovo_svm_final_adelie_gentoo.sav'\n",
    "        pickle.dump(svm_classifier, open(filename, 'wb'))\n",
    "    elif (class_1 == 'Adelie Penguin (Pygoscelis adeliae)' and class_2 == 'Chinstrap penguin (Pygoscelis antarctica)'):\n",
    "        filename = 'ovo_svm_final_adelie_chinstrap.sav'\n",
    "        pickle.dump(svm_classifier, open(filename, 'wb'))\n",
    "    elif (class_1 == 'Gentoo penguin (Pygoscelis papua)' and class_2 == 'Chinstrap penguin (Pygoscelis antarctica)'):\n",
    "        filename = 'ovo_svm_final_gentoo_chinstrap.sav'\n",
    "        pickle.dump(svm_classifier, open(filename, 'wb'))\n",
    "    \n",
    "    # Store the classifier in a dictionary\n",
    "    # svm_classifiers_ovo[(class_1, class_2)] = svm_classifier\n",
    "# print(\"svm_classifiers_ovo:\\n\", svm_classifiers_ovo)"
   ]
  },
  {
   "cell_type": "markdown",
   "id": "b5922c81",
   "metadata": {},
   "source": [
    "----"
   ]
  },
  {
   "cell_type": "markdown",
   "id": "d455b94e",
   "metadata": {},
   "source": [
    "----"
   ]
  }
 ],
 "metadata": {
  "kernelspec": {
   "display_name": "Python 3 (ipykernel)",
   "language": "python",
   "name": "python3"
  },
  "language_info": {
   "codemirror_mode": {
    "name": "ipython",
    "version": 3
   },
   "file_extension": ".py",
   "mimetype": "text/x-python",
   "name": "python",
   "nbconvert_exporter": "python",
   "pygments_lexer": "ipython3",
   "version": "3.8.16"
  }
 },
 "nbformat": 4,
 "nbformat_minor": 5
}
