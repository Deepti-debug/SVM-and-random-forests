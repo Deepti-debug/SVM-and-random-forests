{
 "cells": [
  {
   "cell_type": "code",
   "execution_count": 1,
   "metadata": {},
   "outputs": [],
   "source": [
    "#Imports\n",
    "import pandas as pd\n",
    "import numpy as np \n",
    "from sklearn.tree import DecisionTreeClassifier"
   ]
  },
  {
   "cell_type": "code",
   "execution_count": 2,
   "metadata": {},
   "outputs": [
    {
     "name": "stdout",
     "output_type": "stream",
     "text": [
      "<bound method DataFrame.info of         Island Clutch_Completion  Culmen Length (mm)  Culmen Depth (mm)  \\\n",
      "0       Biscoe               Yes                38.8               17.2   \n",
      "1    Torgersen               Yes                41.1               18.6   \n",
      "2       Biscoe               Yes                39.0               17.5   \n",
      "3        Dream                No                39.7               17.9   \n",
      "4       Biscoe               Yes                47.5               14.2   \n",
      "..         ...               ...                 ...                ...   \n",
      "269     Biscoe               Yes                44.4               17.3   \n",
      "270      Dream               Yes                36.4               17.0   \n",
      "271      Dream               Yes                42.2               18.5   \n",
      "272     Biscoe               Yes                37.8               18.3   \n",
      "273  Torgersen               Yes                42.9               17.6   \n",
      "\n",
      "     Flipper Length (mm)  Body Mass (g)     Sex  Delta 15 N (o/oo)  \\\n",
      "0                  180.0         3800.0    MALE            9.63954   \n",
      "1                  189.0         3325.0    MALE            9.32277   \n",
      "2                  186.0         3550.0  FEMALE            8.57199   \n",
      "3                  193.0         4250.0    MALE            9.25769   \n",
      "4                  209.0         4600.0  FEMALE            8.39299   \n",
      "..                   ...            ...     ...                ...   \n",
      "269                219.0         5250.0    MALE            8.13746   \n",
      "270                195.0         3325.0  FEMALE            9.17847   \n",
      "271                180.0         3550.0  FEMALE            8.04787   \n",
      "272                174.0         3400.0  FEMALE            8.73762   \n",
      "273                196.0         4700.0    MALE            8.63259   \n",
      "\n",
      "     Delta 13 C (o/oo)                              Species  \n",
      "0            -25.29856  Adelie Penguin (Pygoscelis adeliae)  \n",
      "1            -26.09989  Adelie Penguin (Pygoscelis adeliae)  \n",
      "2            -26.07188  Adelie Penguin (Pygoscelis adeliae)  \n",
      "3            -25.88798  Adelie Penguin (Pygoscelis adeliae)  \n",
      "4            -26.78733    Gentoo penguin (Pygoscelis papua)  \n",
      "..                 ...                                  ...  \n",
      "269          -26.79093    Gentoo penguin (Pygoscelis papua)  \n",
      "270          -25.23061  Adelie Penguin (Pygoscelis adeliae)  \n",
      "271          -25.49523  Adelie Penguin (Pygoscelis adeliae)  \n",
      "272          -25.09383  Adelie Penguin (Pygoscelis adeliae)  \n",
      "273          -26.23027  Adelie Penguin (Pygoscelis adeliae)  \n",
      "\n",
      "[274 rows x 10 columns]>\n"
     ]
    }
   ],
   "source": [
    "df = pd.read_csv(f\"./data/penguins_train.csv\")\n",
    "df = df.rename(columns={\"Clutch Completion\": \"Clutch_Completion\"})\n",
    "print(df.info)\n"
   ]
  },
  {
   "cell_type": "code",
   "execution_count": 3,
   "metadata": {},
   "outputs": [
    {
     "name": "stdout",
     "output_type": "stream",
     "text": [
      "0\n"
     ]
    },
    {
     "data": {
      "text/plain": [
       "Index(['Island', 'Clutch_Completion', 'Culmen Length (mm)',\n",
       "       'Culmen Depth (mm)', 'Flipper Length (mm)', 'Body Mass (g)', 'Sex',\n",
       "       'Delta 15 N (o/oo)', 'Delta 13 C (o/oo)', 'Species'],\n",
       "      dtype='object')"
      ]
     },
     "execution_count": 3,
     "metadata": {},
     "output_type": "execute_result"
    }
   ],
   "source": [
    "#Data Preprocessing\n",
    "def check_null_rows(df):\n",
    "    df_count_row_nan = df[df.isnull().any(axis=1)]\n",
    "    # print(f\"No.of rows with NaN values: {df_count_row_nan}\")\n",
    "    #Contains only 15 rows with NaN values\n",
    "    df = df.dropna(axis=0)\n",
    "    df.index = range(0, df.shape[0])\n",
    "    print(df.isnull().sum().sum())\n",
    "    return df \n",
    "    \n",
    "df = check_null_rows(df)\n",
    "df.columns"
   ]
  },
  {
   "cell_type": "code",
   "execution_count": 15,
   "metadata": {},
   "outputs": [
    {
     "name": "stderr",
     "output_type": "stream",
     "text": [
      "/home/vpk/miniconda3/envs/dlenv/lib/python3.11/site-packages/sklearn/preprocessing/_encoders.py:972: FutureWarning: `sparse` was renamed to `sparse_output` in version 1.2 and will be removed in 1.4. `sparse_output` is ignored unless you leave `sparse` to its default value.\n",
      "  warnings.warn(\n",
      "/home/vpk/miniconda3/envs/dlenv/lib/python3.11/site-packages/sklearn/preprocessing/_encoders.py:972: FutureWarning: `sparse` was renamed to `sparse_output` in version 1.2 and will be removed in 1.4. `sparse_output` is ignored unless you leave `sparse` to its default value.\n",
      "  warnings.warn(\n",
      "/home/vpk/miniconda3/envs/dlenv/lib/python3.11/site-packages/sklearn/preprocessing/_encoders.py:972: FutureWarning: `sparse` was renamed to `sparse_output` in version 1.2 and will be removed in 1.4. `sparse_output` is ignored unless you leave `sparse` to its default value.\n",
      "  warnings.warn(\n"
     ]
    }
   ],
   "source": [
    "from sklearn.preprocessing import LabelEncoder\n",
    "from sklearn.preprocessing import OneHotEncoder\n",
    "from sklearn.compose import ColumnTransformer, make_column_transformer\n",
    "from sklearn.metrics import accuracy_score\n",
    "\n",
    "def train_test_split(df, train_frac):\n",
    "    #Shuffle the dataframe\n",
    "    df = df.sample(frac=1)\n",
    "    df.index = range(0, df.shape[0])\n",
    "    train_df = df.loc[0:int(train_frac * len(df)) - 1,:]\n",
    "    test_df = df.loc[int(train_frac * len(df)):, :]\n",
    "    return train_df, test_df \n",
    "\n",
    "def encode_features(df, features):\n",
    "    label_encoder = LabelEncoder()\n",
    "    ohe = OneHotEncoder(sparse=True)\n",
    "    #Label Encoder followed by One Hot Encoding\n",
    "    for feature in features:\n",
    "        integer_encoded = label_encoder.fit_transform(df[feature]).reshape(-1,1)\n",
    "        # print(label_encoder.classes_)\n",
    "        array_hot_encoded = ohe.fit_transform(integer_encoded).toarray()\n",
    "        # print(ohe.categories_)\n",
    "        for i_iter, categories in enumerate(label_encoder.classes_):\n",
    "            df[f\"ohe_\" + feature + \"_\" + categories] = array_hot_encoded[:, i_iter]\n",
    "    # df_check = df.loc[:, ['Island', 'ohe_Island_Biscoe', 'ohe_Island_Dream', 'ohe_Island_Torgersen']]\n",
    "    # print(df_check)\n",
    "    # df_check_1 = df.loc[:, ['Sex', 'ohe_Sex_MALE', 'ohe_Sex_FEMALE']]\n",
    "    # print(df_check_1)\n",
    "    # print(f\"Waiting for input...\")\n",
    "    return df \n",
    "\n",
    "def encode_label(df, labelname):\n",
    "    label_encoder = LabelEncoder()\n",
    "    integer_encoded = label_encoder.fit_transform(df[labelname]).reshape(-1,1)\n",
    "    df['encoded_' + labelname] = integer_encoded\n",
    "    return df \n",
    "\n",
    "\n",
    "\n",
    "train_frac = 0.8\n",
    "df_subset = df.loc[:,:]\n",
    "df_subset = encode_features(df_subset, [\"Island\", \"Sex\", \"Clutch_Completion\"])\n",
    "df_subset = encode_label(df_subset, \"Species\")\n",
    "#Train Test Split\n",
    "df_train, df_test = train_test_split(df_subset, train_frac)"
   ]
  },
  {
   "cell_type": "code",
   "execution_count": 22,
   "metadata": {},
   "outputs": [
    {
     "name": "stdout",
     "output_type": "stream",
     "text": [
      "1.0\n"
     ]
    }
   ],
   "source": [
    "def create_bootstrap_train(df):\n",
    "    t_k = df.sample(n = df.shape[0], replace=True)\n",
    "    return t_k\n",
    "\n",
    "def create_dt(X_train, Y_train):\n",
    "    clf = DecisionTreeClassifier(criterion=\"gini\", max_features=\"log2\")\n",
    "    clf.fit(X_train, Y_train)\n",
    "    return clf \n",
    "\n",
    "#Creating the decision tree\n",
    "# #Testing the accuracy on the test set\n",
    "# yhat = clf.predict(X_test)\n",
    "# print(f\"Waiting for input...\")\n",
    "# accuracy_score(Y_test, yhat)\n",
    "n = 100\n",
    "feature_ls = ['ohe_Island_Biscoe', 'ohe_Island_Dream', 'ohe_Island_Torgersen', 'ohe_Sex_FEMALE', 'ohe_Sex_MALE',\\\n",
    "               'ohe_Clutch_Completion_No', 'ohe_Clutch_Completion_Yes', 'Culmen Length (mm)', 'Culmen Depth (mm)',\\\n",
    "                'Flipper Length (mm)', 'Body Mass (g)', 'Delta 15 N (o/oo)', 'Delta 13 C (o/oo)']\n",
    "label_ls = ['encoded_Species']\n",
    "clf_ls = []\n",
    "for i_iter in range(0, n):\n",
    "    df_bootstrap_train = create_bootstrap_train(df_train)\n",
    "    X_train, Y_train = df_bootstrap_train.loc[:, feature_ls].to_numpy(), df_bootstrap_train.loc[:, label_ls].to_numpy()\n",
    "    clf = create_dt(X_train, Y_train)\n",
    "    clf_ls.append(clf)\n",
    "\n",
    "\n",
    "#Prediction\n",
    "X_test, Y_test = df_test.loc[:, feature_ls].to_numpy(), df_test.loc[:, label_ls].to_numpy()\n",
    "for i_iter, classifier in enumerate(clf_ls):\n",
    "    Y_pred = classifier.predict(X_test).reshape(1,-1)\n",
    "    if i_iter == 0:\n",
    "        Y_pred_arr = Y_pred\n",
    "    else:\n",
    "        Y_pred_arr = np.concatenate((Y_pred_arr, Y_pred), axis=0)\n",
    "\n",
    "Y_pred_best_ls = []\n",
    "for j_iter in range(0, Y_pred_arr.shape[1]):\n",
    "    counts = np.bincount(Y_pred_arr[:,j_iter]) #count the number of elements of each value\n",
    "    Y_pred_best_ls.append(np.argwhere(counts == np.max(counts))[-1][0])\n",
    "\n",
    "\n",
    "print(accuracy_score(Y_test, Y_pred_best_ls))"
   ]
  }
 ],
 "metadata": {
  "kernelspec": {
   "display_name": "dlenv",
   "language": "python",
   "name": "python3"
  },
  "language_info": {
   "codemirror_mode": {
    "name": "ipython",
    "version": 3
   },
   "file_extension": ".py",
   "mimetype": "text/x-python",
   "name": "python",
   "nbconvert_exporter": "python",
   "pygments_lexer": "ipython3",
   "version": "3.11.4"
  },
  "orig_nbformat": 4
 },
 "nbformat": 4,
 "nbformat_minor": 2
}
